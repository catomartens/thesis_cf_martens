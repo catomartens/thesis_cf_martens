{
 "cells": [
  {
   "cell_type": "markdown",
   "id": "3ddef5d8",
   "metadata": {},
   "source": [
    "# Add No-Fly Zones to Area Data\n",
    "\n",
    "We now have a separate GeoDataFrame containing all linear infrastructures and natural corridors for the selected area or city, and another GeoDataFrame containing all no-fly zones in the Netherlands. This notebook ensures that the relevant no-fly zones are added to the area-specific data, resulting in a ready-to-use GeoDataFrame for generating a graph that avoids paths through no-fly zones."
   ]
  },
  {
   "cell_type": "code",
   "execution_count": null,
   "id": "b3b7055b",
   "metadata": {},
   "outputs": [],
   "source": [
    "# Import necessary libraries\n",
    "import geopandas as gpd\n",
    "import pandas as pd\n",
    "import osmnx as ox"
   ]
  },
  {
   "cell_type": "code",
   "execution_count": null,
   "id": "cfe484b8",
   "metadata": {},
   "outputs": [],
   "source": [
    "# Define the city or area for which we want to assign no-fly zones\n",
    "\n",
    "# city = 'borsele'\n",
    "# city = 'breda'\n",
    "city = 'alphen-waddinxveen'"
   ]
  },
  {
   "cell_type": "code",
   "execution_count": null,
   "id": "7fc250d2",
   "metadata": {},
   "outputs": [],
   "source": [
    "# Define the boundaries for the area of interest, use the same boundaries as used in the area data\n",
    "\n",
    "# boundaries = ['Borsele, Zeeland, Netherlands']\n",
    "# boundaries = ['Breda, North Brabant, Netherlands']\n",
    "boundaries = [\n",
    "    'Alphen aan den Rijn, Zuid-Holland, Netherlands',\n",
    "    'Waddinxveen, Zuid-Holland, Netherlands',\n",
    "    'Boskoop, Zuid-Holland, Netherlands'\n",
    "] "
   ]
  },
  {
   "cell_type": "code",
   "execution_count": null,
   "id": "cd06e960",
   "metadata": {},
   "outputs": [],
   "source": [
    "osm_data = gpd.read_file(f\"../2.risk_analysis/output/{city}/osm_data_with_risk_{city}.geojson\")"
   ]
  },
  {
   "cell_type": "code",
   "execution_count": null,
   "id": "fbbe8abd",
   "metadata": {},
   "outputs": [],
   "source": [
    "no_fly_zones = gpd.read_file(\"../3.no_fly_zones/input/gdf_no_fly_zones_nl_27feb.geojson\")"
   ]
  },
  {
   "cell_type": "code",
   "execution_count": null,
   "id": "90d5fb23",
   "metadata": {},
   "outputs": [],
   "source": [
    "# Get the boundaries as a GeoDataFrame\n",
    "boundary = ox.geocode_to_gdf(boundaries)\n",
    "\n",
    "# Make sure both are in the same CRS\n",
    "no_fly_zones = no_fly_zones.to_crs(boundary.crs)\n",
    "\n",
    "# Filter no-fly zones that are within the area\n",
    "no_fly_in_boundarie = no_fly_zones[no_fly_zones.geometry.intersects(boundary.geometry.iloc[0])].copy()"
   ]
  },
  {
   "cell_type": "code",
   "execution_count": null,
   "id": "f4b5d53f",
   "metadata": {},
   "outputs": [],
   "source": [
    "no_fly_in_boundarie['risk'] = 'no_fly_zone'"
   ]
  },
  {
   "cell_type": "code",
   "execution_count": null,
   "id": "f9528129",
   "metadata": {},
   "outputs": [],
   "source": [
    "# Concatenate the OSM data with the no-fly zones within the boundaries\n",
    "concatenated_gdf = pd.concat([osm_data, no_fly_in_boundarie], ignore_index=True)"
   ]
  },
  {
   "cell_type": "code",
   "execution_count": null,
   "id": "b8e6ad62",
   "metadata": {},
   "outputs": [],
   "source": [
    "mask = concatenated_gdf['risk'] == 'no_fly_zone'\n",
    "subset = concatenated_gdf[mask]\n",
    "\n",
    "counts = subset.groupby(subset.geometry.type)['area_type'].value_counts()\n",
    "\n",
    "print(\"Aantal area_types per geometry type voor risk='no_fly_zone':\")\n",
    "print(counts)"
   ]
  },
  {
   "cell_type": "code",
   "execution_count": null,
   "id": "1a6a8a72",
   "metadata": {},
   "outputs": [],
   "source": [
    "concatenated_gdf.to_file(f\"../3.no_fly_zones/output/data_for_graph_{city}.geojson\", driver=\"GeoJSON\")"
   ]
  },
  {
   "cell_type": "code",
   "execution_count": null,
   "id": "8cd7673d",
   "metadata": {},
   "outputs": [],
   "source": []
  }
 ],
 "metadata": {
  "kernelspec": {
   "display_name": "Python 3",
   "language": "python",
   "name": "python3"
  },
  "language_info": {
   "codemirror_mode": {
    "name": "ipython",
    "version": 3
   },
   "file_extension": ".py",
   "mimetype": "text/x-python",
   "name": "python",
   "nbconvert_exporter": "python",
   "pygments_lexer": "ipython3",
   "version": "3.13.2"
  }
 },
 "nbformat": 4,
 "nbformat_minor": 5
}
