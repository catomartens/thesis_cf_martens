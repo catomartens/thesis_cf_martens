{
 "cells": [
  {
   "cell_type": "code",
   "execution_count": null,
   "id": "b3b7055b",
   "metadata": {},
   "outputs": [],
   "source": [
    "import geopandas as gpd\n",
    "import pandas as pd\n",
    "import osmnx as ox"
   ]
  },
  {
   "cell_type": "code",
   "execution_count": null,
   "id": "cfe484b8",
   "metadata": {},
   "outputs": [],
   "source": [
    "# city = 'borsele'\n",
    "# city = 'breda'\n",
    "city = 'alphen-waddinxveen'"
   ]
  },
  {
   "cell_type": "code",
   "execution_count": null,
   "id": "7fc250d2",
   "metadata": {},
   "outputs": [],
   "source": [
    "# boundaries = ['Borsele, Zeeland, Netherlands']\n",
    "# boundaries = ['Breda, North Brabant, Netherlands']\n",
    "boundaries = [\n",
    "    'Alphen aan den Rijn, Zuid-Holland, Netherlands',\n",
    "    'Waddinxveen, Zuid-Holland, Netherlands',\n",
    "    'Boskoop, Zuid-Holland, Netherlands'\n",
    "] "
   ]
  },
  {
   "cell_type": "code",
   "execution_count": null,
   "id": "cd06e960",
   "metadata": {},
   "outputs": [],
   "source": [
    "osm_data = gpd.read_file(f\"/Users/cmartens/Documents/thesis_cf_martens/2.risk_analysis/output/{city}/osm_data_with_risk_{city}.geojson\")"
   ]
  },
  {
   "cell_type": "code",
   "execution_count": null,
   "id": "fbbe8abd",
   "metadata": {},
   "outputs": [],
   "source": [
    "no_fly_zones = gpd.read_file(\"/Users/cmartens/Documents/thesis_cf_martens/3.no_fly_zones/input/gdf_no_fly_zones_nl_27feb.geojson\")"
   ]
  },
  {
   "cell_type": "code",
   "execution_count": null,
   "id": "5b7ce836",
   "metadata": {},
   "outputs": [],
   "source": [
    "no_fly_zones['air_type'].unique()"
   ]
  },
  {
   "cell_type": "code",
   "execution_count": null,
   "id": "61680d5c",
   "metadata": {},
   "outputs": [],
   "source": [
    "counts = no_fly_zones.groupby(no_fly_zones.geometry.type)['area_type'].value_counts()\n",
    "\n",
    "print(\"Aantal area_types per geometry type voor risk='no_fly_zone':\")\n",
    "print(counts)"
   ]
  },
  {
   "cell_type": "code",
   "execution_count": null,
   "id": "90d5fb23",
   "metadata": {},
   "outputs": [],
   "source": [
    "boundary = ox.geocode_to_gdf(boundaries)\n",
    "\n",
    "# 2. Zorg dat beide in hetzelfde CRS staan\n",
    "no_fly_zones = no_fly_zones.to_crs(boundary.crs)\n",
    "\n",
    "# 3. Filter no-fly zones die binnen Breda vallen\n",
    "# (Gebruik 'intersects' als je ook gedeeltelijke overlap wilt toestaan)\n",
    "no_fly_in_boundarie = no_fly_zones[no_fly_zones.geometry.intersects(boundary.geometry.iloc[0])].copy()"
   ]
  },
  {
   "cell_type": "code",
   "execution_count": null,
   "id": "f4b5d53f",
   "metadata": {},
   "outputs": [],
   "source": [
    "no_fly_in_boundarie['risk'] = 'no_fly_zone'"
   ]
  },
  {
   "cell_type": "code",
   "execution_count": null,
   "id": "f9528129",
   "metadata": {},
   "outputs": [],
   "source": [
    "concatenated_gdf = pd.concat([osm_data, no_fly_in_boundarie], ignore_index=True)"
   ]
  },
  {
   "cell_type": "code",
   "execution_count": null,
   "id": "adbc6f1b",
   "metadata": {},
   "outputs": [],
   "source": [
    "# # 1. Projecteer eerst naar meters (bijv. RD New - EPSG:28992)\n",
    "# concatenated_gdf = concatenated_gdf.to_crs(epsg=28992)\n",
    "\n",
    "# # 2. Buffer points (cirkels van 50 meter)\n",
    "# mask_points = (concatenated_gdf['risk'] == 'no_fly_zone') & (concatenated_gdf.geometry.type == 'Point')\n",
    "\n",
    "# concatenated_gdf.loc[mask_points, 'geometry'] = concatenated_gdf.loc[mask_points, 'geometry'].apply(lambda pt: pt.buffer(50))\n",
    "\n",
    "# # 3. Buffer linestrings (smalle polygonen van 5 meter breed)\n",
    "# mask_lines = (concatenated_gdf['risk'] == 'no_fly_zone') & (concatenated_gdf.geometry.type == 'LineString')\n",
    "# concatenated_gdf.loc[mask_lines, 'geometry'] = concatenated_gdf.loc[mask_lines, 'geometry'].apply(lambda ln: ln.buffer(2.5))\n",
    "\n",
    "# # (Optioneel) Terugprojecteren naar WGS 84 (graden) als je export naar GeoJSON wilt\n",
    "# concatenated_gdf = concatenated_gdf.to_crs(epsg=4326)\n"
   ]
  },
  {
   "cell_type": "code",
   "execution_count": null,
   "id": "ea7193f4",
   "metadata": {},
   "outputs": [],
   "source": [
    "concatenated_gdf[concatenated_gdf['risk'] == 'no_fly_zone']"
   ]
  },
  {
   "cell_type": "code",
   "execution_count": null,
   "id": "b8e6ad62",
   "metadata": {},
   "outputs": [],
   "source": [
    "mask = concatenated_gdf['risk'] == 'no_fly_zone'\n",
    "subset = concatenated_gdf[mask]\n",
    "\n",
    "counts = subset.groupby(subset.geometry.type)['area_type'].value_counts()\n",
    "\n",
    "print(\"Aantal area_types per geometry type voor risk='no_fly_zone':\")\n",
    "print(counts)"
   ]
  },
  {
   "cell_type": "code",
   "execution_count": null,
   "id": "2020aafb",
   "metadata": {},
   "outputs": [],
   "source": [
    "concatenated_gdf[concatenated_gdf['area_type'] == 'Pedestrian and cycling paths']"
   ]
  },
  {
   "cell_type": "code",
   "execution_count": null,
   "id": "1a6a8a72",
   "metadata": {},
   "outputs": [],
   "source": [
    "concatenated_gdf.to_file(f\"/Users/cmartens/Documents/thesis_cf_martens/3.no_fly_zones/output/data_for_graph_{city}.geojson\", driver=\"GeoJSON\")"
   ]
  },
  {
   "cell_type": "code",
   "execution_count": null,
   "id": "8cd7673d",
   "metadata": {},
   "outputs": [],
   "source": []
  }
 ],
 "metadata": {
  "kernelspec": {
   "display_name": "Python 3",
   "language": "python",
   "name": "python3"
  },
  "language_info": {
   "codemirror_mode": {
    "name": "ipython",
    "version": 3
   },
   "file_extension": ".py",
   "mimetype": "text/x-python",
   "name": "python",
   "nbconvert_exporter": "python",
   "pygments_lexer": "ipython3",
   "version": "3.13.2"
  }
 },
 "nbformat": 4,
 "nbformat_minor": 5
}
