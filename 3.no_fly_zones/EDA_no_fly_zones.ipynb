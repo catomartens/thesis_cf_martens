{
 "cells": [
  {
   "cell_type": "markdown",
   "metadata": {},
   "source": [
    "# Exploratory Data Analysis on No-Fly Zone Data\n",
    "In this notebook, the dataset obtained from rijksoverheid.nl is analysed and prepared for analytical use in this study. Omdat \"Alle statische zonering en andere gebieden in ED269 format\" nog data mist van Natura 2000 areas (alleen het wadden gebied zit erin) hebben we een losse data set van de natura 2000 gemerged met data. Additionally, the Natura 2000 dataset is also analysed and merged with the government dataset."
   ]
  },
  {
   "cell_type": "code",
   "execution_count": null,
   "metadata": {},
   "outputs": [],
   "source": [
    "# Import necessary libraries\n",
    "import pandas as pd\n",
    "import geopandas as gpd\n",
    "import numpy as np\n",
    "import matplotlib.pyplot as plt\n",
    "import json\n",
    "import osmnx as ox\n",
    "from shapely.geometry import Point, Polygon\n",
    "import folium\n",
    "import shapely"
   ]
  },
  {
   "cell_type": "code",
   "execution_count": null,
   "metadata": {},
   "outputs": [],
   "source": [
    "# Load the data\n",
    "with open('../3.no_fly_zones/data/Alle statische zonering en andere gebieden in ED269 format - 22juli2024.JSON', \"r\", encoding=\"utf-8\") as file:\n",
    "    data = json.load(file)\n",
    "\n",
    "natura2000_zones = gpd.read_file(\"../3.no_fly_zones/data/natura2000.geojson\")\n",
    "natura2000_zones = natura2000_zones.to_crs(epsg=4326)"
   ]
  },
  {
   "cell_type": "markdown",
   "metadata": {},
   "source": [
    "## 1. Read data from Rijksoverheid"
   ]
  },
  {
   "cell_type": "code",
   "execution_count": null,
   "metadata": {},
   "outputs": [],
   "source": [
    "# Read the GeoJSON structure\n",
    "features = data.get(\"features\", [])\n",
    "if not isinstance(features, list):\n",
    "    raise ValueError(\"The JSON structure does not contain a list of features.\")\n",
    "\n",
    "# Extract relevant information\n",
    "geo_zones = []\n",
    "for feature in features:\n",
    "    identifier = feature.get(\"identifier\")\n",
    "    country = feature.get(\"country\")\n",
    "    name = feature.get(\"name\")\n",
    "    zone_type = feature.get(\"type\")\n",
    "    restriction = feature.get(\"restriction\")\n",
    "    reason = \", \".join(feature.get(\"reason\", [])) if isinstance(feature.get(\"reason\", []), list) else \"\"\n",
    "\n",
    "    # Extract 'zoneAuthority' (list)\n",
    "    zone_authority = feature.get(\"zoneAuthority\", [{}])\n",
    "    zone_authority_name = zone_authority[0].get(\"name\", \"\") if isinstance(zone_authority, list) else \"\"\n",
    "    zone_authority_email = zone_authority[0].get(\"email\", \"\") if isinstance(zone_authority, list) else \"\"\n",
    "\n",
    "    # Extract 'applicability'\n",
    "    applicability = feature.get(\"applicability\", [{}])\n",
    "    permanent = applicability[0].get(\"permanent\", \"\") if isinstance(applicability, list) else \"\"\n",
    "\n",
    "    # Extract 'message'\n",
    "    message = feature.get(\"message\", \"\")\n",
    "\n",
    "    # Extract 'geometry' (list)\n",
    "    geometry_list = feature.get(\"geometry\", [])\n",
    "    \n",
    "    # Process multiple geometries\n",
    "    for geometry in geometry_list:\n",
    "        upper_limit = geometry.get(\"upperLimit\", None)\n",
    "        lower_limit = geometry.get(\"lowerLimit\", None)\n",
    "        uom_dimensions = geometry.get(\"uomDimensions\", None)\n",
    "        upper_vertical_reference = geometry.get(\"upperVerticalReference\", None)\n",
    "        lower_vertical_reference = geometry.get(\"lowerVerticalReference\", None)\n",
    "\n",
    "        # Extract geometry type and coordinates\n",
    "        horizontal_projection = geometry.get(\"horizontalProjection\", {})\n",
    "        geometry_type = horizontal_projection.get(\"type\", \"\")\n",
    "        coordinates = horizontal_projection.get(\"coordinates\", [])\n",
    "        center = horizontal_projection.get(\"center\", None)\n",
    "        radius = horizontal_projection.get(\"radius\", None)\n",
    "\n",
    "        # Default geometry\n",
    "        shapely_geometry = None\n",
    "\n",
    "        # Convert different geometry types to Shapely\n",
    "        if geometry_type == \"Polygon\":\n",
    "            if isinstance(coordinates, list) and len(coordinates) > 0:\n",
    "                shapely_geometry = Polygon(coordinates[0])  # Eerste ring als Polygon\n",
    "        elif geometry_type == \"Circle\":\n",
    "            if isinstance(center, list) and len(center) == 2:\n",
    "                shapely_geometry = Point(center)  # Bewaar het middelpunt als een punt\n",
    "\n",
    "        geo_zones.append({\n",
    "            \"identifier\": identifier,\n",
    "            \"country\": country,\n",
    "            \"name\": name,\n",
    "            \"type\": zone_type,\n",
    "            \"restriction\": restriction,\n",
    "            \"reason\": reason,\n",
    "            \"zoneAuthority_name\": zone_authority_name,\n",
    "            \"permanent\": permanent,\n",
    "            \"message\": message,\n",
    "            \"upper_limit\": upper_limit,\n",
    "            \"lower_limit\": lower_limit,\n",
    "            \"geometry_type\": geometry_type,\n",
    "            \"geometry\": shapely_geometry,  # Dit is nu of een Polygon of een Point\n",
    "            \"circle_radius\": radius if geometry_type == \"Circle\" else None  # Houd de radius apart\n",
    "        })\n",
    "\n",
    "# Convert to DataFrame\n",
    "df = pd.DataFrame(geo_zones)"
   ]
  },
  {
   "cell_type": "code",
   "execution_count": null,
   "metadata": {},
   "outputs": [],
   "source": [
    "df"
   ]
  },
  {
   "cell_type": "markdown",
   "metadata": {},
   "source": [
    "## 2. Read Natura2000 data and merge"
   ]
  },
  {
   "cell_type": "code",
   "execution_count": null,
   "metadata": {},
   "outputs": [],
   "source": [
    "# Clean up the DataFrame\n",
    "natura2000_zones.rename(columns={\"id\": \"identifier\", \"naamN2K\": \"name\", \"status\": \"message\"}, inplace=True)\n",
    "natura2000_zones.drop(columns=[\"vhnNew\", \"nr\", \"beschermin\", \"sitecodeV\", \"sitecodeH\", \"kadaster\", \"staatscour\"], inplace=True)"
   ]
  },
  {
   "cell_type": "code",
   "execution_count": null,
   "metadata": {},
   "outputs": [],
   "source": [
    "# Add to natura2000_zones[\"name\"] Natura 2000 Area\n",
    "natura2000_zones[\"name\"] = \"Natura 2000 Area \" + natura2000_zones[\"name\"]"
   ]
  },
  {
   "cell_type": "code",
   "execution_count": null,
   "metadata": {},
   "outputs": [],
   "source": [
    "# Add upper and lower limits to the DataFrame\n",
    "natura2000_zones['upper_limit'] = 120\n",
    "natura2000_zones['lower_limit'] = 0"
   ]
  },
  {
   "cell_type": "code",
   "execution_count": null,
   "metadata": {},
   "outputs": [],
   "source": [
    "# Combine the two dataframes\n",
    "df = pd.concat([df, natura2000_zones], ignore_index=True)"
   ]
  },
  {
   "cell_type": "code",
   "execution_count": null,
   "metadata": {},
   "outputs": [],
   "source": [
    "df"
   ]
  },
  {
   "cell_type": "markdown",
   "metadata": {},
   "source": [
    "## 3. EDA on resulting dataframe"
   ]
  },
  {
   "cell_type": "code",
   "execution_count": null,
   "metadata": {},
   "outputs": [],
   "source": [
    "def EDA(column):\n",
    "    print(\"Data type of\", column, \"column: \", df[column].dtype)\n",
    "    print(\"NaN's in\", column, \"column: \", df[column].isna().sum())\n",
    "    print(\"Unique values in\", column, \"column: \", len(df[column].unique()), \"\\n\")\n",
    "    print(\"Value counts of\", column, \"column: \")\n",
    "    print(df[column].value_counts(), \"\\n\")"
   ]
  },
  {
   "cell_type": "code",
   "execution_count": null,
   "metadata": {},
   "outputs": [],
   "source": [
    "EDA('identifier')"
   ]
  },
  {
   "cell_type": "code",
   "execution_count": null,
   "metadata": {},
   "outputs": [],
   "source": [
    "EDA('country')"
   ]
  },
  {
   "cell_type": "code",
   "execution_count": null,
   "metadata": {},
   "outputs": [],
   "source": [
    "EDA('name')"
   ]
  },
  {
   "cell_type": "code",
   "execution_count": null,
   "metadata": {},
   "outputs": [],
   "source": [
    "# Function to categorize air types based on the name\n",
    "def air_type(name):\n",
    "    name = name.lower()  # Convert to lowercase for consistent comparison\n",
    "\n",
    "    # Trauma- en reddingshelikopter landingsplaatsen\n",
    "    if \"traumahelikopter\" in name or \"reddingshelikopter\" in name or \"TRAUMAHELICOPTER\" in name:\n",
    "        return \"Air Ambulance Landing Sites\"\n",
    "\n",
    "    # Nabijheid van vliegvelden (CTR - Controlled Traffic Region)\n",
    "    elif \"ctr\" in name:\n",
    "        return \"CTR Zones\"\n",
    "\n",
    "    elif \"nabijheid van vliegveld\" in name:\n",
    "        return \"Airports\"\n",
    "\n",
    "    # Defensiegebieden en militaire oefengebieden\n",
    "    elif \"defensiegebied\" in name or \"ehd\" in name:\n",
    "        return \"General Training Area (EHD)\"\n",
    "\n",
    "    # Permanent gereserveerde luchtruimen (Restricted Airspace - EHR)\n",
    "    elif \"ehr\" in name:\n",
    "        return \"Permanently Reserved Airspace (EHR)\"\n",
    "\n",
    "    # Tijdeijk gereserveerde luchtruimen (Temporary Reserved Airspace - EHTRA)\n",
    "    elif \"ehtra\" in name:\n",
    "        return \"Temporarily Reserved Airspace (EHTRA)\"\n",
    "\n",
    "    # Test- en dronegebieden (Special Activity Airspace - EHTSA)\n",
    "    elif \"ehtsa\" in name:\n",
    "        return \"Temporarily Segregated Airspace (EHTSA)\"\n",
    "\n",
    "    # Laagvliegzones (Military Low Flying Area - EHD)\n",
    "    elif \"laagvliegroute\" in name or \"laagvlieggebied\" in name or name.startswith(\"glv\"):\n",
    "        return \"Low-Flying Area (GLV) and low flight routes\"\n",
    "\n",
    "    # Havengebieden met risico’s op zware ongevallen\n",
    "    elif \"havengebied\" in name or \"industriegebied\" in name:\n",
    "        return \"High-Risk Areas\"\n",
    "\n",
    "    # Gebieden met speciale beveiliging\n",
    "    elif \"beveiligingsoverwegingen\" in name or \"vitaal proces\" in name or \"vitale processen\" in name:\n",
    "        return \"Restricted Zones\"\n",
    "\n",
    "    # Milieubeschermingsgebieden\n",
    "    elif \"natura\" in name or \"millieubeschermingsgebied\" in name or \"waddenzee\" in name:\n",
    "        return \"Protected Nature Reserves\"\n",
    "\n",
    "    # Verboden gebieden voor luchtverkeer (EHP - Prohibited Airspace)\n",
    "    elif \"verboden gebied\" in name or \"ehp\" in name:\n",
    "        return \"Prohibited Airspace (EHP)\"\n",
    "\n",
    "    # Oefengebieden voor externe blusinstallaties van helikopters\n",
    "    elif \"blusinstallatie\" in name:\n",
    "        return \"Firefighting Training Areas\"\n",
    "\n",
    "    # Anders: onbekende categorie\n",
    "    else:\n",
    "        return \"Unknown\""
   ]
  },
  {
   "cell_type": "code",
   "execution_count": null,
   "metadata": {},
   "outputs": [],
   "source": [
    "df[\"air_type\"] = df[\"name\"].apply(air_type)"
   ]
  },
  {
   "cell_type": "code",
   "execution_count": null,
   "metadata": {},
   "outputs": [],
   "source": [
    "df[\"air_type\"].value_counts()"
   ]
  },
  {
   "cell_type": "markdown",
   "metadata": {},
   "source": [
    "As discussed in the report, not all no-fly zones are treated as strictly prohibited areas in this study. Therefore, we distinguish between different types of no-fly zones."
   ]
  },
  {
   "cell_type": "code",
   "execution_count": null,
   "metadata": {},
   "outputs": [],
   "source": [
    "def no_fly_zones(air_type):\n",
    "    if air_type == \"Restricted Zones\":\n",
    "        return True\n",
    "    \n",
    "    elif air_type == \"High-Risk Areas\":\n",
    "        return True\n",
    "    \n",
    "    elif air_type == \"Protected Nature Reserves\":\n",
    "        return True\n",
    "\n",
    "    elif air_type == \"CTR Zones\":\n",
    "        return False\n",
    "\n",
    "    elif air_type == \"Air Ambulance Landing Sites\":\n",
    "        return True\n",
    "    \n",
    "    elif air_type == \"Temporarily Segregated Airspace (EHTSA)\":\n",
    "        return False\n",
    "\n",
    "    elif air_type == \"Permanently Reserved Airspace (EHR)\":\n",
    "        return True\n",
    "\n",
    "    elif air_type == \"General Training Area (EHD)\":\n",
    "        return True\n",
    "\n",
    "    elif air_type == \"Low-Flying Area (GLV) and low flight routes\":\n",
    "        return False\n",
    "\n",
    "    elif air_type == \"Airports\":\n",
    "        return False\n",
    "\n",
    "    elif air_type == \"Temporarily Reserved Airspace (EHTRA)\":\n",
    "        return False\n",
    "\n",
    "    elif air_type == \"Prohibited Airspace (EHP)\":\n",
    "        return True\n",
    "\n",
    "    elif air_type == \"Firefighting Training Areas\":\n",
    "        return True\n",
    "\n",
    "    else:\n",
    "        return False\n",
    "    "
   ]
  },
  {
   "cell_type": "code",
   "execution_count": null,
   "metadata": {},
   "outputs": [],
   "source": [
    "df[\"no_fly\"] = df[\"air_type\"].apply(no_fly_zones)"
   ]
  },
  {
   "cell_type": "code",
   "execution_count": null,
   "metadata": {},
   "outputs": [],
   "source": [
    "df['type'] = 'UAV geozone'"
   ]
  },
  {
   "cell_type": "code",
   "execution_count": null,
   "metadata": {},
   "outputs": [],
   "source": [
    "df"
   ]
  },
  {
   "cell_type": "markdown",
   "metadata": {},
   "source": [
    "### Now that both dataframes have been merged, we will explore the structure of the data using EDA."
   ]
  },
  {
   "cell_type": "code",
   "execution_count": null,
   "metadata": {},
   "outputs": [],
   "source": [
    "EDA('type')\n",
    "df.drop(columns=['type'], inplace=True)"
   ]
  },
  {
   "cell_type": "code",
   "execution_count": null,
   "metadata": {},
   "outputs": [],
   "source": [
    "EDA('restriction')"
   ]
  },
  {
   "cell_type": "code",
   "execution_count": null,
   "metadata": {},
   "outputs": [],
   "source": [
    "EDA('reason')"
   ]
  },
  {
   "cell_type": "code",
   "execution_count": null,
   "metadata": {},
   "outputs": [],
   "source": [
    "EDA('zoneAuthority_name')"
   ]
  },
  {
   "cell_type": "code",
   "execution_count": null,
   "metadata": {},
   "outputs": [],
   "source": [
    "EDA('permanent')"
   ]
  },
  {
   "cell_type": "code",
   "execution_count": null,
   "metadata": {},
   "outputs": [],
   "source": [
    "EDA('message')"
   ]
  },
  {
   "cell_type": "code",
   "execution_count": null,
   "metadata": {},
   "outputs": [],
   "source": [
    "df[df['message'] == \"Alle vluchten zijn hier verboden op 4 mei / all flights are prohibted on the 4th of may\"]"
   ]
  },
  {
   "cell_type": "markdown",
   "metadata": {},
   "source": [
    "These no-fly zones are related to Remembrance Day. Although they are marked as permanent, they are in fact temporary and can therefore be removed for the purposes of this analysis."
   ]
  },
  {
   "cell_type": "code",
   "execution_count": null,
   "metadata": {},
   "outputs": [],
   "source": [
    "# delete rows with message \"Alle vluchten zijn hier verboden op 4 mei / all flights are prohibted on the 4th of may\" \n",
    "df = df[df['message'] != \"Alle vluchten zijn hier verboden op 4 mei / all flights are prohibted on the 4th of may\"]"
   ]
  },
  {
   "cell_type": "code",
   "execution_count": null,
   "metadata": {},
   "outputs": [],
   "source": [
    "EDA('upper_limit')"
   ]
  },
  {
   "cell_type": "code",
   "execution_count": null,
   "metadata": {},
   "outputs": [],
   "source": [
    "EDA('lower_limit')"
   ]
  },
  {
   "cell_type": "markdown",
   "metadata": {},
   "source": [
    "Drones will operate only within Very Low-Level (VLL) airspace, so areas above 120 meters can be excluded from this analysis."
   ]
  },
  {
   "cell_type": "code",
   "execution_count": null,
   "metadata": {},
   "outputs": [],
   "source": [
    "len(df)"
   ]
  },
  {
   "cell_type": "code",
   "execution_count": null,
   "metadata": {},
   "outputs": [],
   "source": [
    "# Filter all rows with lower_limit > 120\n",
    "df = df[df['lower_limit'] <= 120]"
   ]
  },
  {
   "cell_type": "code",
   "execution_count": null,
   "metadata": {},
   "outputs": [],
   "source": [
    "len(df)"
   ]
  },
  {
   "cell_type": "code",
   "execution_count": null,
   "metadata": {},
   "outputs": [],
   "source": [
    "EDA('geometry_type')"
   ]
  },
  {
   "cell_type": "code",
   "execution_count": null,
   "metadata": {},
   "outputs": [],
   "source": [
    "EDA('geometry')"
   ]
  },
  {
   "cell_type": "code",
   "execution_count": null,
   "metadata": {},
   "outputs": [],
   "source": [
    "EDA('circle_radius')    "
   ]
  },
  {
   "cell_type": "code",
   "execution_count": null,
   "metadata": {},
   "outputs": [],
   "source": [
    "gdf = gpd.GeoDataFrame(df, geometry='geometry')"
   ]
  },
  {
   "cell_type": "code",
   "execution_count": null,
   "metadata": {},
   "outputs": [],
   "source": [
    "gdf = gdf.set_crs(\"EPSG:4326\")      "
   ]
  },
  {
   "cell_type": "code",
   "execution_count": null,
   "metadata": {},
   "outputs": [],
   "source": [
    "gdf = gdf.to_crs(\"EPSG:28992\") "
   ]
  },
  {
   "cell_type": "code",
   "execution_count": null,
   "metadata": {},
   "outputs": [],
   "source": [
    "# print geometry types\n",
    "print(gdf[\"geometry\"].geom_type.value_counts())"
   ]
  },
  {
   "cell_type": "markdown",
   "metadata": {},
   "source": [
    "Some geometries are in point format but should represent circular zones. We convert these points into circles by creating a multipolygon with a specified radius."
   ]
  },
  {
   "cell_type": "code",
   "execution_count": null,
   "metadata": {},
   "outputs": [],
   "source": [
    "def convert_points_to_polygons_from_radius(gdf, resolution=128):\n",
    "    \"\"\"\n",
    "    Sets all Point geometries to Polygon, with radius from 'circle_radius'.\n",
    "    Leaves existing Polygon geometries untouched.\n",
    "    \"\"\"\n",
    "    gdf = gdf.copy()\n",
    "\n",
    "    if gdf.crs.to_epsg() != 28992:\n",
    "        print(\"Warning: CRS is not in meters (EPSG:28992). Please convert first.\")\n",
    "\n",
    "    def convert_geometry(row):\n",
    "        radius = row.circle_radius\n",
    "        if row.geometry.geom_type == \"Point\" and not np.isnan(row.circle_radius):\n",
    "            return row.geometry.buffer(radius, resolution=resolution)\n",
    "        else:\n",
    "            return row.geometry\n",
    "\n",
    "    gdf[\"geometry\"] = gdf.apply(convert_geometry, axis=1)\n",
    "\n",
    "    # Update geometry_type field if it exists\n",
    "    if \"geometry_type\" in gdf.columns:\n",
    "        gdf[\"geometry_type\"] = gdf[\"geometry\"].geom_type\n",
    "\n",
    "    return gdf\n"
   ]
  },
  {
   "cell_type": "code",
   "execution_count": null,
   "metadata": {},
   "outputs": [],
   "source": [
    "gdf = convert_points_to_polygons_from_radius(gdf)"
   ]
  },
  {
   "cell_type": "code",
   "execution_count": null,
   "metadata": {},
   "outputs": [],
   "source": [
    "gdf = gdf.to_crs(\"EPSG:4326\")"
   ]
  },
  {
   "cell_type": "code",
   "execution_count": null,
   "metadata": {},
   "outputs": [],
   "source": [
    "# Select relevant columns\n",
    "gdf = gdf[['name', 'message','air_type', 'geometry', 'no_fly']]\n",
    "\n",
    "gdf.rename(columns={'message': 'description'}, inplace=True)"
   ]
  },
  {
   "cell_type": "code",
   "execution_count": null,
   "metadata": {},
   "outputs": [],
   "source": [
    "# print geometry types\n",
    "print(gdf[\"geometry\"].geom_type.value_counts())"
   ]
  },
  {
   "cell_type": "markdown",
   "metadata": {},
   "source": [
    "We also save the dataframe containing all no-fly zones as recorded by the government. This dataset can be used for further research."
   ]
  },
  {
   "cell_type": "code",
   "execution_count": null,
   "metadata": {},
   "outputs": [],
   "source": [
    "gdf.to_file('../3.no_fly_zones/input/gdf_all_airspace_zones_nl_27feb.geojson', index=False)"
   ]
  },
  {
   "cell_type": "code",
   "execution_count": null,
   "metadata": {},
   "outputs": [],
   "source": [
    "gdf_no_fly_zones = gdf[gdf['no_fly'] == True].copy()\n",
    "gdf_no_fly_zones['area_type'] = 'no_fly_zone'\n"
   ]
  },
  {
   "cell_type": "code",
   "execution_count": null,
   "metadata": {},
   "outputs": [],
   "source": [
    "gdf_no_fly_zones.drop(columns=['no_fly'], inplace=True)"
   ]
  },
  {
   "cell_type": "code",
   "execution_count": null,
   "metadata": {},
   "outputs": [],
   "source": [
    "gdf_no_fly_zones.to_file('/Users/cmartens/Documents/thesis_cf_martens/no_fly_zones/input/gdf_no_fly_zones_nl_27feb.geojson', index=False)"
   ]
  },
  {
   "cell_type": "code",
   "execution_count": null,
   "metadata": {},
   "outputs": [],
   "source": []
  }
 ],
 "metadata": {
  "kernelspec": {
   "display_name": "Python 3",
   "language": "python",
   "name": "python3"
  },
  "language_info": {
   "codemirror_mode": {
    "name": "ipython",
    "version": 3
   },
   "file_extension": ".py",
   "mimetype": "text/x-python",
   "name": "python",
   "nbconvert_exporter": "python",
   "pygments_lexer": "ipython3",
   "version": "3.13.2"
  }
 },
 "nbformat": 4,
 "nbformat_minor": 2
}
