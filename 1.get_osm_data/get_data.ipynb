{
 "cells": [
  {
   "cell_type": "markdown",
   "metadata": {},
   "source": [
    "# Get Data\n",
    "\n",
    "This notebook is the crucial first step in creating a graph network of linear infrastructures and natural corridors within a specific area. Here, you will define the area you want to model, and we will retrieve all relevant data. It is important to save the boundaries of your area, as you will need to use exactly the same boundaries in other parts of the workflow to avoid errors.\n",
    "\n",
    "A clear selection was made in this research regarding which types of data to retrieve, all of which are described and justified in the research report. However, this notebook gives you the flexibility to expand or reduce the data types as needed for your own purposes.\n",
    "\n",
    "If you want to collect data for different cities or areas, you can simply rerun this notebook with a different boundary and city name, and it will retrieve all the data for you.\n",
    "\n"
   ]
  },
  {
   "cell_type": "code",
   "execution_count": null,
   "metadata": {},
   "outputs": [],
   "source": [
    "# Import necessary libraries\n",
    "import numpy as np\n",
    "import matplotlib.pyplot as plt\n",
    "import osmnx as ox\n",
    "import pandas as pd\n",
    "import geopandas as gpd\n",
    "import os"
   ]
  },
  {
   "cell_type": "code",
   "execution_count": null,
   "metadata": {},
   "outputs": [],
   "source": [
    "# Set a fixed structure for the DataFrame\n",
    "# This structure will be used to ensure consistency across different datasets\n",
    "columns_to_keep = ['geometry', 'name', 'id', 'description', 'area_type', 'category']"
   ]
  },
  {
   "cell_type": "code",
   "execution_count": null,
   "metadata": {},
   "outputs": [],
   "source": [
    "# Define if you want to save the data in separate files\n",
    "save_separate_files = False"
   ]
  },
  {
   "cell_type": "markdown",
   "metadata": {},
   "source": [
    "## 0. Set boundaries\n",
    "\n",
    "Adapt the boundaries and city name to match the desired environment from which you want to retrieve data. The three boundaries already listed are examples that are used throughout this repository and in the thesis research. Make sure you create a folder for the output based on the city name within the output directory."
   ]
  },
  {
   "cell_type": "code",
   "execution_count": null,
   "metadata": {},
   "outputs": [],
   "source": [
    "# Set boundaries for the area of interest\n",
    "# Adapt the boundaries and city name to match the desired environment from which you want to retrieve data\n",
    "# The three boundaries already listed are examples that are used throughout this repository and in the thesis research\n",
    "\n",
    "boundaries = [\n",
    "    'Alphen aan den Rijn, Zuid-Holland, Netherlands',\n",
    "    'Waddinxveen, Zuid-Holland, Netherlands',\n",
    "    'Boskoop, Zuid-Holland, Netherlands'\n",
    "]\n",
    "\n",
    "# boundaries = ['Breda, Noord-Brabant, Netherlands']\n",
    "\n",
    "# boundaries = ['Borsele, Zeeland, Netherlands']"
   ]
  },
  {
   "cell_type": "code",
   "execution_count": null,
   "metadata": {},
   "outputs": [],
   "source": [
    "# Define the city name for output folder\n",
    "# This will be used to create a specific folder for the output data\n",
    "\n",
    "city = 'alphen-waddinxveen'\n",
    "# city = 'breda'\n",
    "# city = 'borsele'"
   ]
  },
  {
   "cell_type": "code",
   "execution_count": null,
   "metadata": {},
   "outputs": [],
   "source": [
    "file_name = f'{city}.geojson'"
   ]
  },
  {
   "cell_type": "code",
   "execution_count": null,
   "metadata": {},
   "outputs": [],
   "source": [
    "output_path = \"output/\" + city\n",
    "\n",
    "os.makedirs(output_path, exist_ok=True)"
   ]
  },
  {
   "cell_type": "markdown",
   "metadata": {},
   "source": [
    "## 1.  Mapping\n",
    "This section shows how we mapped all OSM data to the categories used in the study. We group them in this way to make the analysis easier. You can adjust these mappings to suit your own needs."
   ]
  },
  {
   "cell_type": "code",
   "execution_count": null,
   "metadata": {},
   "outputs": [],
   "source": [
    "# Function to map the area type based on the row data\n",
    "\n",
    "def determine_area_type_from_row(row):\n",
    "    # Transportation\n",
    "    if \"highway\" in row:\n",
    "        if row[\"highway\"] in [\"motorway\", \"trunk\", \"primary\"]:\n",
    "            return \"Motorways and major roads\"\n",
    "        elif row[\"highway\"] in [\"secondary\", \"tertiary\", \"residential\"]:\n",
    "            return \"Regional roads\"\n",
    "        elif row[\"highway\"] in [\"track\", \"unclassified\", \"service\"]:\n",
    "            return \"Tracks and rural access roads\"\n",
    "        elif row[\"highway\"] in [\"footway\", \"cycleway\", \"path\", \"bridleway\" ,\"pedestrian\"]:\n",
    "            return \"Pedestrian and cycling paths\"\n",
    "        elif row[\"highway\"] in [\"living_street\"]:\n",
    "            return \"Living and residential streets\"\n",
    "\n",
    "    if \"railway\" in row and row[\"railway\"] in [\"rail\", \"light_rail\"]:\n",
    "        return \"Railways\"\n",
    "\n",
    "    # Power-related\n",
    "    if \"power\" in row and row[\"power\"] in [\"line\", \"tower\"]:\n",
    "        return \"Power lines\"\n",
    "    if \"power\" in row and row[\"power\"] == \"plant\":\n",
    "        return \"Power plants\"\n",
    "\n",
    "    # Man-made infrastructure\n",
    "    if \"man_made\" in row:\n",
    "        val = row[\"man_made\"]\n",
    "        if val == \"waste_water_plant\":\n",
    "            return \"Power plants\"\n",
    "        elif val in [\"communications_tower\", \"mast\"]:\n",
    "            return \"Communication towers\"\n",
    "        elif val in [\"water_tower\", \"silo\", \"chimney\", \"tank\", \"windmill\", \"wind_turbine\"]:\n",
    "            return \"High infrastructures\"\n",
    "\n",
    "    # Land use types\n",
    "    if \"landuse\" in row:\n",
    "        val = row[\"landuse\"]\n",
    "        if val == \"industrial\":\n",
    "            return \"Industrial zones\"\n",
    "        elif val == \"commercial\":\n",
    "            return \"Commercial zones\"\n",
    "        elif val == \"retail\":\n",
    "            return \"Retail zones\"\n",
    "        elif val == \"residential\":\n",
    "            return \"Residential areas\"\n",
    "        elif val == \"recreation_ground\":\n",
    "            return \"Recreational zones\"\n",
    "        elif val in [\"farmland\", \"orchard\"]:\n",
    "            return \"Agricultural lands\"\n",
    "\n",
    "    # Nature areas\n",
    "    if \"landuse\" in row:\n",
    "        val = row[\"landuse\"]\n",
    "        if val in [\"forest\", \"wood\"]:\n",
    "            return \"Forests and woodlands\"\n",
    "        elif val in [\"meadow\", \"scrub\", \"grassland\", \"grass\"]:\n",
    "            return \"Meadows and open grass\"\n",
    "\n",
    "    if \"natural\" in row and row[\"natural\"] == \"wetland\":\n",
    "        return \"Wetlands\"\n",
    "\n",
    "    if \"wetland\" in row and row[\"wetland\"] in [\"marsh\", \"bog\", \"fen\"]:\n",
    "        return \"Wetlands\"\n",
    "\n",
    "    # Water areas\n",
    "    if \"waterway\" in row and row[\"waterway\"] in [\"river\", \"stream\", \"canal\"]:\n",
    "        return \"Rivers, canals and streams\"\n",
    "\n",
    "    if \"water\" in row and row[\"water\"] in [\"lake\", \"reservoir\", \"pond\"]:\n",
    "        return \"Lakes and ponds\"\n",
    "\n",
    "    if \"water\" in row and row[\"water\"] in [\"reservoir\"]:\n",
    "        return \"Reservoirs\"\n",
    "\n",
    "    # Public facilities\n",
    "    if \"amenity\" in row:\n",
    "        if row[\"amenity\"] in [\"school\", \"kindergarten\", \"university\"]:\n",
    "            return \"Schools and universities\"\n",
    "        if row[\"amenity\"] == \"hospital\":\n",
    "            return \"Hospitals\"\n",
    "        if row[\"amenity\"] == \"prison\":\n",
    "            return \"Prisons\"\n",
    "        if row[\"amenity\"] == \"place_of_worship\":\n",
    "            return \"Religious sites\"\n",
    "        if \"historic\" in row:\n",
    "            return \"Cultural sites\"\n",
    "        if \"tourism\" in row and row[\"tourism\"] == \"attraction\":\n",
    "            return \"Cultural sites\"\n",
    "        if \"landuse\" in row and row[\"landuse\"] == \"cemetery\":\n",
    "            return \"Cemeteries\"\n",
    "        if \"leisure\" in row and row[\"leisure\"] == \"park\":\n",
    "            return \"Parks\"\n",
    "\n",
    "    return \"Unknown\"\n",
    "\n"
   ]
  },
  {
   "cell_type": "markdown",
   "metadata": {},
   "source": [
    "## 2. Get all data from OSM\n",
    "\n",
    "We have divided the data into several subgroups. For each subgroup, you need to specify which OSM tags you want to retrieve. If you want to add more tags or need more information, you can visit https://wiki.openstreetmap.org/ for background information about the tags and their corresponding infrastructure."
   ]
  },
  {
   "cell_type": "markdown",
   "metadata": {},
   "source": [
    "### Transportation infrastructure"
   ]
  },
  {
   "cell_type": "code",
   "execution_count": null,
   "metadata": {},
   "outputs": [],
   "source": [
    "# Define the tags for the category of data to be retrieved from OSM\n",
    "transportation_tags = {\n",
    "    \"highway\": [\n",
    "        \"motorway\", \"trunk\", \"primary\",         # Motorways and major roads\n",
    "        \"secondary\", \"tertiary\", \"residential\", # Regional/local roads\n",
    "        \"living_street\",                        # Living streets    \n",
    "        \"track\", \"unclassified\", \"service\",     # Tracks and rural access roads\n",
    "        \"footway\", \"cycleway\", \"path\", \"bridleway\", \"pedestrian\"  # Pedestrian/cycling paths\n",
    "    ],\n",
    "    \"railway\": [\n",
    "        \"rail\", \"light_rail\"                    # Railways\n",
    "    ]\n",
    "}"
   ]
  },
  {
   "cell_type": "code",
   "execution_count": null,
   "metadata": {},
   "outputs": [],
   "source": [
    "# Get data from OSM\n",
    "transportation_data = ox.features_from_place(boundaries, tags=transportation_tags)"
   ]
  },
  {
   "cell_type": "code",
   "execution_count": null,
   "metadata": {},
   "outputs": [],
   "source": [
    "# Clean up the data\n",
    "transportation_data.reset_index(inplace=True)\n",
    "transportation_data[\"area_type\"] = transportation_data.apply(determine_area_type_from_row, axis=1)\n",
    "transportation_data['category'] = \"Transportation\""
   ]
  },
  {
   "cell_type": "code",
   "execution_count": null,
   "metadata": {},
   "outputs": [],
   "source": [
    "# Ensure all columns are present in the DataFrame\n",
    "for column in columns_to_keep:\n",
    "    if column not in transportation_data.columns:\n",
    "        transportation_data[column] = None\n",
    "\n",
    "transportation_data = transportation_data[columns_to_keep]"
   ]
  },
  {
   "cell_type": "code",
   "execution_count": null,
   "metadata": {},
   "outputs": [],
   "source": [
    "# Save the data to GeoJSON files\n",
    "if save_separate_files:\n",
    "    transportation_data.to_file(f'../1.get_osm_data/{output_path}/transportation_{file_name}')"
   ]
  },
  {
   "cell_type": "markdown",
   "metadata": {},
   "source": [
    "### Energy/Industrial"
   ]
  },
  {
   "cell_type": "code",
   "execution_count": null,
   "metadata": {},
   "outputs": [],
   "source": [
    "# Define the tags for the category of data to be retrieved from OSM\n",
    "energy_industrial_tags = {\n",
    "    \"power\": [\"line\", \"plant\", \"tower\"],\n",
    "    \"man_made\": [\n",
    "        \"waste_water_plant\", \n",
    "        \"communications_tower\", \n",
    "        \"mast\", \n",
    "        \"windmill\", \n",
    "        \"wind_turbine\", \n",
    "        \"water_tower\", \n",
    "        \"silo\", \n",
    "        \"chimney\", \n",
    "        \"tank\"\n",
    "    ]\n",
    "}"
   ]
  },
  {
   "cell_type": "code",
   "execution_count": null,
   "metadata": {},
   "outputs": [],
   "source": [
    "# Get data from OSM\n",
    "industrial_data = ox.features_from_place(boundaries, tags=energy_industrial_tags)"
   ]
  },
  {
   "cell_type": "code",
   "execution_count": null,
   "metadata": {},
   "outputs": [],
   "source": [
    "# Clean up the data\n",
    "industrial_data.reset_index(inplace=True)\n",
    "industrial_data['category'] = \"Energy/Industrial\"\n",
    "industrial_data[\"area_type\"] = industrial_data.apply(determine_area_type_from_row, axis=1)\n"
   ]
  },
  {
   "cell_type": "code",
   "execution_count": null,
   "metadata": {},
   "outputs": [],
   "source": [
    "# Ensure all columns are present in the DataFrame\n",
    "for column in columns_to_keep:\n",
    "    if column not in industrial_data.columns:\n",
    "        industrial_data[column] = None\n",
    "\n",
    "industrial_data = industrial_data[columns_to_keep]"
   ]
  },
  {
   "cell_type": "code",
   "execution_count": null,
   "metadata": {},
   "outputs": [],
   "source": [
    "# Save the data to GeoJSON files\n",
    "if save_separate_files:\n",
    "    industrial_data.to_file(f'../1.get_osm_data/{output_path}/energy_industrial_{file_name}')"
   ]
  },
  {
   "cell_type": "markdown",
   "metadata": {},
   "source": [
    "### Land use"
   ]
  },
  {
   "cell_type": "code",
   "execution_count": null,
   "metadata": {},
   "outputs": [],
   "source": [
    "# Define the tags for the category of data to be retrieved from OSM\n",
    "land_use_tags = {\n",
    "    \"landuse\": [\n",
    "        \"industrial\",\n",
    "        \"commercial\",\n",
    "        \"retail\",\n",
    "        \"residential\",\n",
    "        \"recreation_ground\",\n",
    "        \"farmland\",\n",
    "        \"orchard\"\n",
    "    ]\n",
    "}"
   ]
  },
  {
   "cell_type": "code",
   "execution_count": null,
   "metadata": {},
   "outputs": [],
   "source": [
    "# Get data from OSM\n",
    "land_use_data = ox.features_from_place(boundaries, tags=land_use_tags)"
   ]
  },
  {
   "cell_type": "code",
   "execution_count": null,
   "metadata": {},
   "outputs": [],
   "source": [
    "# Clean up the data\n",
    "land_use_data.reset_index(inplace=True)\n",
    "land_use_data['category'] = \"Land use\"\n",
    "land_use_data[\"area_type\"] = land_use_data.apply(determine_area_type_from_row, axis=1)"
   ]
  },
  {
   "cell_type": "code",
   "execution_count": null,
   "metadata": {},
   "outputs": [],
   "source": [
    "# Ensure all columns are present in the DataFrame\n",
    "for column in columns_to_keep:\n",
    "    if column not in land_use_data.columns:\n",
    "        land_use_data[column] = None\n",
    "\n",
    "land_use_data = land_use_data[columns_to_keep]"
   ]
  },
  {
   "cell_type": "code",
   "execution_count": null,
   "metadata": {},
   "outputs": [],
   "source": [
    "# Save the data to GeoJSON files\n",
    "if save_separate_files:\n",
    "    land_use_data.to_file(f'../1.get_osm_data/{output_path}/land_use_{file_name}')"
   ]
  },
  {
   "cell_type": "markdown",
   "metadata": {},
   "source": [
    "### Nature"
   ]
  },
  {
   "cell_type": "code",
   "execution_count": null,
   "metadata": {},
   "outputs": [],
   "source": [
    "# Define the tags for the category of data to be retrieved from OSM\n",
    "nature_tags = {\n",
    "    \"landuse\": [\"forest\", \"wood\", \"scrub\", \"meadow\", \"grass\", \"grassland\"],\n",
    "    \"natural\": [\"wetland\"],\n",
    "    \"wetland\": [\"marsh\", \"bog\", \"fen\"]\n",
    "}"
   ]
  },
  {
   "cell_type": "code",
   "execution_count": null,
   "metadata": {},
   "outputs": [],
   "source": [
    "# Get data from OSM\n",
    "nature_data = ox.features_from_place(boundaries, tags=nature_tags)\n"
   ]
  },
  {
   "cell_type": "code",
   "execution_count": null,
   "metadata": {},
   "outputs": [],
   "source": [
    "# Clean up the data\n",
    "nature_data.reset_index(inplace=True)\n",
    "nature_data[\"area_type\"] = nature_data.apply(determine_area_type_from_row, axis=1)\n",
    "nature_data['category'] = \"Nature\""
   ]
  },
  {
   "cell_type": "code",
   "execution_count": null,
   "metadata": {},
   "outputs": [],
   "source": [
    "# Ensure all columns are present in the DataFrame\n",
    "for column in columns_to_keep:\n",
    "    if column not in nature_data.columns:\n",
    "        nature_data[column] = None\n",
    "\n",
    "nature_data = nature_data[columns_to_keep]"
   ]
  },
  {
   "cell_type": "code",
   "execution_count": null,
   "metadata": {},
   "outputs": [],
   "source": [
    "# Save the data to GeoJSON files\n",
    "if save_separate_files:\n",
    "    nature_data.to_file(f'../1.get_osm_data/{output_path}/nature_{file_name}')"
   ]
  },
  {
   "cell_type": "markdown",
   "metadata": {},
   "source": [
    "### Water"
   ]
  },
  {
   "cell_type": "code",
   "execution_count": null,
   "metadata": {},
   "outputs": [],
   "source": [
    "# Define the tags for the category of data to be retrieved from OSM\n",
    "water_tags = {\n",
    "    \"waterway\": [\"river\", \"stream\", \"canal\"],\n",
    "    \"water\": [\"lake\", \"reservoir\", \"pond\", \"bog\", \"fen\"] \n",
    "}"
   ]
  },
  {
   "cell_type": "code",
   "execution_count": null,
   "metadata": {},
   "outputs": [],
   "source": [
    "# Get data from OSM\n",
    "water_data = ox.features_from_place(boundaries, tags=water_tags)"
   ]
  },
  {
   "cell_type": "code",
   "execution_count": null,
   "metadata": {},
   "outputs": [],
   "source": [
    "# Clean up the data\n",
    "water_data.reset_index(inplace=True)\n",
    "water_data[\"area_type\"] = water_data.apply(determine_area_type_from_row, axis=1)\n",
    "water_data['category'] = \"Water\""
   ]
  },
  {
   "cell_type": "code",
   "execution_count": null,
   "metadata": {},
   "outputs": [],
   "source": [
    "# Ensure all columns are present in the DataFrame\n",
    "for column in columns_to_keep:\n",
    "    if column not in water_data.columns:\n",
    "        water_data[column] = None\n",
    "\n",
    "water_data = water_data[columns_to_keep]"
   ]
  },
  {
   "cell_type": "code",
   "execution_count": null,
   "metadata": {},
   "outputs": [],
   "source": [
    "# Save the data to GeoJSON files\n",
    "if save_separate_files:\n",
    "    water_data.to_file(f'../1.get_osm_data/{output_path}/water_{file_name}')"
   ]
  },
  {
   "cell_type": "markdown",
   "metadata": {},
   "source": [
    "### Public facility"
   ]
  },
  {
   "cell_type": "code",
   "execution_count": null,
   "metadata": {},
   "outputs": [],
   "source": [
    "# Define the tags for the category of data to be retrieved from OSM\n",
    "public_facility_tags = {\n",
    "    \"amenity\": [\n",
    "        \"school\",\n",
    "        \"kindergarten\",\n",
    "        \"university\",\n",
    "        \"hospital\",\n",
    "        \"prison\",\n",
    "        \"place_of_worship\"],\n",
    "    \"historic\": [\"*\"], \n",
    "    \"tourism\": [\"attraction\"],\n",
    "    \"landuse\": [\"cemetery\"],\n",
    "    \"leisure\": [\"park\"]\n",
    "}"
   ]
  },
  {
   "cell_type": "code",
   "execution_count": null,
   "metadata": {},
   "outputs": [],
   "source": [
    "# Get data from OSM\n",
    "public_data = ox.features_from_place(boundaries, tags=public_facility_tags)"
   ]
  },
  {
   "cell_type": "code",
   "execution_count": null,
   "metadata": {},
   "outputs": [],
   "source": [
    "# Clean up the data\n",
    "public_data.reset_index(inplace=True)\n",
    "public_data['category'] = 'Public facility'\n",
    "public_data[\"area_type\"] = public_data.apply(determine_area_type_from_row, axis=1)"
   ]
  },
  {
   "cell_type": "code",
   "execution_count": null,
   "metadata": {},
   "outputs": [],
   "source": [
    "# Ensure all columns are present in the DataFrame\n",
    "for column in columns_to_keep:\n",
    "    if column not in public_data.columns:\n",
    "        public_data[column] = None\n",
    "\n",
    "public_data = public_data[columns_to_keep]"
   ]
  },
  {
   "cell_type": "code",
   "execution_count": null,
   "metadata": {},
   "outputs": [],
   "source": [
    "# Save the data to GeoJSON files\n",
    "if save_separate_files:\n",
    "    public_data.to_file(f'../1.get_osm_data/{output_path}/public_facilities_{file_name}')"
   ]
  },
  {
   "cell_type": "markdown",
   "metadata": {},
   "source": [
    "### Postnl"
   ]
  },
  {
   "cell_type": "code",
   "execution_count": null,
   "metadata": {},
   "outputs": [],
   "source": [
    "# Define the tags for the category of data to be retrieved from OSM\n",
    "post_tags = {\"amenity\": [\"post_office\", \"post_box\", \"post_depot\"]}"
   ]
  },
  {
   "cell_type": "code",
   "execution_count": null,
   "metadata": {},
   "outputs": [],
   "source": [
    "# Get data from OSM\n",
    "post_data = ox.features_from_place(boundaries, tags=post_tags)"
   ]
  },
  {
   "cell_type": "code",
   "execution_count": null,
   "metadata": {},
   "outputs": [],
   "source": [
    "# Clean up the data\n",
    "post_data.reset_index(inplace=True)"
   ]
  },
  {
   "cell_type": "code",
   "execution_count": null,
   "metadata": {},
   "outputs": [],
   "source": [
    "# Ensure all columns are present in the DataFrame\n",
    "for column in columns_to_keep:\n",
    "    if column not in post_data.columns:\n",
    "        post_data[column] = None\n",
    "\n",
    "post_data = post_data[columns_to_keep]"
   ]
  },
  {
   "cell_type": "code",
   "execution_count": null,
   "metadata": {},
   "outputs": [],
   "source": [
    "# Clean up the data\n",
    "post_data['area_type'] = 'postnl point'\n",
    "post_data['category'] = 'PostNL'"
   ]
  },
  {
   "cell_type": "code",
   "execution_count": null,
   "metadata": {},
   "outputs": [],
   "source": [
    "# Save the data to GeoJSON files\n",
    "if save_separate_files:\n",
    "    post_data.to_file(f'../1.get_osm_data/{output_path}/post_{file_name}')"
   ]
  },
  {
   "cell_type": "markdown",
   "metadata": {},
   "source": [
    "## 2. Concat all data\n",
    "\n",
    "Now that we have collected all the data, we want to combine it into a clean dataframe."
   ]
  },
  {
   "cell_type": "code",
   "execution_count": null,
   "metadata": {},
   "outputs": [],
   "source": [
    "categories = [\n",
    "    transportation_data,\n",
    "    industrial_data,\n",
    "    land_use_data,\n",
    "    nature_data,\n",
    "    water_data,\n",
    "    public_data,\n",
    "    post_data\n",
    "]\n",
    "\n",
    "# Filter out None\n",
    "categories = [cat for cat in categories if cat is not None]\n",
    "\n",
    "# Concat if there's anything to concat\n",
    "if categories:\n",
    "    df = pd.concat(categories, ignore_index=True)\n",
    "else:\n",
    "    print(\"No data to combine.\")\n"
   ]
  },
  {
   "cell_type": "code",
   "execution_count": null,
   "metadata": {},
   "outputs": [],
   "source": [
    "with pd.option_context('display.max_rows', None, 'display.max_columns', None):\n",
    "    print(df['area_type'].value_counts())"
   ]
  },
  {
   "cell_type": "code",
   "execution_count": null,
   "metadata": {},
   "outputs": [],
   "source": [
    "# Convert the DataFrame to a GeoDataFrame\n",
    "gdf = gpd.GeoDataFrame(df, crs=\"EPSG:4326\")"
   ]
  },
  {
   "cell_type": "code",
   "execution_count": null,
   "metadata": {},
   "outputs": [],
   "source": [
    "# if the whole row is dubplicate, drop it, print how many were dropped\n",
    "print(f\"Number of duplicates before dropping: {len(gdf)}\")\n",
    "\n",
    "gdf = gdf.drop_duplicates(subset=['geometry', 'name', 'id', 'description'])\n",
    "print(f\"Number of duplicates after dropping: {len(gdf)}\")\n"
   ]
  },
  {
   "cell_type": "code",
   "execution_count": null,
   "metadata": {},
   "outputs": [],
   "source": [
    "# Save the combined data to a GeoJSON file\n",
    "gdf.to_file(f'../1.get_osm_data/{output_path}/osm_data_{city}.geojson', driver='GeoJSON')"
   ]
  }
 ],
 "metadata": {
  "kernelspec": {
   "display_name": "Python 3",
   "language": "python",
   "name": "python3"
  },
  "language_info": {
   "codemirror_mode": {
    "name": "ipython",
    "version": 3
   },
   "file_extension": ".py",
   "mimetype": "text/x-python",
   "name": "python",
   "nbconvert_exporter": "python",
   "pygments_lexer": "ipython3",
   "version": "3.13.2"
  }
 },
 "nbformat": 4,
 "nbformat_minor": 2
}
