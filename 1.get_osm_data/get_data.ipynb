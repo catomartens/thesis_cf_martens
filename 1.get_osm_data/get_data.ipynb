{
 "cells": [
  {
   "cell_type": "code",
   "execution_count": 1,
   "metadata": {},
   "outputs": [],
   "source": [
    "import osmnx as ox\n",
    "import pandas as pd\n",
    "import geopandas as gpd\n",
    "import os"
   ]
  },
  {
   "cell_type": "code",
   "execution_count": 2,
   "metadata": {},
   "outputs": [],
   "source": [
    "columns_to_keep = ['geometry', 'name', 'id', 'description', 'area_type', 'category']"
   ]
  },
  {
   "cell_type": "markdown",
   "metadata": {},
   "source": [
    "## Adapt the boundaries and file name to the desired environment to retrieve data from\n",
    "\n",
    "Make sure you created a folder"
   ]
  },
  {
   "cell_type": "code",
   "execution_count": 3,
   "metadata": {},
   "outputs": [],
   "source": [
    "boundaries = [\n",
    "    'Alphen aan den Rijn, Zuid-Holland, Netherlands',\n",
    "    'Waddinxveen, Zuid-Holland, Netherlands',\n",
    "    'Boskoop, Zuid-Holland, Netherlands'\n",
    "]\n",
    "\n",
    "# boundaries = ['Breda, Noord-Brabant, Netherlands']\n",
    "\n",
    "# boundaries = ['Borsele, Zeeland, Netherlands']"
   ]
  },
  {
   "cell_type": "code",
   "execution_count": 4,
   "metadata": {},
   "outputs": [],
   "source": [
    "city = 'alphen-waddinxveen'\n",
    "# city = 'breda'\n",
    "# city = 'borsele'"
   ]
  },
  {
   "cell_type": "code",
   "execution_count": 5,
   "metadata": {},
   "outputs": [],
   "source": [
    "file_name = f'{city}.geojson'"
   ]
  },
  {
   "cell_type": "code",
   "execution_count": 6,
   "metadata": {},
   "outputs": [],
   "source": [
    "output_path = \"output/\" + city\n",
    "\n",
    "os.makedirs(output_path, exist_ok=True)"
   ]
  },
  {
   "cell_type": "code",
   "execution_count": 7,
   "metadata": {},
   "outputs": [],
   "source": [
    "save_separate_files = False"
   ]
  },
  {
   "cell_type": "markdown",
   "metadata": {},
   "source": [
    "# Mapping"
   ]
  },
  {
   "cell_type": "code",
   "execution_count": 8,
   "metadata": {},
   "outputs": [],
   "source": [
    "def determine_area_type_from_row(row):\n",
    "    # Transportation\n",
    "    if \"highway\" in row:\n",
    "        if row[\"highway\"] in [\"motorway\", \"trunk\", \"primary\"]:\n",
    "            return \"Motorways and major roads\"\n",
    "        elif row[\"highway\"] in [\"secondary\", \"tertiary\", \"residential\"]:\n",
    "            return \"Regional roads\"\n",
    "        elif row[\"highway\"] in [\"track\", \"unclassified\", \"service\"]:\n",
    "            return \"Tracks and rural access roads\"\n",
    "        elif row[\"highway\"] in [\"footway\", \"cycleway\", \"path\", \"bridleway\" ,\"pedestrian\"]:\n",
    "            return \"Pedestrian and cycling paths\"\n",
    "        elif row[\"highway\"] in [\"living_street\"]:\n",
    "            return \"Living and residential streets\"\n",
    "\n",
    "    if \"railway\" in row and row[\"railway\"] in [\"rail\", \"light_rail\"]:\n",
    "        return \"Railways\"\n",
    "\n",
    "    # Power-related\n",
    "    if \"power\" in row and row[\"power\"] in [\"line\", \"tower\"]:\n",
    "        return \"Power lines\"\n",
    "    if \"power\" in row and row[\"power\"] == \"plant\":\n",
    "        return \"Power plants\"\n",
    "\n",
    "    # Man-made infrastructure\n",
    "    if \"man_made\" in row:\n",
    "        val = row[\"man_made\"]\n",
    "        if val == \"waste_water_plant\":\n",
    "            return \"Power plants\"\n",
    "        elif val in [\"communications_tower\", \"mast\"]:\n",
    "            return \"Communication towers\"\n",
    "        elif val in [\"water_tower\", \"silo\", \"chimney\", \"tank\", \"windmill\", \"wind_turbine\"]:\n",
    "            return \"High infrastructures\"\n",
    "\n",
    "    # Land use types\n",
    "    if \"landuse\" in row:\n",
    "        val = row[\"landuse\"]\n",
    "        if val == \"industrial\":\n",
    "            return \"Industrial zones\"\n",
    "        elif val == \"commercial\":\n",
    "            return \"Commercial zones\"\n",
    "        elif val == \"retail\":\n",
    "            return \"Retail zones\"\n",
    "        elif val == \"residential\":\n",
    "            return \"Residential areas\"\n",
    "        elif val == \"recreation_ground\":\n",
    "            return \"Recreational zones\"\n",
    "        elif val in [\"farmland\", \"orchard\"]:\n",
    "            return \"Agricultural lands\"\n",
    "\n",
    "    # Nature areas\n",
    "    if \"landuse\" in row:\n",
    "        val = row[\"landuse\"]\n",
    "        if val in [\"forest\", \"wood\"]:\n",
    "            return \"Forests and woodlands\"\n",
    "        elif val in [\"meadow\", \"scrub\", \"grassland\", \"grass\"]:\n",
    "            return \"Meadows and open grass\"\n",
    "\n",
    "    if \"natural\" in row and row[\"natural\"] == \"wetland\":\n",
    "        return \"Wetlands\"\n",
    "\n",
    "    if \"wetland\" in row and row[\"wetland\"] in [\"marsh\", \"bog\", \"fen\"]:\n",
    "        return \"Wetlands\"\n",
    "\n",
    "    # Water areas\n",
    "    if \"waterway\" in row and row[\"waterway\"] in [\"river\", \"stream\", \"canal\"]:\n",
    "        return \"Rivers, canals and streams\"\n",
    "\n",
    "    if \"water\" in row and row[\"water\"] in [\"lake\", \"reservoir\", \"pond\"]:\n",
    "        return \"Lakes and ponds\"\n",
    "\n",
    "    if \"water\" in row and row[\"water\"] in [\"reservoir\"]:\n",
    "        return \"Reservoirs\"\n",
    "\n",
    "    # Public facilities\n",
    "    if \"amenity\" in row:\n",
    "        if row[\"amenity\"] in [\"school\", \"kindergarten\", \"university\"]:\n",
    "            return \"Schools and universities\"\n",
    "        if row[\"amenity\"] == \"hospital\":\n",
    "            return \"Hospitals\"\n",
    "        if row[\"amenity\"] == \"prison\":\n",
    "            return \"Prisons\"\n",
    "        if row[\"amenity\"] == \"place_of_worship\":\n",
    "            return \"Religious sites\"\n",
    "        if \"historic\" in row:\n",
    "            return \"Cultural sites\"\n",
    "        if \"tourism\" in row and row[\"tourism\"] == \"attraction\":\n",
    "            return \"Cultural sites\"\n",
    "        if \"landuse\" in row and row[\"landuse\"] == \"cemetery\":\n",
    "            return \"Cemeteries\"\n",
    "        if \"leisure\" in row and row[\"leisure\"] == \"park\":\n",
    "            return \"Parks\"\n",
    "\n",
    "    # Airports and aviation\n",
    "    if \"aeroway\" in row:\n",
    "        val = row[\"aeroway\"]\n",
    "        if val in [\"aerodrome\", \"airstrip\", \"heliport\", 'apron']:\n",
    "            return \"Airports and airfields\"\n",
    "        elif val == \"helipad\":\n",
    "            return \"Helipads\"\n",
    "        elif val in [\"runway\", \"aprons\"]:\n",
    "            return \"Runways and aprons\"\n",
    "        elif val in [\"terminal\", \"gate\"]:\n",
    "            return \"Passenger terminals\"\n",
    "        elif val in [\"hangar\"]:\n",
    "            return \"Hangars and support buildings\"\n",
    "\n",
    "    if \"man_made\" in row and row[\"man_made\"] == \"control_tower\":\n",
    "        return \"Hangars and support buildings\"\n",
    "\n",
    "\n",
    "    return \"Unknown\"\n",
    "\n"
   ]
  },
  {
   "cell_type": "markdown",
   "metadata": {},
   "source": [
    "## Transportation infrastructure"
   ]
  },
  {
   "cell_type": "code",
   "execution_count": 9,
   "metadata": {},
   "outputs": [],
   "source": [
    "transportation_tags = {\n",
    "    \"highway\": [\n",
    "        \"motorway\", \"trunk\", \"primary\",         # Motorways and major roads\n",
    "        \"secondary\", \"tertiary\", \"residential\", # Regional/local roads\n",
    "        \"living_street\",                        # Living streets    \n",
    "        \"track\", \"unclassified\", \"service\",     # Tracks and rural access roads\n",
    "        \"footway\", \"cycleway\", \"path\", \"bridleway\", \"pedestrian\"  # Pedestrian/cycling paths\n",
    "    ],\n",
    "    \"railway\": [\n",
    "        \"rail\", \"light_rail\"                    # Railways\n",
    "    ]\n",
    "}"
   ]
  },
  {
   "cell_type": "code",
   "execution_count": 10,
   "metadata": {},
   "outputs": [],
   "source": [
    "# Get data from OSM\n",
    "transportation_data = ox.features_from_place(boundaries, tags=transportation_tags)"
   ]
  },
  {
   "cell_type": "code",
   "execution_count": 11,
   "metadata": {},
   "outputs": [],
   "source": [
    "transportation_data.reset_index(inplace=True)"
   ]
  },
  {
   "cell_type": "code",
   "execution_count": 12,
   "metadata": {},
   "outputs": [],
   "source": [
    "transportation_data[\"area_type\"] = transportation_data.apply(determine_area_type_from_row, axis=1)\n"
   ]
  },
  {
   "cell_type": "code",
   "execution_count": 13,
   "metadata": {},
   "outputs": [],
   "source": [
    "transportation_data['category'] = \"Transportation\""
   ]
  },
  {
   "cell_type": "code",
   "execution_count": 14,
   "metadata": {},
   "outputs": [],
   "source": [
    "for column in columns_to_keep:\n",
    "    if column not in transportation_data.columns:\n",
    "        transportation_data[column] = None\n",
    "\n",
    "transportation_data = transportation_data[columns_to_keep]"
   ]
  },
  {
   "cell_type": "code",
   "execution_count": 15,
   "metadata": {},
   "outputs": [
    {
     "data": {
      "text/plain": [
       "array(['Pedestrian and cycling paths', 'Tracks and rural access roads',\n",
       "       'Regional roads', 'Living and residential streets',\n",
       "       'Motorways and major roads', 'Railways'], dtype=object)"
      ]
     },
     "execution_count": 15,
     "metadata": {},
     "output_type": "execute_result"
    }
   ],
   "source": [
    "transportation_data['area_type'].unique()"
   ]
  },
  {
   "cell_type": "code",
   "execution_count": 16,
   "metadata": {},
   "outputs": [],
   "source": [
    "if save_separate_files:\n",
    "    transportation_data.to_file(f'/Users/cmartens/Documents/Thesis/model/OSM_data/output/{folder_name}/transportation_{file_name}')"
   ]
  },
  {
   "cell_type": "markdown",
   "metadata": {},
   "source": [
    "## Energy/Industrial"
   ]
  },
  {
   "cell_type": "code",
   "execution_count": 17,
   "metadata": {},
   "outputs": [],
   "source": [
    "energy_industrial_tags = {\n",
    "    \"power\": [\"line\", \"plant\", \"tower\"],\n",
    "    \"man_made\": [\n",
    "        \"waste_water_plant\", \n",
    "        \"communications_tower\", \n",
    "        \"mast\", \n",
    "        \"windmill\", \n",
    "        \"wind_turbine\", \n",
    "        \"water_tower\", \n",
    "        \"silo\", \n",
    "        \"chimney\", \n",
    "        \"tank\"\n",
    "    ]\n",
    "}"
   ]
  },
  {
   "cell_type": "code",
   "execution_count": 18,
   "metadata": {},
   "outputs": [],
   "source": [
    "industrial_data = ox.features_from_place(boundaries, tags=energy_industrial_tags)"
   ]
  },
  {
   "cell_type": "code",
   "execution_count": 19,
   "metadata": {},
   "outputs": [],
   "source": [
    "industrial_data.reset_index(inplace=True)"
   ]
  },
  {
   "cell_type": "code",
   "execution_count": 20,
   "metadata": {},
   "outputs": [],
   "source": [
    "industrial_data['category'] = \"Energy/Industrial\""
   ]
  },
  {
   "cell_type": "code",
   "execution_count": 21,
   "metadata": {},
   "outputs": [],
   "source": [
    "industrial_data[\"area_type\"] = industrial_data.apply(determine_area_type_from_row, axis=1)\n"
   ]
  },
  {
   "cell_type": "code",
   "execution_count": 22,
   "metadata": {},
   "outputs": [],
   "source": [
    "industrial_data = industrial_data[columns_to_keep]"
   ]
  },
  {
   "cell_type": "code",
   "execution_count": 23,
   "metadata": {},
   "outputs": [],
   "source": [
    "if save_separate_files:\n",
    "    industrial_data.to_file(f'/Users/cmartens/Documents/Thesis/model/OSM_data/output/{folder_name}/energy_industrial_{file_name}')"
   ]
  },
  {
   "cell_type": "markdown",
   "metadata": {},
   "source": [
    "## Land use"
   ]
  },
  {
   "cell_type": "code",
   "execution_count": 24,
   "metadata": {},
   "outputs": [],
   "source": [
    "land_use_tags = {\n",
    "    \"landuse\": [\n",
    "        \"industrial\",\n",
    "        \"commercial\",\n",
    "        \"retail\",\n",
    "        \"residential\",\n",
    "        \"recreation_ground\",\n",
    "        \"farmland\",\n",
    "        \"orchard\"\n",
    "    ]\n",
    "}"
   ]
  },
  {
   "cell_type": "code",
   "execution_count": 25,
   "metadata": {},
   "outputs": [],
   "source": [
    "land_use_data = ox.features_from_place(boundaries, tags=land_use_tags)"
   ]
  },
  {
   "cell_type": "code",
   "execution_count": 26,
   "metadata": {},
   "outputs": [],
   "source": [
    "land_use_data.reset_index(inplace=True)"
   ]
  },
  {
   "cell_type": "code",
   "execution_count": 27,
   "metadata": {},
   "outputs": [],
   "source": [
    "land_use_data['category'] = \"Land use\""
   ]
  },
  {
   "cell_type": "code",
   "execution_count": 28,
   "metadata": {},
   "outputs": [],
   "source": [
    "land_use_data[\"area_type\"] = land_use_data.apply(determine_area_type_from_row, axis=1)"
   ]
  },
  {
   "cell_type": "code",
   "execution_count": 29,
   "metadata": {},
   "outputs": [],
   "source": [
    "for column in columns_to_keep:\n",
    "    if column not in land_use_data.columns:\n",
    "        land_use_data[column] = None\n",
    "\n",
    "land_use_data = land_use_data[columns_to_keep]"
   ]
  },
  {
   "cell_type": "code",
   "execution_count": 30,
   "metadata": {},
   "outputs": [
    {
     "data": {
      "text/plain": [
       "array(['Agricultural lands', 'Residential areas', 'Industrial zones',\n",
       "       'Power plants', 'Recreational zones', 'Retail zones',\n",
       "       'Commercial zones'], dtype=object)"
      ]
     },
     "execution_count": 30,
     "metadata": {},
     "output_type": "execute_result"
    }
   ],
   "source": [
    "land_use_data['area_type'].unique()"
   ]
  },
  {
   "cell_type": "code",
   "execution_count": 31,
   "metadata": {},
   "outputs": [],
   "source": [
    "if save_separate_files:\n",
    "    land_use_data.to_file(f'/Users/cmartens/Documents/Thesis/model/OSM_data/output/{folder_name}/land_use_{file_name}')"
   ]
  },
  {
   "cell_type": "markdown",
   "metadata": {},
   "source": [
    "## Nature"
   ]
  },
  {
   "cell_type": "code",
   "execution_count": 32,
   "metadata": {},
   "outputs": [],
   "source": [
    "nature_tags = {\n",
    "    \"landuse\": [\"forest\", \"wood\", \"scrub\", \"meadow\", \"grass\", \"grassland\"],\n",
    "    \"natural\": [\"wetland\"],\n",
    "    \"wetland\": [\"marsh\", \"bog\", \"fen\"]\n",
    "}"
   ]
  },
  {
   "cell_type": "code",
   "execution_count": 33,
   "metadata": {},
   "outputs": [],
   "source": [
    "nature_data = ox.features_from_place(boundaries, tags=nature_tags)\n"
   ]
  },
  {
   "cell_type": "code",
   "execution_count": 34,
   "metadata": {},
   "outputs": [],
   "source": [
    "nature_data.reset_index(inplace=True)"
   ]
  },
  {
   "cell_type": "code",
   "execution_count": 35,
   "metadata": {},
   "outputs": [],
   "source": [
    "nature_data[\"area_type\"] = nature_data.apply(determine_area_type_from_row, axis=1)"
   ]
  },
  {
   "cell_type": "code",
   "execution_count": 36,
   "metadata": {},
   "outputs": [],
   "source": [
    "nature_data['category'] = \"Nature\""
   ]
  },
  {
   "cell_type": "code",
   "execution_count": 37,
   "metadata": {},
   "outputs": [],
   "source": [
    "for column in columns_to_keep:\n",
    "    if column not in nature_data.columns:\n",
    "        nature_data[column] = None\n",
    "\n",
    "nature_data = nature_data[columns_to_keep]"
   ]
  },
  {
   "cell_type": "code",
   "execution_count": 38,
   "metadata": {},
   "outputs": [],
   "source": [
    "if save_separate_files:\n",
    "    nature_data.to_file(f'/Users/cmartens/Documents/Thesis/model/OSM_data/output/{folder_name}/nature_{file_name}')"
   ]
  },
  {
   "cell_type": "markdown",
   "metadata": {},
   "source": [
    "## Water"
   ]
  },
  {
   "cell_type": "code",
   "execution_count": 39,
   "metadata": {},
   "outputs": [],
   "source": [
    "water_tags = {\n",
    "    \"waterway\": [\"river\", \"stream\", \"canal\"],\n",
    "    \"water\": [\"lake\", \"reservoir\", \"pond\", \"bog\", \"fen\"] \n",
    "}"
   ]
  },
  {
   "cell_type": "code",
   "execution_count": 40,
   "metadata": {},
   "outputs": [],
   "source": [
    "water_data = ox.features_from_place(boundaries, tags=water_tags)"
   ]
  },
  {
   "cell_type": "code",
   "execution_count": 41,
   "metadata": {},
   "outputs": [],
   "source": [
    "water_data.reset_index(inplace=True)"
   ]
  },
  {
   "cell_type": "code",
   "execution_count": 42,
   "metadata": {},
   "outputs": [],
   "source": [
    "water_data[\"area_type\"] = water_data.apply(determine_area_type_from_row, axis=1)\n"
   ]
  },
  {
   "cell_type": "code",
   "execution_count": 43,
   "metadata": {},
   "outputs": [],
   "source": [
    "water_data['category'] = \"Water\""
   ]
  },
  {
   "cell_type": "code",
   "execution_count": 44,
   "metadata": {},
   "outputs": [],
   "source": [
    "for column in columns_to_keep:\n",
    "    if column not in water_data.columns:\n",
    "        water_data[column] = None\n",
    "\n",
    "water_data = water_data[columns_to_keep]"
   ]
  },
  {
   "cell_type": "code",
   "execution_count": 45,
   "metadata": {},
   "outputs": [],
   "source": [
    "if save_separate_files:\n",
    "    water_data.to_file(f'/Users/cmartens/Documents/Thesis/model/OSM_data/output/{folder_name}/water_{file_name}')"
   ]
  },
  {
   "cell_type": "markdown",
   "metadata": {},
   "source": [
    "## Public facility"
   ]
  },
  {
   "cell_type": "code",
   "execution_count": 46,
   "metadata": {},
   "outputs": [],
   "source": [
    "public_facility_tags = {\n",
    "    \"amenity\": [\n",
    "        \"school\",\n",
    "        \"kindergarten\",\n",
    "        \"university\",\n",
    "        \"hospital\",\n",
    "        \"prison\",\n",
    "        \"place_of_worship\"],\n",
    "    \"historic\": [\"*\"], \n",
    "    \"tourism\": [\"attraction\"],\n",
    "    \"landuse\": [\"cemetery\"],\n",
    "    \"leisure\": [\"park\"]\n",
    "}"
   ]
  },
  {
   "cell_type": "code",
   "execution_count": 47,
   "metadata": {},
   "outputs": [],
   "source": [
    "public_data = ox.features_from_place(boundaries, tags=public_facility_tags)"
   ]
  },
  {
   "cell_type": "code",
   "execution_count": 48,
   "metadata": {},
   "outputs": [],
   "source": [
    "public_data.reset_index(inplace=True)"
   ]
  },
  {
   "cell_type": "code",
   "execution_count": 49,
   "metadata": {},
   "outputs": [],
   "source": [
    "public_data['category'] = 'Public facility'"
   ]
  },
  {
   "cell_type": "code",
   "execution_count": 50,
   "metadata": {},
   "outputs": [],
   "source": [
    "public_data[\"area_type\"] = public_data.apply(determine_area_type_from_row, axis=1)"
   ]
  },
  {
   "cell_type": "code",
   "execution_count": 51,
   "metadata": {},
   "outputs": [],
   "source": [
    "for column in columns_to_keep:\n",
    "    if column not in public_data.columns:\n",
    "        public_data[column] = None\n",
    "\n",
    "public_data = public_data[columns_to_keep]"
   ]
  },
  {
   "cell_type": "code",
   "execution_count": 52,
   "metadata": {},
   "outputs": [],
   "source": [
    "if save_separate_files:\n",
    "    public_data.to_file(f'/Users/cmartens/Documents/Thesis/model/OSM_data/output/{folder_name}/public_facilities_{file_name}')"
   ]
  },
  {
   "cell_type": "markdown",
   "metadata": {},
   "source": [
    "## Airspace/Aviation"
   ]
  },
  {
   "cell_type": "code",
   "execution_count": 53,
   "metadata": {},
   "outputs": [],
   "source": [
    "aviation_tags = {\n",
    "    \"aeroway\": [\n",
    "        \"aerodrome\",       # Airports and airfields\n",
    "        \"airstrip\",        # Basic landing strips\n",
    "        \"heliport\",        # Dedicated helicopter facilities\n",
    "        \"helipad\",         # Individual helicopter landing pads\n",
    "        \"runway\",          # Aircraft runways\n",
    "        \"taxiway\",         # Taxi paths for aircraft\n",
    "        \"apron\",           # Aircraft parking areas\n",
    "        \"terminal\",        # Passenger terminals\n",
    "        \"gate\",            # Boarding gates\n",
    "        \"hangar\",          # Aircraft storage buildings\n",
    "        \"control_tower\",   # Air traffic control towers\n",
    "        \"navigationaid\",   # Navigation aids like beacons\n",
    "        \"launchpad\",       # Rocket launch facilities\n",
    "        \"spaceport\",       # Spaceflight launch sites\n",
    "        \"highway_strip\"    # Roadways used as emergency runways\n",
    "    ],\n",
    "    \"man_made\": [\n",
    "        \"control_tower\"    # Air traffic control towers\n",
    "    ]\n",
    "}\n"
   ]
  },
  {
   "cell_type": "code",
   "execution_count": 54,
   "metadata": {},
   "outputs": [
    {
     "ename": "InsufficientResponseError",
     "evalue": "No matching features. Check query location, tags, and log.",
     "output_type": "error",
     "traceback": [
      "\u001b[0;31m---------------------------------------------------------------------------\u001b[0m",
      "\u001b[0;31mInsufficientResponseError\u001b[0m                 Traceback (most recent call last)",
      "Cell \u001b[0;32mIn[54], line 1\u001b[0m\n\u001b[0;32m----> 1\u001b[0m aviation_data \u001b[38;5;241m=\u001b[39m \u001b[43mox\u001b[49m\u001b[38;5;241;43m.\u001b[39;49m\u001b[43mfeatures_from_place\u001b[49m\u001b[43m(\u001b[49m\u001b[43mboundaries\u001b[49m\u001b[43m,\u001b[49m\u001b[43m \u001b[49m\u001b[43mtags\u001b[49m\u001b[38;5;241;43m=\u001b[39;49m\u001b[43maviation_tags\u001b[49m\u001b[43m)\u001b[49m\n",
      "File \u001b[0;32m~/Library/Python/3.13/lib/python/site-packages/osmnx/features.py:279\u001b[0m, in \u001b[0;36mfeatures_from_place\u001b[0;34m(query, tags, which_result)\u001b[0m\n\u001b[1;32m    276\u001b[0m utils\u001b[38;5;241m.\u001b[39mlog(msg, level\u001b[38;5;241m=\u001b[39mlg\u001b[38;5;241m.\u001b[39mINFO)\n\u001b[1;32m    278\u001b[0m \u001b[38;5;66;03m# create GeoDataFrame using this polygon(s) geometry\u001b[39;00m\n\u001b[0;32m--> 279\u001b[0m \u001b[38;5;28;01mreturn\u001b[39;00m \u001b[43mfeatures_from_polygon\u001b[49m\u001b[43m(\u001b[49m\u001b[43mpolygon\u001b[49m\u001b[43m,\u001b[49m\u001b[43m \u001b[49m\u001b[43mtags\u001b[49m\u001b[43m)\u001b[49m\n",
      "File \u001b[0;32m~/Library/Python/3.13/lib/python/site-packages/osmnx/features.py:332\u001b[0m, in \u001b[0;36mfeatures_from_polygon\u001b[0;34m(polygon, tags)\u001b[0m\n\u001b[1;32m    330\u001b[0m \u001b[38;5;66;03m# retrieve the data from Overpass then turn it into a GeoDataFrame\u001b[39;00m\n\u001b[1;32m    331\u001b[0m response_jsons \u001b[38;5;241m=\u001b[39m _overpass\u001b[38;5;241m.\u001b[39m_download_overpass_features(polygon, tags)\n\u001b[0;32m--> 332\u001b[0m \u001b[38;5;28;01mreturn\u001b[39;00m \u001b[43m_create_gdf\u001b[49m\u001b[43m(\u001b[49m\u001b[43mresponse_jsons\u001b[49m\u001b[43m,\u001b[49m\u001b[43m \u001b[49m\u001b[43mpolygon\u001b[49m\u001b[43m,\u001b[49m\u001b[43m \u001b[49m\u001b[43mtags\u001b[49m\u001b[43m)\u001b[49m\n",
      "File \u001b[0;32m~/Library/Python/3.13/lib/python/site-packages/osmnx/features.py:420\u001b[0m, in \u001b[0;36m_create_gdf\u001b[0;34m(response_jsons, polygon, tags)\u001b[0m\n\u001b[1;32m    415\u001b[0m     \u001b[38;5;28;01mraise\u001b[39;00m CacheOnlyInterruptError(msg)\n\u001b[1;32m    417\u001b[0m \u001b[38;5;66;03m# convert the elements into a GeoDataFrame of features\u001b[39;00m\n\u001b[1;32m    418\u001b[0m gdf \u001b[38;5;241m=\u001b[39m (\n\u001b[1;32m    419\u001b[0m     gpd\u001b[38;5;241m.\u001b[39mGeoDataFrame(\n\u001b[0;32m--> 420\u001b[0m         data\u001b[38;5;241m=\u001b[39m\u001b[43m_process_features\u001b[49m\u001b[43m(\u001b[49m\u001b[43melements\u001b[49m\u001b[43m,\u001b[49m\u001b[43m \u001b[49m\u001b[38;5;28;43mset\u001b[39;49m\u001b[43m(\u001b[49m\u001b[43mtags\u001b[49m\u001b[38;5;241;43m.\u001b[39;49m\u001b[43mkeys\u001b[49m\u001b[43m(\u001b[49m\u001b[43m)\u001b[49m\u001b[43m)\u001b[49m\u001b[43m)\u001b[49m,\n\u001b[1;32m    421\u001b[0m         geometry\u001b[38;5;241m=\u001b[39m\u001b[38;5;124m\"\u001b[39m\u001b[38;5;124mgeometry\u001b[39m\u001b[38;5;124m\"\u001b[39m,\n\u001b[1;32m    422\u001b[0m         crs\u001b[38;5;241m=\u001b[39msettings\u001b[38;5;241m.\u001b[39mdefault_crs,\n\u001b[1;32m    423\u001b[0m     )\n\u001b[1;32m    424\u001b[0m     \u001b[38;5;241m.\u001b[39mset_index([\u001b[38;5;124m\"\u001b[39m\u001b[38;5;124melement\u001b[39m\u001b[38;5;124m\"\u001b[39m, \u001b[38;5;124m\"\u001b[39m\u001b[38;5;124mid\u001b[39m\u001b[38;5;124m\"\u001b[39m])\n\u001b[1;32m    425\u001b[0m     \u001b[38;5;241m.\u001b[39msort_index()\n\u001b[1;32m    426\u001b[0m )\n\u001b[1;32m    427\u001b[0m \u001b[38;5;28;01mreturn\u001b[39;00m _filter_features(gdf, polygon, tags)\n",
      "File \u001b[0;32m~/Library/Python/3.13/lib/python/site-packages/osmnx/features.py:505\u001b[0m, in \u001b[0;36m_process_features\u001b[0;34m(elements, query_tag_keys)\u001b[0m\n\u001b[1;32m    503\u001b[0m \u001b[38;5;28;01mif\u001b[39;00m \u001b[38;5;28mlen\u001b[39m(features) \u001b[38;5;241m==\u001b[39m \u001b[38;5;241m0\u001b[39m:\n\u001b[1;32m    504\u001b[0m     msg \u001b[38;5;241m=\u001b[39m \u001b[38;5;124m\"\u001b[39m\u001b[38;5;124mNo matching features. Check query location, tags, and log.\u001b[39m\u001b[38;5;124m\"\u001b[39m\n\u001b[0;32m--> 505\u001b[0m     \u001b[38;5;28;01mraise\u001b[39;00m InsufficientResponseError(msg)\n\u001b[1;32m    507\u001b[0m \u001b[38;5;28;01mreturn\u001b[39;00m features\n",
      "\u001b[0;31mInsufficientResponseError\u001b[0m: No matching features. Check query location, tags, and log."
     ]
    }
   ],
   "source": [
    "aviation_data = ox.features_from_place(boundaries, tags=aviation_tags)"
   ]
  },
  {
   "cell_type": "code",
   "execution_count": 55,
   "metadata": {},
   "outputs": [
    {
     "ename": "NameError",
     "evalue": "name 'aviation_data' is not defined",
     "output_type": "error",
     "traceback": [
      "\u001b[0;31m---------------------------------------------------------------------------\u001b[0m",
      "\u001b[0;31mNameError\u001b[0m                                 Traceback (most recent call last)",
      "Cell \u001b[0;32mIn[55], line 1\u001b[0m\n\u001b[0;32m----> 1\u001b[0m \u001b[43maviation_data\u001b[49m\u001b[38;5;241m.\u001b[39mreset_index(inplace\u001b[38;5;241m=\u001b[39m\u001b[38;5;28;01mTrue\u001b[39;00m)\n",
      "\u001b[0;31mNameError\u001b[0m: name 'aviation_data' is not defined"
     ]
    }
   ],
   "source": [
    "aviation_data.reset_index(inplace=True)"
   ]
  },
  {
   "cell_type": "code",
   "execution_count": 56,
   "metadata": {},
   "outputs": [
    {
     "ename": "NameError",
     "evalue": "name 'aviation_data' is not defined",
     "output_type": "error",
     "traceback": [
      "\u001b[0;31m---------------------------------------------------------------------------\u001b[0m",
      "\u001b[0;31mNameError\u001b[0m                                 Traceback (most recent call last)",
      "Cell \u001b[0;32mIn[56], line 1\u001b[0m\n\u001b[0;32m----> 1\u001b[0m \u001b[43maviation_data\u001b[49m\n",
      "\u001b[0;31mNameError\u001b[0m: name 'aviation_data' is not defined"
     ]
    }
   ],
   "source": [
    "aviation_data"
   ]
  },
  {
   "cell_type": "code",
   "execution_count": 57,
   "metadata": {},
   "outputs": [
    {
     "ename": "NameError",
     "evalue": "name 'aviation_data' is not defined",
     "output_type": "error",
     "traceback": [
      "\u001b[0;31m---------------------------------------------------------------------------\u001b[0m",
      "\u001b[0;31mNameError\u001b[0m                                 Traceback (most recent call last)",
      "Cell \u001b[0;32mIn[57], line 1\u001b[0m\n\u001b[0;32m----> 1\u001b[0m aviation_data[\u001b[38;5;124m\"\u001b[39m\u001b[38;5;124marea_type\u001b[39m\u001b[38;5;124m\"\u001b[39m] \u001b[38;5;241m=\u001b[39m \u001b[43maviation_data\u001b[49m\u001b[38;5;241m.\u001b[39mapply(determine_area_type_from_row, axis\u001b[38;5;241m=\u001b[39m\u001b[38;5;241m1\u001b[39m)\n",
      "\u001b[0;31mNameError\u001b[0m: name 'aviation_data' is not defined"
     ]
    }
   ],
   "source": [
    "aviation_data[\"area_type\"] = aviation_data.apply(determine_area_type_from_row, axis=1)"
   ]
  },
  {
   "cell_type": "code",
   "execution_count": 58,
   "metadata": {},
   "outputs": [
    {
     "ename": "NameError",
     "evalue": "name 'aviation_data' is not defined",
     "output_type": "error",
     "traceback": [
      "\u001b[0;31m---------------------------------------------------------------------------\u001b[0m",
      "\u001b[0;31mNameError\u001b[0m                                 Traceback (most recent call last)",
      "Cell \u001b[0;32mIn[58], line 1\u001b[0m\n\u001b[0;32m----> 1\u001b[0m \u001b[43maviation_data\u001b[49m\n",
      "\u001b[0;31mNameError\u001b[0m: name 'aviation_data' is not defined"
     ]
    }
   ],
   "source": [
    "aviation_data"
   ]
  },
  {
   "cell_type": "code",
   "execution_count": 59,
   "metadata": {},
   "outputs": [
    {
     "ename": "NameError",
     "evalue": "name 'aviation_data' is not defined",
     "output_type": "error",
     "traceback": [
      "\u001b[0;31m---------------------------------------------------------------------------\u001b[0m",
      "\u001b[0;31mNameError\u001b[0m                                 Traceback (most recent call last)",
      "Cell \u001b[0;32mIn[59], line 1\u001b[0m\n\u001b[0;32m----> 1\u001b[0m \u001b[43maviation_data\u001b[49m[\u001b[38;5;124m'\u001b[39m\u001b[38;5;124mcategory\u001b[39m\u001b[38;5;124m'\u001b[39m] \u001b[38;5;241m=\u001b[39m \u001b[38;5;124m\"\u001b[39m\u001b[38;5;124mAirports/Aviation\u001b[39m\u001b[38;5;124m\"\u001b[39m\n",
      "\u001b[0;31mNameError\u001b[0m: name 'aviation_data' is not defined"
     ]
    }
   ],
   "source": [
    "aviation_data['category'] = \"Airports/Aviation\""
   ]
  },
  {
   "cell_type": "code",
   "execution_count": 60,
   "metadata": {},
   "outputs": [
    {
     "ename": "NameError",
     "evalue": "name 'aviation_data' is not defined",
     "output_type": "error",
     "traceback": [
      "\u001b[0;31m---------------------------------------------------------------------------\u001b[0m",
      "\u001b[0;31mNameError\u001b[0m                                 Traceback (most recent call last)",
      "Cell \u001b[0;32mIn[60], line 2\u001b[0m\n\u001b[1;32m      1\u001b[0m \u001b[38;5;28;01mfor\u001b[39;00m column \u001b[38;5;129;01min\u001b[39;00m columns_to_keep:\n\u001b[0;32m----> 2\u001b[0m     \u001b[38;5;28;01mif\u001b[39;00m column \u001b[38;5;129;01mnot\u001b[39;00m \u001b[38;5;129;01min\u001b[39;00m \u001b[43maviation_data\u001b[49m\u001b[38;5;241m.\u001b[39mcolumns:\n\u001b[1;32m      3\u001b[0m         aviation_data[column] \u001b[38;5;241m=\u001b[39m \u001b[38;5;28;01mNone\u001b[39;00m\n\u001b[1;32m      5\u001b[0m aviation_data \u001b[38;5;241m=\u001b[39m aviation_data[columns_to_keep]\n",
      "\u001b[0;31mNameError\u001b[0m: name 'aviation_data' is not defined"
     ]
    }
   ],
   "source": [
    "for column in columns_to_keep:\n",
    "    if column not in aviation_data.columns:\n",
    "        aviation_data[column] = None\n",
    "\n",
    "aviation_data = aviation_data[columns_to_keep]\n"
   ]
  },
  {
   "cell_type": "code",
   "execution_count": 61,
   "metadata": {},
   "outputs": [
    {
     "ename": "NameError",
     "evalue": "name 'aviation_data' is not defined",
     "output_type": "error",
     "traceback": [
      "\u001b[0;31m---------------------------------------------------------------------------\u001b[0m",
      "\u001b[0;31mNameError\u001b[0m                                 Traceback (most recent call last)",
      "Cell \u001b[0;32mIn[61], line 1\u001b[0m\n\u001b[0;32m----> 1\u001b[0m \u001b[43maviation_data\u001b[49m\n",
      "\u001b[0;31mNameError\u001b[0m: name 'aviation_data' is not defined"
     ]
    }
   ],
   "source": [
    "aviation_data"
   ]
  },
  {
   "cell_type": "code",
   "execution_count": 62,
   "metadata": {},
   "outputs": [],
   "source": [
    "if save_separate_files:\n",
    "    aviation_data.to_file(f'/Users/cmartens/Documents/Thesis/model/OSM_data/output/{folder_name}/aviation_{file_name}')"
   ]
  },
  {
   "cell_type": "markdown",
   "metadata": {},
   "source": [
    "# Postnl"
   ]
  },
  {
   "cell_type": "code",
   "execution_count": 63,
   "metadata": {},
   "outputs": [],
   "source": [
    "post_tags = {\"amenity\": [\"post_office\", \"post_box\", \"post_depot\"]}"
   ]
  },
  {
   "cell_type": "code",
   "execution_count": 64,
   "metadata": {},
   "outputs": [],
   "source": [
    "post_data = ox.features_from_place(boundaries, tags=post_tags)"
   ]
  },
  {
   "cell_type": "code",
   "execution_count": 65,
   "metadata": {},
   "outputs": [],
   "source": [
    "post_data.reset_index(inplace=True)"
   ]
  },
  {
   "cell_type": "code",
   "execution_count": 66,
   "metadata": {},
   "outputs": [],
   "source": [
    "for column in columns_to_keep:\n",
    "    if column not in post_data.columns:\n",
    "        post_data[column] = None\n",
    "\n",
    "post_data = post_data[columns_to_keep]"
   ]
  },
  {
   "cell_type": "code",
   "execution_count": 67,
   "metadata": {},
   "outputs": [],
   "source": [
    "post_data['area_type'] = 'postnl point'\n",
    "post_data['category'] = 'PostNL'"
   ]
  },
  {
   "cell_type": "code",
   "execution_count": 68,
   "metadata": {},
   "outputs": [
    {
     "data": {
      "text/html": [
       "<div>\n",
       "<style scoped>\n",
       "    .dataframe tbody tr th:only-of-type {\n",
       "        vertical-align: middle;\n",
       "    }\n",
       "\n",
       "    .dataframe tbody tr th {\n",
       "        vertical-align: top;\n",
       "    }\n",
       "\n",
       "    .dataframe thead th {\n",
       "        text-align: right;\n",
       "    }\n",
       "</style>\n",
       "<table border=\"1\" class=\"dataframe\">\n",
       "  <thead>\n",
       "    <tr style=\"text-align: right;\">\n",
       "      <th></th>\n",
       "      <th>geometry</th>\n",
       "      <th>name</th>\n",
       "      <th>id</th>\n",
       "      <th>description</th>\n",
       "      <th>area_type</th>\n",
       "      <th>category</th>\n",
       "    </tr>\n",
       "  </thead>\n",
       "  <tbody>\n",
       "    <tr>\n",
       "      <th>0</th>\n",
       "      <td>POINT (4.64633 52.04288)</td>\n",
       "      <td>NaN</td>\n",
       "      <td>302330426</td>\n",
       "      <td>None</td>\n",
       "      <td>postnl point</td>\n",
       "      <td>PostNL</td>\n",
       "    </tr>\n",
       "    <tr>\n",
       "      <th>1</th>\n",
       "      <td>POINT (4.63595 52.03715)</td>\n",
       "      <td>PostNL</td>\n",
       "      <td>302330621</td>\n",
       "      <td>None</td>\n",
       "      <td>postnl point</td>\n",
       "      <td>PostNL</td>\n",
       "    </tr>\n",
       "    <tr>\n",
       "      <th>2</th>\n",
       "      <td>POINT (4.66225 52.04385)</td>\n",
       "      <td>NaN</td>\n",
       "      <td>303648200</td>\n",
       "      <td>None</td>\n",
       "      <td>postnl point</td>\n",
       "      <td>PostNL</td>\n",
       "    </tr>\n",
       "    <tr>\n",
       "      <th>3</th>\n",
       "      <td>POINT (4.65306 52.03063)</td>\n",
       "      <td>NaN</td>\n",
       "      <td>311524912</td>\n",
       "      <td>None</td>\n",
       "      <td>postnl point</td>\n",
       "      <td>PostNL</td>\n",
       "    </tr>\n",
       "    <tr>\n",
       "      <th>4</th>\n",
       "      <td>POINT (4.6482 52.06488)</td>\n",
       "      <td>PostNL Pakketpunt</td>\n",
       "      <td>348127872</td>\n",
       "      <td>None</td>\n",
       "      <td>postnl point</td>\n",
       "      <td>PostNL</td>\n",
       "    </tr>\n",
       "    <tr>\n",
       "      <th>...</th>\n",
       "      <td>...</td>\n",
       "      <td>...</td>\n",
       "      <td>...</td>\n",
       "      <td>...</td>\n",
       "      <td>...</td>\n",
       "      <td>...</td>\n",
       "    </tr>\n",
       "    <tr>\n",
       "      <th>76</th>\n",
       "      <td>POINT (4.65087 52.12642)</td>\n",
       "      <td>NaN</td>\n",
       "      <td>7105101668</td>\n",
       "      <td>None</td>\n",
       "      <td>postnl point</td>\n",
       "      <td>PostNL</td>\n",
       "    </tr>\n",
       "    <tr>\n",
       "      <th>77</th>\n",
       "      <td>POINT (4.64873 52.13501)</td>\n",
       "      <td>NaN</td>\n",
       "      <td>7220656837</td>\n",
       "      <td>None</td>\n",
       "      <td>postnl point</td>\n",
       "      <td>PostNL</td>\n",
       "    </tr>\n",
       "    <tr>\n",
       "      <th>78</th>\n",
       "      <td>POINT (4.65486 52.0234)</td>\n",
       "      <td>NaN</td>\n",
       "      <td>8901678928</td>\n",
       "      <td>None</td>\n",
       "      <td>postnl point</td>\n",
       "      <td>PostNL</td>\n",
       "    </tr>\n",
       "    <tr>\n",
       "      <th>79</th>\n",
       "      <td>POINT (4.5786 52.09552)</td>\n",
       "      <td>NaN</td>\n",
       "      <td>11333642753</td>\n",
       "      <td>None</td>\n",
       "      <td>postnl point</td>\n",
       "      <td>PostNL</td>\n",
       "    </tr>\n",
       "    <tr>\n",
       "      <th>80</th>\n",
       "      <td>POINT (4.56989 52.12938)</td>\n",
       "      <td>NaN</td>\n",
       "      <td>11660022577</td>\n",
       "      <td>None</td>\n",
       "      <td>postnl point</td>\n",
       "      <td>PostNL</td>\n",
       "    </tr>\n",
       "  </tbody>\n",
       "</table>\n",
       "<p>81 rows × 6 columns</p>\n",
       "</div>"
      ],
      "text/plain": [
       "                    geometry               name           id description  \\\n",
       "0   POINT (4.64633 52.04288)                NaN    302330426        None   \n",
       "1   POINT (4.63595 52.03715)             PostNL    302330621        None   \n",
       "2   POINT (4.66225 52.04385)                NaN    303648200        None   \n",
       "3   POINT (4.65306 52.03063)                NaN    311524912        None   \n",
       "4    POINT (4.6482 52.06488)  PostNL Pakketpunt    348127872        None   \n",
       "..                       ...                ...          ...         ...   \n",
       "76  POINT (4.65087 52.12642)                NaN   7105101668        None   \n",
       "77  POINT (4.64873 52.13501)                NaN   7220656837        None   \n",
       "78   POINT (4.65486 52.0234)                NaN   8901678928        None   \n",
       "79   POINT (4.5786 52.09552)                NaN  11333642753        None   \n",
       "80  POINT (4.56989 52.12938)                NaN  11660022577        None   \n",
       "\n",
       "       area_type category  \n",
       "0   postnl point   PostNL  \n",
       "1   postnl point   PostNL  \n",
       "2   postnl point   PostNL  \n",
       "3   postnl point   PostNL  \n",
       "4   postnl point   PostNL  \n",
       "..           ...      ...  \n",
       "76  postnl point   PostNL  \n",
       "77  postnl point   PostNL  \n",
       "78  postnl point   PostNL  \n",
       "79  postnl point   PostNL  \n",
       "80  postnl point   PostNL  \n",
       "\n",
       "[81 rows x 6 columns]"
      ]
     },
     "execution_count": 68,
     "metadata": {},
     "output_type": "execute_result"
    }
   ],
   "source": [
    "post_data"
   ]
  },
  {
   "cell_type": "code",
   "execution_count": 69,
   "metadata": {},
   "outputs": [],
   "source": [
    "if save_separate_files:\n",
    "    post_data.to_file(f'/Users/cmartens/Documents/Thesis/model/OSM_data/output/{folder_name}/post_{file_name}')"
   ]
  },
  {
   "cell_type": "markdown",
   "metadata": {},
   "source": [
    "# Concat"
   ]
  },
  {
   "cell_type": "code",
   "execution_count": 70,
   "metadata": {},
   "outputs": [],
   "source": [
    "categories = [\n",
    "    transportation_data,\n",
    "    industrial_data,\n",
    "    land_use_data,\n",
    "    nature_data,\n",
    "    water_data,\n",
    "    public_data,\n",
    "    #aviation_data,\n",
    "    post_data\n",
    "]\n",
    "\n",
    "# Filter out None\n",
    "categories = [cat for cat in categories if cat is not None]\n",
    "\n",
    "# Concat if there's anything to concat\n",
    "if categories:\n",
    "    df = pd.concat(categories, ignore_index=True)\n",
    "else:\n",
    "    print(\"No data to combine.\")\n"
   ]
  },
  {
   "cell_type": "code",
   "execution_count": 71,
   "metadata": {},
   "outputs": [
    {
     "name": "stdout",
     "output_type": "stream",
     "text": [
      "area_type\n",
      "Pedestrian and cycling paths      10112\n",
      "Tracks and rural access roads      6581\n",
      "Meadows and open grass             6356\n",
      "Regional roads                     4069\n",
      "Forests and woodlands              1832\n",
      "Living and residential streets      930\n",
      "Motorways and major roads           728\n",
      "Agricultural lands                  456\n",
      "Rivers, canals and streams          291\n",
      "Communication towers                208\n",
      "Railways                            152\n",
      "Residential areas                    98\n",
      "Schools and universities             97\n",
      "postnl point                         81\n",
      "Cultural sites                       73\n",
      "Religious sites                      63\n",
      "Industrial zones                     54\n",
      "Wetlands                             51\n",
      "Power lines                          40\n",
      "High infrastructures                 33\n",
      "Retail zones                         13\n",
      "Lakes and ponds                      12\n",
      "Recreational zones                    6\n",
      "Power plants                          5\n",
      "Commercial zones                      3\n",
      "Prisons                               2\n",
      "Hospitals                             2\n",
      "Name: count, dtype: int64\n"
     ]
    }
   ],
   "source": [
    "with pd.option_context('display.max_rows', None, 'display.max_columns', None):\n",
    "    print(df['area_type'].value_counts())"
   ]
  },
  {
   "cell_type": "code",
   "execution_count": 72,
   "metadata": {},
   "outputs": [],
   "source": [
    "gdf = gpd.GeoDataFrame(df, crs=\"EPSG:4326\")"
   ]
  },
  {
   "cell_type": "code",
   "execution_count": 73,
   "metadata": {},
   "outputs": [
    {
     "name": "stdout",
     "output_type": "stream",
     "text": [
      "Number of duplicates before dropping: 32348\n",
      "Number of duplicates after dropping: 32346\n"
     ]
    }
   ],
   "source": [
    "# if the whole row is dubplicate, drop it, print how many were dropped\n",
    "print(f\"Number of duplicates before dropping: {len(gdf)}\")\n",
    "\n",
    "gdf = gdf.drop_duplicates(subset=['geometry', 'name', 'id', 'description'])\n",
    "print(f\"Number of duplicates after dropping: {len(gdf)}\")\n"
   ]
  },
  {
   "cell_type": "code",
   "execution_count": 75,
   "metadata": {},
   "outputs": [],
   "source": [
    "gdf.to_file(f'/Users/cmartens/Documents/thesis_cf_martens/1.get_osm_data/{output_path}/osm_data_{city}.geojson', driver='GeoJSON')"
   ]
  },
  {
   "cell_type": "code",
   "execution_count": null,
   "metadata": {},
   "outputs": [],
   "source": []
  },
  {
   "cell_type": "code",
   "execution_count": null,
   "metadata": {},
   "outputs": [],
   "source": []
  },
  {
   "cell_type": "code",
   "execution_count": null,
   "metadata": {},
   "outputs": [],
   "source": []
  }
 ],
 "metadata": {
  "kernelspec": {
   "display_name": "Python 3",
   "language": "python",
   "name": "python3"
  },
  "language_info": {
   "codemirror_mode": {
    "name": "ipython",
    "version": 3
   },
   "file_extension": ".py",
   "mimetype": "text/x-python",
   "name": "python",
   "nbconvert_exporter": "python",
   "pygments_lexer": "ipython3",
   "version": "3.13.2"
  }
 },
 "nbformat": 4,
 "nbformat_minor": 2
}
