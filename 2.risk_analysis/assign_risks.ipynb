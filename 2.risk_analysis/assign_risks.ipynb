{
 "cells": [
  {
   "cell_type": "markdown",
   "metadata": {},
   "source": [
    "# Assign Risks and Get No-Fly zones\n",
    "\n",
    "This notebook is step 2 in the process of creating a graph for a specific area.\n",
    "To run this notebook, you must first execute get_data.ipynb for the desired area.\n",
    "\n",
    "In this step, risk scores are calculated for each area type based on predefined likelihood and severity values. These risk scores are then assigned to all data points obtained from the OSM data in get_data.ipynb. In addition, no-fly zones are also added to the dataset.\n",
    "\n",
    "The result is exported as a GeoJSON file, which can be used as input for get_graph.ipynb."
   ]
  },
  {
   "cell_type": "code",
   "execution_count": null,
   "metadata": {},
   "outputs": [],
   "source": [
    "import pandas as pd\n",
    "import geopandas as gpd\n",
    "import numpy as np\n",
    "import os"
   ]
  },
  {
   "cell_type": "markdown",
   "metadata": {},
   "source": [
    "### 0. Specify the area\n",
    "\n",
    "Set folder_name to the folder used for the desired area, and set file_name to the corresponding area file name (including .geojson).\n",
    "Make sure to use the same boundaries as in get_data.ipynb to correctly identify the no-fly zones for the selected area."
   ]
  },
  {
   "cell_type": "code",
   "execution_count": null,
   "metadata": {},
   "outputs": [],
   "source": [
    "# city = 'breda'\n",
    "# city = 'borsele'\n",
    "city = 'alphen-waddinxveen' # lowercase name of the folder"
   ]
  },
  {
   "cell_type": "code",
   "execution_count": null,
   "metadata": {},
   "outputs": [],
   "source": [
    "# file_name = 'breda.geojson' # name of the file to be created\n",
    "# file_name = 'alphen-waddinxveen.geojson' # name of the file to be created\n",
    "file_name = f'{city}.geojson' # name of the file to be created"
   ]
  },
  {
   "cell_type": "code",
   "execution_count": null,
   "metadata": {},
   "outputs": [],
   "source": [
    "# boundaries = ['Breda, Noord-Brabant, Netherlands']\n",
    "\n",
    "boundaries = [\n",
    "    'Alphen aan den Rijn, Zuid-Holland, Netherlands',\n",
    "    'Waddinxveen, Zuid-Holland, Netherlands',\n",
    "    'Boskoop, Zuid-Holland, Netherlands'\n",
    "] # name of the boundaries to be used in the file\n",
    "\n",
    "#boundaries = ['Borsele, Zeeland, Netherlands']\n"
   ]
  },
  {
   "cell_type": "code",
   "execution_count": null,
   "metadata": {},
   "outputs": [],
   "source": [
    "no_catastrophic = True"
   ]
  },
  {
   "cell_type": "code",
   "execution_count": null,
   "metadata": {},
   "outputs": [],
   "source": [
    "output_path = \"output/\" + city\n",
    "\n",
    "os.makedirs(output_path, exist_ok=True)"
   ]
  },
  {
   "cell_type": "markdown",
   "metadata": {},
   "source": [
    "## 1. Calculate risks"
   ]
  },
  {
   "cell_type": "code",
   "execution_count": null,
   "metadata": {},
   "outputs": [],
   "source": [
    "df = pd.read_csv(\"/Users/cmartens/Documents/thesis_cf_martens/2.risk_analysis/input/risk_scores.csv\") \n"
   ]
  },
  {
   "cell_type": "code",
   "execution_count": null,
   "metadata": {},
   "outputs": [],
   "source": [
    "df"
   ]
  },
  {
   "cell_type": "markdown",
   "metadata": {},
   "source": [
    "### 1.1 Define alpha"
   ]
  },
  {
   "cell_type": "code",
   "execution_count": null,
   "metadata": {},
   "outputs": [],
   "source": [
    "alpha_f = 0.4  # fatality\n",
    "alpha_p = 0.3  # property\n",
    "alpha_s = 0.3  # societal"
   ]
  },
  {
   "cell_type": "markdown",
   "metadata": {},
   "source": [
    "### 1.2 Calculate risk"
   ]
  },
  {
   "cell_type": "code",
   "execution_count": null,
   "metadata": {},
   "outputs": [],
   "source": [
    "# Aantal externe risicofactoren\n",
    "n_factors = 5\n",
    "\n",
    "# Bereken cumulatieve bijdrage per domein (zonder deling)\n",
    "R_f_total = 0\n",
    "R_p_total = 0\n",
    "\n",
    "# Loop over externe risicofactoren\n",
    "for i in range(1, n_factors + 1):\n",
    "    # Bereken afzonderlijke fatality- en property-risicobijdragen\n",
    "    df[f\"R_if_{i}\"] = df[\"Sf\"] * df[f\"L{i}\"]\n",
    "    df[f\"R_ip_{i}\"] = df[\"Sp\"] * df[f\"L{i}\"]\n",
    "    \n",
    "    # Tel cumulatief op\n",
    "    R_f_total += df[f\"R_if_{i}\"]\n",
    "    R_p_total += df[f\"R_ip_{i}\"]\n",
    "\n",
    "# Cumulatieve crash-gerelateerde risico's\n",
    "df[\"R_f\"] = R_f_total\n",
    "df[\"R_p\"] = R_p_total\n",
    "\n",
    "# Sociaal risico (losstaand van risicofactoren)\n",
    "df[\"R_s\"] = df[\"Ss\"]\n",
    "\n",
    "# Normaliseer fatality, property en societal domeinen afzonderlijk\n",
    "df[\"R_f_norm\"] = (df[\"R_f\"] - df[\"R_f\"].min()) / (df[\"R_f\"].max() - df[\"R_f\"].min())\n",
    "df[\"R_p_norm\"] = (df[\"R_p\"] - df[\"R_p\"].min()) / (df[\"R_p\"].max() - df[\"R_p\"].min())\n",
    "df[\"R_s_norm\"] = (df[\"R_s\"] - df[\"R_s\"].min()) / (df[\"R_s\"].max() - df[\"R_s\"].min())\n",
    "\n",
    "# Gebruik genormaliseerde risico's in gewogen som\n",
    "df[\"risk\"] = (\n",
    "    alpha_f * df[\"R_f_norm\"] +\n",
    "    alpha_p * df[\"R_p_norm\"] +\n",
    "    alpha_s * df[\"R_s_norm\"]\n",
    ")\n",
    "\n",
    "df[\"risk\"] = df[\"risk\"].round(3)\n",
    "\n",
    "# Sorteer op hoogste totaalrisico\n",
    "df_sorted = df.sort_values(\"risk\", ascending=False)\n"
   ]
  },
  {
   "cell_type": "code",
   "execution_count": null,
   "metadata": {},
   "outputs": [],
   "source": [
    "df_sorted.drop(columns=[\"Height\"], inplace=True)"
   ]
  },
  {
   "cell_type": "code",
   "execution_count": null,
   "metadata": {},
   "outputs": [],
   "source": [
    "df_sorted"
   ]
  },
  {
   "cell_type": "code",
   "execution_count": null,
   "metadata": {},
   "outputs": [],
   "source": [
    "df_sorted[['area_type', 'Sf', 'Sp', 'Ss', 'L1', 'L2', 'L3', 'L4', 'L5', 'risk']]"
   ]
  },
  {
   "cell_type": "code",
   "execution_count": null,
   "metadata": {},
   "outputs": [],
   "source": [
    "df_risks = df.copy()\n"
   ]
  },
  {
   "cell_type": "code",
   "execution_count": null,
   "metadata": {},
   "outputs": [],
   "source": [
    "# if no_catastrophic:\n",
    "#     print(\"No catastrophic risks\")\n",
    "#     df_risks[\"risk\"] = df_risks[\"risk\"].astype(str)\n",
    "\n",
    "#     df_risks.loc[\n",
    "#         (df_risks[\"Sf\"] == 4) | (df_risks[\"Sp\"] == 4) | (df_risks[\"Ss\"] == 4),\n",
    "#         \"risk\"\n",
    "#     ] = 'no_fly_zone'"
   ]
  },
  {
   "cell_type": "code",
   "execution_count": null,
   "metadata": {},
   "outputs": [],
   "source": [
    "df_risks"
   ]
  },
  {
   "cell_type": "markdown",
   "metadata": {},
   "source": [
    "## 2. Risk scores for gdf"
   ]
  },
  {
   "cell_type": "code",
   "execution_count": null,
   "metadata": {},
   "outputs": [],
   "source": [
    "gdf = gpd.read_file(f\"/Users/cmartens/Documents/thesis_cf_martens/1.get_osm_data/output/{city}/osm_data_{city}.geojson\")"
   ]
  },
  {
   "cell_type": "code",
   "execution_count": null,
   "metadata": {},
   "outputs": [],
   "source": [
    "gdf['area_type'].unique()"
   ]
  },
  {
   "cell_type": "code",
   "execution_count": null,
   "metadata": {},
   "outputs": [],
   "source": [
    "gdf = gdf.merge(df_risks[['area_type', 'risk', 'Height']], on='area_type', how='left')"
   ]
  },
  {
   "cell_type": "markdown",
   "metadata": {},
   "source": [
    "##### All postnl data gets risk = 0"
   ]
  },
  {
   "cell_type": "code",
   "execution_count": null,
   "metadata": {},
   "outputs": [],
   "source": [
    "# if area_type is postnl then set risk to 0\n",
    "gdf.loc[gdf['area_type'] == 'postnl point', 'risk'] = 0\n",
    "gdf.loc[gdf['area_type'] == 'postnl point', 'Height'] = 0"
   ]
  },
  {
   "cell_type": "code",
   "execution_count": null,
   "metadata": {},
   "outputs": [],
   "source": [
    "# print rows with risk == nan\n",
    "gdf[gdf['risk'].isna()]"
   ]
  },
  {
   "cell_type": "code",
   "execution_count": null,
   "metadata": {},
   "outputs": [],
   "source": [
    "gdf['risk'].unique()"
   ]
  },
  {
   "cell_type": "code",
   "execution_count": null,
   "metadata": {},
   "outputs": [],
   "source": [
    "gdf['risk'] = gdf['risk'].round(3)"
   ]
  },
  {
   "cell_type": "code",
   "execution_count": null,
   "metadata": {},
   "outputs": [],
   "source": [
    "gdf.to_file((f\"/Users/cmartens/Documents/thesis_cf_martens/2.risk_analysis/output/{city}/osm_data_with_risk_{city}.geojson\"), driver=\"GeoJSON\")"
   ]
  }
 ],
 "metadata": {
  "kernelspec": {
   "display_name": "Python 3",
   "language": "python",
   "name": "python3"
  },
  "language_info": {
   "codemirror_mode": {
    "name": "ipython",
    "version": 3
   },
   "file_extension": ".py",
   "mimetype": "text/x-python",
   "name": "python",
   "nbconvert_exporter": "python",
   "pygments_lexer": "ipython3",
   "version": "3.13.2"
  }
 },
 "nbformat": 4,
 "nbformat_minor": 2
}
