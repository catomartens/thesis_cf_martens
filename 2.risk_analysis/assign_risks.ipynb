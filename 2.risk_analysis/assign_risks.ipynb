{
 "cells": [
  {
   "cell_type": "markdown",
   "metadata": {},
   "source": [
    "# Assign Risks and Get No-Fly zones\n",
    "\n",
    "This notebook is step 2 in the process of creating a graph for a specific area. To run this notebook, you must first execute get_data.ipynb for the desired area.\n",
    "\n",
    "In this step, risk scores are calculated for each area type based on predefined likelihood and severity values. It is important to ensure that your risk_scores.csv matches all the data retrieved in the first step, especially regarding the mapping of data to groups. These risk scores are then assigned to all data points obtained from the OSM data in get_data.ipynb. In addition, no-fly zones are also added to the dataset.\n",
    "\n",
    "The result is exported as a GeoJSON file, which can be used as input for get_graph.ipynb."
   ]
  },
  {
   "cell_type": "code",
   "execution_count": null,
   "metadata": {},
   "outputs": [],
   "source": [
    "# Import necessary libraries\n",
    "import pandas as pd\n",
    "import geopandas as gpd\n",
    "import numpy as np\n",
    "import os"
   ]
  },
  {
   "cell_type": "markdown",
   "metadata": {},
   "source": [
    "## 0. Specify the area\n",
    "\n",
    "Set folder_name to the folder used for the desired area, and set file_name to the corresponding area file name (including .geojson).\n",
    "Make sure to use the same boundaries as in get_data.ipynb to correctly identify the no-fly zones for the selected area."
   ]
  },
  {
   "cell_type": "code",
   "execution_count": null,
   "metadata": {},
   "outputs": [],
   "source": [
    "# city = 'breda'\n",
    "# city = 'borsele'\n",
    "city = 'alphen-waddinxveen' # lowercase name of the folder"
   ]
  },
  {
   "cell_type": "code",
   "execution_count": null,
   "metadata": {},
   "outputs": [],
   "source": [
    "file_name = f'{city}.geojson' # name of the file to be created"
   ]
  },
  {
   "cell_type": "code",
   "execution_count": null,
   "metadata": {},
   "outputs": [],
   "source": [
    "# boundaries = ['Breda, Noord-Brabant, Netherlands']\n",
    "\n",
    "boundaries = [\n",
    "    'Alphen aan den Rijn, Zuid-Holland, Netherlands',\n",
    "    'Waddinxveen, Zuid-Holland, Netherlands',\n",
    "    'Boskoop, Zuid-Holland, Netherlands'\n",
    "] # name of the boundaries to be used in the file\n",
    "\n",
    "#boundaries = ['Borsele, Zeeland, Netherlands']\n"
   ]
  },
  {
   "cell_type": "code",
   "execution_count": null,
   "metadata": {},
   "outputs": [],
   "source": [
    "output_path = \"output/\" + city\n",
    "\n",
    "os.makedirs(output_path, exist_ok=True)"
   ]
  },
  {
   "cell_type": "markdown",
   "metadata": {},
   "source": [
    "## 1. Calculate risks\n",
    "\n",
    "Based on the severity and likelihood scores in risk_scores.csv, the overall risk scores for each data point are calculated here. The severity weights values used in this research are:\n",
    "- fatality = 0.4 \n",
    "- property = 0.3 \n",
    "- societal = 0.3 \n",
    "\n",
    "However, you can adjust these values as needed."
   ]
  },
  {
   "cell_type": "code",
   "execution_count": null,
   "metadata": {},
   "outputs": [],
   "source": [
    "# Read the OSM data from the GeoJSON file\n",
    "df = pd.read_csv(\"../2.risk_analysis/input/risk_scores.csv\") \n"
   ]
  },
  {
   "cell_type": "code",
   "execution_count": null,
   "metadata": {},
   "outputs": [],
   "source": [
    "df"
   ]
  },
  {
   "cell_type": "code",
   "execution_count": null,
   "metadata": {},
   "outputs": [],
   "source": [
    "# Define the severity weights\n",
    "# These values are used to calculate the overall risk score for each data point.\n",
    "# You can adjust these values as needed.\n",
    "\n",
    "alpha_f = 0.4  # fatality\n",
    "alpha_p = 0.3  # property\n",
    "alpha_s = 0.3  # societal"
   ]
  },
  {
   "cell_type": "markdown",
   "metadata": {},
   "source": [
    "### 1.2 Calculate risk"
   ]
  },
  {
   "cell_type": "code",
   "execution_count": null,
   "metadata": {},
   "outputs": [],
   "source": [
    "# Number of external risk factors, if you want to change this, also change the risk_scores.csv file\n",
    "n_factors = 5\n",
    "\n",
    "# Calculate cumulative contribution per domain (without division)\n",
    "R_f_total = 0\n",
    "R_p_total = 0\n",
    "\n",
    "# Loop over external risk factors\n",
    "for i in range(1, n_factors + 1):\n",
    "    # Calculate individual fatality and property risk contributions\n",
    "    df[f\"R_if_{i}\"] = df[\"Sf\"] * df[f\"L{i}\"]\n",
    "    df[f\"R_ip_{i}\"] = df[\"Sp\"] * df[f\"L{i}\"]\n",
    "\n",
    "    # Sum cumulatively\n",
    "    R_f_total += df[f\"R_if_{i}\"]\n",
    "    R_p_total += df[f\"R_ip_{i}\"]\n",
    "\n",
    "# Cumulative crash-related risks\n",
    "df[\"R_f\"] = R_f_total\n",
    "df[\"R_p\"] = R_p_total\n",
    "\n",
    "# Societal risk (independent of risk factors)\n",
    "df[\"R_s\"] = df[\"Ss\"]\n",
    "\n",
    "# Normalize fatality, property and societal domains separately\n",
    "df[\"R_f_norm\"] = (df[\"R_f\"] - df[\"R_f\"].min()) / (df[\"R_f\"].max() - df[\"R_f\"].min())\n",
    "df[\"R_p_norm\"] = (df[\"R_p\"] - df[\"R_p\"].min()) / (df[\"R_p\"].max() - df[\"R_p\"].min())\n",
    "df[\"R_s_norm\"] = (df[\"R_s\"] - df[\"R_s\"].min()) / (df[\"R_s\"].max() - df[\"R_s\"].min())\n",
    "\n",
    "# Use normalized risks in weighted sum\n",
    "df[\"risk\"] = (\n",
    "    alpha_f * df[\"R_f_norm\"] +\n",
    "    alpha_p * df[\"R_p_norm\"] +\n",
    "    alpha_s * df[\"R_s_norm\"]\n",
    ")\n",
    "\n",
    "df[\"risk\"] = df[\"risk\"].round(3)\n",
    "\n",
    "# Sort by highest total risk\n",
    "df_sorted = df.sort_values(\"risk\", ascending=False)\n"
   ]
  },
  {
   "cell_type": "code",
   "execution_count": null,
   "metadata": {},
   "outputs": [],
   "source": [
    "df_sorted.drop(columns=[\"Height\"], inplace=True)"
   ]
  },
  {
   "cell_type": "code",
   "execution_count": null,
   "metadata": {},
   "outputs": [],
   "source": [
    "df_sorted[['area_type', 'Sf', 'Sp', 'Ss', 'L1', 'L2', 'L3', 'L4', 'L5', 'risk']]"
   ]
  },
  {
   "cell_type": "code",
   "execution_count": null,
   "metadata": {},
   "outputs": [],
   "source": [
    "df_risks = df.copy()"
   ]
  },
  {
   "cell_type": "code",
   "execution_count": null,
   "metadata": {},
   "outputs": [],
   "source": [
    "df_risks"
   ]
  },
  {
   "cell_type": "markdown",
   "metadata": {},
   "source": [
    "## 2. Assign risk scores to data\n",
    "\n",
    "Now that the risk scores have been calculated, we can match them to the data to create a complete dataset containing the type of infrastructure or linear corridors, their geometries, and their corresponding risk scores."
   ]
  },
  {
   "cell_type": "code",
   "execution_count": null,
   "metadata": {},
   "outputs": [],
   "source": [
    "# Get the geometries from the GeoJSON file\n",
    "# This file contains the geometries of the infrastructure or linear corridors.\n",
    "# Retrieved in get_osm_data.ipynb\n",
    "gdf = gpd.read_file(f\"../1.get_osm_data/output/{city}/osm_data_{city}.geojson\")"
   ]
  },
  {
   "cell_type": "code",
   "execution_count": null,
   "metadata": {},
   "outputs": [],
   "source": [
    "gdf['area_type'].unique()"
   ]
  },
  {
   "cell_type": "code",
   "execution_count": null,
   "metadata": {},
   "outputs": [],
   "source": [
    "# Merge the risk scores with the geometries\n",
    "# This will add the risk scores to the GeoDataFrame based on the area_type.\n",
    "gdf = gdf.merge(df_risks[['area_type', 'risk', 'Height']], on='area_type', how='left')"
   ]
  },
  {
   "cell_type": "code",
   "execution_count": null,
   "metadata": {},
   "outputs": [],
   "source": [
    "# All 'postnl point' areas have a risk of 0, as they are not relevant for the risk analysis.\n",
    "gdf.loc[gdf['area_type'] == 'postnl point', 'risk'] = 0\n",
    "gdf.loc[gdf['area_type'] == 'postnl point', 'Height'] = 0"
   ]
  },
  {
   "cell_type": "code",
   "execution_count": null,
   "metadata": {},
   "outputs": [],
   "source": [
    "# Round the risk scores to 3 decimal places\n",
    "gdf['risk'] = gdf['risk'].round(3)"
   ]
  },
  {
   "cell_type": "code",
   "execution_count": null,
   "metadata": {},
   "outputs": [],
   "source": [
    "# Save the GeoDataFrame to a GeoJSON file\n",
    "gdf.to_file((f\"../2.risk_analysis/output/{city}/osm_data_with_risk_{city}.geojson\"), driver=\"GeoJSON\")"
   ]
  },
  {
   "cell_type": "code",
   "execution_count": null,
   "metadata": {},
   "outputs": [],
   "source": []
  }
 ],
 "metadata": {
  "kernelspec": {
   "display_name": "Python 3",
   "language": "python",
   "name": "python3"
  },
  "language_info": {
   "codemirror_mode": {
    "name": "ipython",
    "version": 3
   },
   "file_extension": ".py",
   "mimetype": "text/x-python",
   "name": "python",
   "nbconvert_exporter": "python",
   "pygments_lexer": "ipython3",
   "version": "3.13.2"
  }
 },
 "nbformat": 4,
 "nbformat_minor": 2
}
