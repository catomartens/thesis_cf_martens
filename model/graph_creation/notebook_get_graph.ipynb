{
 "cells": [
  {
   "cell_type": "markdown",
   "id": "fb59674e",
   "metadata": {},
   "source": [
    "# Graph Creation\n",
    "\n",
    "This notebook enables the generation of graphs based on pre-collected OSM data. It is important that the data has already been retrieved and stored in a GeoJSON file, with each row containing a geometry of type LineString, MultiLineString, Polygon, or MultiPolygon.\n",
    "\n",
    "The required data can be obtained using the notebooks notebook_get_data.ipynb and notebook_assign_risk.ipynb.\n",
    "The resulting GeoJSON file from those steps serves as input for this notebook; you only need to specify the city name.\n",
    "Make sure you also know which distribution center corresponds to the selected city, as this must be provided as well."
   ]
  },
  {
   "cell_type": "code",
   "execution_count": 21,
   "id": "1c257370",
   "metadata": {},
   "outputs": [],
   "source": [
    "from model_get_data import read_geojson\n",
    "from model_create_graph import create_graph_with_nodes\n",
    "from model_add_linear_infrastructures import add_linesstrings_to_graph\n",
    "from model_add_polygon_infrastructures import add_grid_polygons_to_graph\n",
    "from model_connect_postnl_nodes import connect_to_nearest_edge\n",
    "from model_delete_edges_in_no_fly import remove_no_fly_zones_from_graph\n",
    "from model_check import fill_missing_edge_heights_from_csv, diagnose_graph\n",
    "\n",
    "import pickle"
   ]
  },
  {
   "cell_type": "markdown",
   "id": "4bdd2ecc",
   "metadata": {},
   "source": [
    "### 0. Specifying the Area\n",
    "Set the city variable to indicate which area the data was collected for.\n",
    "Set the distribution variable to specify the corresponding distribution center.\n",
    "If you're unsure which distribution center belongs to the selected city, you can look it up in the file:\n",
    "model/postNL/output/postnl_distribution_cleaned.json."
   ]
  },
  {
   "cell_type": "code",
   "execution_count": 5,
   "id": "d511f486",
   "metadata": {},
   "outputs": [],
   "source": [
    "city = 'borsele' # use lower case\n",
    "depot = ['Goes'] # use capitalized"
   ]
  },
  {
   "cell_type": "markdown",
   "id": "224f2a54",
   "metadata": {},
   "source": [
    "### 0. Get Data\n",
    "Uses the read_geojson function to load and prepare the data for the selected area, so that a graph can be constructed from the OSM data."
   ]
  },
  {
   "cell_type": "code",
   "execution_count": 6,
   "id": "9ddd98e7",
   "metadata": {},
   "outputs": [
    {
     "name": "stdout",
     "output_type": "stream",
     "text": [
      "Getting separate dataframes for lines, polygons, postnl points, distribution points and no fly zones\n",
      "Looking for distribution points in ['Goes']\n",
      "Found 1 distribution points in ['Goes']\n",
      "Found 5309 lines, 4938 polygons, 24 postnl points, 1 distribution point and 6 no-fly zones\n"
     ]
    }
   ],
   "source": [
    "gdf, lines_gdf, polygons_gdf, post_nl_gdf, no_fly_zones_gdf = read_geojson(f'/Users/cmartens/Documents/thesis_cf_martens/no_fly_zones/output/data_for_graph_{city}.geojson', depot, all=True)"
   ]
  },
  {
   "cell_type": "code",
   "execution_count": 7,
   "id": "7f7ad872",
   "metadata": {},
   "outputs": [
    {
     "data": {
      "text/html": [
       "<div>\n",
       "<style scoped>\n",
       "    .dataframe tbody tr th:only-of-type {\n",
       "        vertical-align: middle;\n",
       "    }\n",
       "\n",
       "    .dataframe tbody tr th {\n",
       "        vertical-align: top;\n",
       "    }\n",
       "\n",
       "    .dataframe thead th {\n",
       "        text-align: right;\n",
       "    }\n",
       "</style>\n",
       "<table border=\"1\" class=\"dataframe\">\n",
       "  <thead>\n",
       "    <tr style=\"text-align: right;\">\n",
       "      <th></th>\n",
       "      <th>name</th>\n",
       "      <th>id</th>\n",
       "      <th>description</th>\n",
       "      <th>area_type</th>\n",
       "      <th>category</th>\n",
       "      <th>risk</th>\n",
       "      <th>Height</th>\n",
       "      <th>air_type</th>\n",
       "      <th>geometry</th>\n",
       "    </tr>\n",
       "  </thead>\n",
       "  <tbody>\n",
       "    <tr>\n",
       "      <th>10571</th>\n",
       "      <td>TRAUMAHELIKOPTER landingsplaats GOES/ Adrz</td>\n",
       "      <td>NaN</td>\n",
       "      <td>Vluchten in de OPEN categorie zijn hier niet t...</td>\n",
       "      <td>No-fly zone</td>\n",
       "      <td>Special Operations</td>\n",
       "      <td>no_fly_zone</td>\n",
       "      <td>NaN</td>\n",
       "      <td>Air Ambulance Landing Sites</td>\n",
       "      <td>POLYGON ((53637.181 389447.667, 53637.091 3894...</td>\n",
       "    </tr>\n",
       "    <tr>\n",
       "      <th>10572</th>\n",
       "      <td>Sloegebied (Vlissingen-Oost) Havengebied met r...</td>\n",
       "      <td>NaN</td>\n",
       "      <td>OPEN cat. vluchten zijn hier verboden SPEC cat...</td>\n",
       "      <td>No-fly zone</td>\n",
       "      <td>Industry</td>\n",
       "      <td>no_fly_zone</td>\n",
       "      <td>NaN</td>\n",
       "      <td>High-Risk Areas</td>\n",
       "      <td>POLYGON ((40996.43 385892.928, 40981.46 385292...</td>\n",
       "    </tr>\n",
       "    <tr>\n",
       "      <th>10573</th>\n",
       "      <td>Zeesteiger Zeeland Refinery Havengebied met ri...</td>\n",
       "      <td>NaN</td>\n",
       "      <td>OPEN cat. vluchten zijn hier verboden SPEC cat...</td>\n",
       "      <td>No-fly zone</td>\n",
       "      <td>Industry</td>\n",
       "      <td>no_fly_zone</td>\n",
       "      <td>NaN</td>\n",
       "      <td>High-Risk Areas</td>\n",
       "      <td>POLYGON ((39745.895 381261.033, 39220.917 3816...</td>\n",
       "    </tr>\n",
       "    <tr>\n",
       "      <th>10574</th>\n",
       "      <td>Gebied met verbod vanuit beveiligingsoverwegingen</td>\n",
       "      <td>NaN</td>\n",
       "      <td>OPEN cat. vluchten zijn hier verboden SPEC cat...</td>\n",
       "      <td>No-fly zone</td>\n",
       "      <td>Security</td>\n",
       "      <td>no_fly_zone</td>\n",
       "      <td>NaN</td>\n",
       "      <td>Restricted Zones</td>\n",
       "      <td>POLYGON ((39393.122 383773.851, 39393.084 3837...</td>\n",
       "    </tr>\n",
       "    <tr>\n",
       "      <th>10575</th>\n",
       "      <td>Gebied met verbod vanuit beveiligingsoverwegingen</td>\n",
       "      <td>NaN</td>\n",
       "      <td>OPEN cat. vluchten zijn hier verboden SPEC cat...</td>\n",
       "      <td>No-fly zone</td>\n",
       "      <td>Security</td>\n",
       "      <td>no_fly_zone</td>\n",
       "      <td>NaN</td>\n",
       "      <td>Restricted Zones</td>\n",
       "      <td>POLYGON ((39145.428 384768.77, 39145.39 384762...</td>\n",
       "    </tr>\n",
       "    <tr>\n",
       "      <th>10576</th>\n",
       "      <td>Natura 2000 Area Westerschelde &amp; Saeftinghe</td>\n",
       "      <td>NaN</td>\n",
       "      <td>Natura 2000-besluit 2010, wijzigingsbesluit 2012</td>\n",
       "      <td>No-fly zone</td>\n",
       "      <td>Environment</td>\n",
       "      <td>no_fly_zone</td>\n",
       "      <td>NaN</td>\n",
       "      <td>Protected Nature Reserves</td>\n",
       "      <td>MULTIPOLYGON (((38488.379 384072.327, 38481.00...</td>\n",
       "    </tr>\n",
       "  </tbody>\n",
       "</table>\n",
       "</div>"
      ],
      "text/plain": [
       "                                                    name  id  \\\n",
       "10571        TRAUMAHELIKOPTER landingsplaats GOES/ Adrz  NaN   \n",
       "10572  Sloegebied (Vlissingen-Oost) Havengebied met r... NaN   \n",
       "10573  Zeesteiger Zeeland Refinery Havengebied met ri... NaN   \n",
       "10574  Gebied met verbod vanuit beveiligingsoverwegingen NaN   \n",
       "10575  Gebied met verbod vanuit beveiligingsoverwegingen NaN   \n",
       "10576        Natura 2000 Area Westerschelde & Saeftinghe NaN   \n",
       "\n",
       "                                             description    area_type  \\\n",
       "10571  Vluchten in de OPEN categorie zijn hier niet t...  No-fly zone   \n",
       "10572  OPEN cat. vluchten zijn hier verboden SPEC cat...  No-fly zone   \n",
       "10573  OPEN cat. vluchten zijn hier verboden SPEC cat...  No-fly zone   \n",
       "10574  OPEN cat. vluchten zijn hier verboden SPEC cat...  No-fly zone   \n",
       "10575  OPEN cat. vluchten zijn hier verboden SPEC cat...  No-fly zone   \n",
       "10576   Natura 2000-besluit 2010, wijzigingsbesluit 2012  No-fly zone   \n",
       "\n",
       "                 category         risk  Height                     air_type  \\\n",
       "10571  Special Operations  no_fly_zone     NaN  Air Ambulance Landing Sites   \n",
       "10572            Industry  no_fly_zone     NaN              High-Risk Areas   \n",
       "10573            Industry  no_fly_zone     NaN              High-Risk Areas   \n",
       "10574            Security  no_fly_zone     NaN             Restricted Zones   \n",
       "10575            Security  no_fly_zone     NaN             Restricted Zones   \n",
       "10576         Environment  no_fly_zone     NaN    Protected Nature Reserves   \n",
       "\n",
       "                                                geometry  \n",
       "10571  POLYGON ((53637.181 389447.667, 53637.091 3894...  \n",
       "10572  POLYGON ((40996.43 385892.928, 40981.46 385292...  \n",
       "10573  POLYGON ((39745.895 381261.033, 39220.917 3816...  \n",
       "10574  POLYGON ((39393.122 383773.851, 39393.084 3837...  \n",
       "10575  POLYGON ((39145.428 384768.77, 39145.39 384762...  \n",
       "10576  MULTIPOLYGON (((38488.379 384072.327, 38481.00...  "
      ]
     },
     "execution_count": 7,
     "metadata": {},
     "output_type": "execute_result"
    }
   ],
   "source": [
    "no_fly_zones_gdf"
   ]
  },
  {
   "cell_type": "markdown",
   "id": "029cbfbe",
   "metadata": {},
   "source": [
    "## 1. Create Initial Graph with Nodes\n",
    "Creates an unconnected graph by adding all PostNL points and the distribution center as nodes."
   ]
  },
  {
   "cell_type": "code",
   "execution_count": 9,
   "id": "c3685074",
   "metadata": {},
   "outputs": [
    {
     "name": "stdout",
     "output_type": "stream",
     "text": [
      "Graph creation summary:\n",
      " - Total rows: 24\n",
      " - Distributions added: 1\n",
      " - PostNL added: 23\n",
      " - Skipped (non-Point geometry): 0\n"
     ]
    }
   ],
   "source": [
    "G = create_graph_with_nodes(post_nl_gdf)"
   ]
  },
  {
   "cell_type": "markdown",
   "id": "a14ededf",
   "metadata": {},
   "source": [
    "## 2. Add LineStrings to Graph\n",
    "Adds all LineString and MultiLineString geometries to the graph as edges. Ensures they are connected to each other and to the existing nodes by snapping nearby points together."
   ]
  },
  {
   "cell_type": "code",
   "execution_count": 11,
   "id": "614f7345",
   "metadata": {},
   "outputs": [
    {
     "name": "stdout",
     "output_type": "stream",
     "text": [
      "Exploding MultiLineString geometries into separate LineString geometries.\n",
      "Finding intersections between lines.\n",
      "Found 18862 intersection points.\n",
      "Adding snapped points to the graph.\n"
     ]
    },
    {
     "name": "stderr",
     "output_type": "stream",
     "text": [
      "/Users/cmartens/Library/Python/3.13/lib/python/site-packages/shapely/linear.py:88: RuntimeWarning: invalid value encountered in line_locate_point\n",
      "  return lib.line_locate_point(line, other)\n",
      "/Users/cmartens/Library/Python/3.13/lib/python/site-packages/shapely/linear.py:88: RuntimeWarning: invalid value encountered in line_locate_point\n",
      "  return lib.line_locate_point(line, other)\n",
      "/Users/cmartens/Library/Python/3.13/lib/python/site-packages/shapely/linear.py:88: RuntimeWarning: invalid value encountered in line_locate_point\n",
      "  return lib.line_locate_point(line, other)\n"
     ]
    },
    {
     "name": "stdout",
     "output_type": "stream",
     "text": [
      "\n",
      " Graph update summary:\n",
      " - Lines found: 5309\n",
      " - Intersections found: 5288\n",
      " - Line intersection nodes added: 5957\n",
      " - Edges added: 29815\n",
      " - New waypoint nodes added: 22190\n",
      " - Skipped short/invalid segments: 213\n",
      " - Final graph has 28217 nodes and 29840 edges\n"
     ]
    }
   ],
   "source": [
    "G_with_linestrings = add_linesstrings_to_graph(G, lines_gdf)"
   ]
  },
  {
   "cell_type": "markdown",
   "id": "7dd0143e",
   "metadata": {},
   "source": [
    "## 3. Add polygons to \n",
    "\n",
    "Generates a grid for each polygon and connects the grid points to the polygon boundaries. Adds all polygons to the graph and ensures they are properly snapped to the existing graph structure, so that all elements are correctly connected."
   ]
  },
  {
   "cell_type": "code",
   "execution_count": 13,
   "id": "bfeed5c0",
   "metadata": {},
   "outputs": [
    {
     "name": "stdout",
     "output_type": "stream",
     "text": [
      "Excecuting add_grid_polygons_to_graph function\n",
      "G before polygons: 28217 nodes, 29840 edges\n",
      "\n",
      " Step 1\n",
      "Adding grid structure to 4938 polygons, with grid size 50 and max cells 10000.\n",
      "G after grid: 139185 nodes, 196362 edges\n",
      "\n",
      " Step 2\n",
      "Adding local polygon boundaries to the graph with snap tolerance 35 and boundary sample distance 50.\n",
      "\n",
      " Step 3\n",
      "Finding intersections for 347017 edges.\n",
      "Found 955178 intersections between polygon-polygon and polygon-line.\n",
      "\n",
      " Step 4\n",
      "Number of unique snapt points: 257145\n",
      "\n",
      " Step 5\n",
      "Mapping geometries to edges.\n",
      "\n",
      " Step 6\n",
      "Adding intersection nodes.\n",
      "Intersection nodes added: 59271\n",
      "\n",
      " Step 7\n",
      " Splitting edges at intersections.\n",
      " Edges split and added: 0\n",
      "\n",
      " Step 8\n",
      "STRtree indexing over 72029 polygon_boundary points.\n",
      "Connected nodes: 15945\n",
      "Skipped 11525 line intersections/waypoints that could not be connected to polygon boundaries. Consider increasing the max_connection_distance.\n",
      "G after connecting: 270485 nodes, 437958 edges\n"
     ]
    }
   ],
   "source": [
    "G_with_grids_and_boundaries = add_grid_polygons_to_graph(G_with_linestrings, polygons_gdf, lines_gdf)"
   ]
  },
  {
   "cell_type": "markdown",
   "id": "e83aa1ae",
   "metadata": {},
   "source": [
    "## 4. Connect postnl and distribution points to graph\n",
    "\n",
    "All points are linked to the nearest location in the graph using a connector, provided the distance does not exceed max_connection_distance."
   ]
  },
  {
   "cell_type": "code",
   "execution_count": 16,
   "id": "985ee68a",
   "metadata": {},
   "outputs": [
    {
     "name": "stdout",
     "output_type": "stream",
     "text": [
      "Total edges indexed: 437958\n",
      "Start iterating over postnl and distribution nodes.\n",
      "Node 0 connected to edge ((46052.099, 388124.03)-(46052.682, 388142.246)) via new node POINT (46052.4162386423 388133.9429940057) at d = 2.02 m\n",
      "Node 1 connected to edge ((45566.436, 388448.955)-(45624.995, 388401.499)) via new node POINT (45614.94534030524 388409.6432075595) at d = 7.39 m\n",
      "Node 2 connected to edge ((np.float64(45039.54), np.float64(382496.538))-(44993.759, 382430.667)) via new node POINT (45005.653770497614 382447.7815328291) at d = 3.90 m\n",
      "Node 3 connected to edge ((45630.308, 378936.329)-(45676.169, 378936.329)) via new node POINT (45669.09780062066 378936.3290701152) at d = 0.90 m\n",
      "Node 4 connected to edge ((51617.191, 386508.132)-(51667.191, 386508.132)) via new node POINT (51639.79375365123 386508.1320369003) at d = 6.59 m\n",
      "Node 5 connected to edge ((50027.255, 383812.92)-(50032.5, 383815.54)) via new node POINT (50032.038546567754 383815.30975489947) at d = 4.17 m\n",
      "Node 6 connected to edge ((50336.978, 387943.268)-(50325.155, 387943.234)) via new node POINT (50325.95018369282 387943.23628675) at d = 5.49 m\n",
      "Node 7 connected to edge ((52459.679, 382822.091)-(52426.79, 382822.003)) via new node POINT (52433.792804946235 382822.02173717157) at d = 5.55 m\n",
      "Node 8 connected to edge ((np.float64(46095.348), np.float64(383543.333))-(np.float64(46091.712), np.float64(383556.999))) via new node POINT (46092.867829500494 383552.65478494123) at d = 5.84 m\n",
      "Node 9 connected to edge ((50533.229, 380966.273)-(50533.229, 380952.618)) via new node POINT (50533.22888220848 380958.5435216513) at d = 2.40 m\n",
      "Node 10 connected to edge ((np.float64(48289.687), np.float64(381035.823))-(48319.771, 381047.943)) via new node POINT (48293.48011153597 381037.35113827337) at d = 6.27 m\n",
      "Node 11 connected to edge ((40086.803, 382681.904)-(40086.803, 382712.137)) via new node POINT (40086.80293968669 382702.74322755175) at d = 2.40 m\n",
      "Node 12 connected to edge ((42900.213, 386179.146)-(42880.381, 386178.138)) via new node POINT (42888.03654004991 386178.5271077234) at d = 9.61 m\n",
      "Node 13 connected to edge ((42578.391, 386200.344)-(42583.844, 386172.212)) via new node POINT (42583.03326397127 386176.3945831579) at d = 4.13 m\n",
      "Node 14 connected to edge ((40601.883, 388125.851)-(40564.496, 388125.851)) via new node POINT (40571.64429517571 388125.85106823855) at d = 1.65 m\n",
      "Node 15 connected to edge ((52417.191, 386608.132)-(52378.088, 386608.132)) via new node POINT (52412.321127060626 386608.1320323051) at d = 0.15 m\n",
      "Node 16 connected to edge ((52067.191, 386708.132)-(52029.252, 386708.132)) via new node POINT (52064.91091666435 386708.132034683) at d = 1.80 m\n",
      "Node 17 connected to edge ((48229.124, 386224.838)-(48245.744, 386214.461)) via new node POINT (48235.9381671519 386220.5834505093) at d = 5.12 m\n",
      "Node 18 connected to edge ((41412.964, 390678.888)-(41448.657, 390678.888)) via new node POINT (41423.048065799194 390678.8878748424) at d = 7.84 m\n",
      "Node 19 connected to edge ((45538.456, 387855.708)-(45526.87, 387831.921)) via new node POINT (45537.651943708566 387854.0572070599) at d = 1.41 m\n",
      "Node 20 connected to edge ((46218.542, 388614.195)-(46215.685, 388620.06)) via new node POINT (46216.92641714529 388617.5115535327) at d = 1.78 m\n",
      "Node 21 too far from any edge: 14.10 m\n",
      "Node 22 connected to edge ((41412.964, 390628.888)-(41373.606, 390628.888)) via new node POINT (41385.733846109506 390628.8879462465) at d = 4.92 m\n",
      "Node 166248 too far from any edge: 357.64 m\n",
      "\n",
      " Summary of connections:\n",
      " - Connected: 22\n",
      " - Skipped: 2\n"
     ]
    }
   ],
   "source": [
    "G_with_grids_and_boundaries_connected = connect_to_nearest_edge(G_with_grids_and_boundaries, max_connection_distance=10)"
   ]
  },
  {
   "cell_type": "markdown",
   "id": "2b8aaea0",
   "metadata": {},
   "source": [
    "## 5. Delete edges inside nofly zones\n",
    "\n",
    "All edges located within no-fly zones are detected and removed from the graph."
   ]
  },
  {
   "cell_type": "code",
   "execution_count": 17,
   "id": "ee9e8e0b",
   "metadata": {},
   "outputs": [
    {
     "name": "stdout",
     "output_type": "stream",
     "text": [
      "Get all lines from the graph.\n",
      "Get all lines that are inside no-fly zones.\n",
      "Checking against 6 no-fly zones.\n",
      "99148 edges marked for removal (within no-fly zones).\n",
      "Number of edges inside no-fly zones: 99148\n",
      "Removing filtered edges from the graph.\n",
      "99148 edges removed from the graph.\n"
     ]
    }
   ],
   "source": [
    "G_final = remove_no_fly_zones_from_graph(G_with_grids_and_boundaries_connected, no_fly_zones_gdf)"
   ]
  },
  {
   "cell_type": "markdown",
   "id": "237c5b8d",
   "metadata": {},
   "source": [
    "## 6. Save graph\n",
    "\n",
    "Graph will be saved to output folder."
   ]
  },
  {
   "cell_type": "code",
   "execution_count": 19,
   "id": "f544c3b3",
   "metadata": {},
   "outputs": [
    {
     "name": "stdout",
     "output_type": "stream",
     "text": [
      "Graph saved to output/borsele_raw.pkl\n"
     ]
    }
   ],
   "source": [
    "with open(f\"output/{city}_raw.pkl\", \"wb\") as f:\n",
    "    pickle.dump(G_final, f)\n",
    "\n",
    "print(f\"Graph saved to output/{city}_raw.pkl\")"
   ]
  },
  {
   "cell_type": "markdown",
   "id": "cb0d3af5",
   "metadata": {},
   "source": [
    "## 7. Plot graph"
   ]
  },
  {
   "cell_type": "markdown",
   "id": "249b6dc4",
   "metadata": {},
   "source": [
    "Plotting the graph on Folium."
   ]
  },
  {
   "cell_type": "code",
   "execution_count": 11,
   "id": "4d1d6c67",
   "metadata": {},
   "outputs": [],
   "source": [
    "# plot_graph_on_folium(G_final, gdf_polygons=polygons_gdf, plot_waypoints=True)"
   ]
  },
  {
   "cell_type": "markdown",
   "id": "86efc230",
   "metadata": {},
   "source": [
    "# 8. Check graph\n",
    "\n",
    "Use diagnose_graph to check if all nodes and edges are added correctly. If some height are missed these can still be added by using fill_missing_edge_heights_from_gdf."
   ]
  },
  {
   "cell_type": "code",
   "execution_count": 22,
   "id": "59339eb2",
   "metadata": {},
   "outputs": [
    {
     "name": "stdout",
     "output_type": "stream",
     "text": [
      "GRAPH DIAGNOSTICS\n",
      "\n",
      "Graph is NOT fully connected. Components: 70847\n",
      "Component size distribution: Counter({1: 70606, 4: 62, 6: 25, 8: 18, 2: 17, 9: 16, 5: 15, 10: 13, 7: 11, 3: 10, 11: 6, 14: 5, 12: 5, 18: 4, 16: 3, 13: 3, 19: 3, 15: 3, 23: 2, 39: 2, 197434: 1, 26: 1, 42: 1, 36: 1, 80: 1, 67: 1, 142: 1, 21: 1, 74: 1, 40: 1, 17: 1, 66: 1, 48: 1, 31: 1, 22: 1, 20: 1, 89: 1, 33: 1})\n",
      "\n",
      "Node types (ntype):\n",
      " - postnl: 23\n",
      " - distribution: 1\n",
      " - line_intersection: 5957\n",
      " - waypoint: 22258\n",
      " - grid_point: 110968\n",
      " - polygon_boundary: 72029\n",
      " - poly_intersection: 59271\n",
      "\n",
      "Edge types (etype):\n",
      " - postnl_connector: 22\n",
      " - Tracks and rural access roads: 13858\n",
      " - Regional roads: 7537\n",
      " - connector: 13437\n",
      " - Pedestrian and cycling paths: 7263\n",
      " - Motorways and major roads: 481\n",
      " - Rivers, canals and streams: 141\n",
      " - Meadows and open grass: 99165\n",
      " - Railways: 413\n",
      " - Residential areas: 17463\n",
      " - Industrial zones: 2354\n",
      " - Power lines: 393\n",
      " - Cultural sites: 25\n",
      " - Agricultural lands: 160488\n",
      " - Living and residential streets: 28\n",
      " - Forests and woodlands: 11787\n",
      " - Cemeteries: 572\n",
      " - Retail zones: 272\n",
      " - Parks: 798\n",
      " - Schools and universities: 359\n",
      " - Religious sites: 172\n",
      " - High infrastructures: 46\n",
      " - Lakes and ponds: 276\n",
      " - Wetlands: 1502\n",
      " - Power plants: 2\n",
      "\n",
      " Missing node attributes:\n",
      " - geometry: 0 missing\n",
      " - ntype: 0 missing\n",
      "\n",
      "Missing edge attributes:\n",
      " - geometry: 0 missing\n",
      " - length: 0 missing\n",
      " - risk: 0 missing\n",
      " - height: 44 missing\n",
      " - etype: 0 missing\n",
      "\n",
      "Diagnostics complete.\n"
     ]
    }
   ],
   "source": [
    "diagnose_graph(G_final)"
   ]
  },
  {
   "cell_type": "code",
   "execution_count": 23,
   "id": "126909e8",
   "metadata": {},
   "outputs": [
    {
     "name": "stdout",
     "output_type": "stream",
     "text": [
      "Height map loaded from CSV: {'Motorways and major roads': 30.0, 'Regional roads': 30.0, 'Tracks and rural access roads': 30.0, 'Living and residential streets': 30.0, 'Pedestrian and cycling paths': 30.0, 'Railways': 30.0, 'Power lines': 60.0, 'Power plants': 60.0, 'Communication towers': 60.0, 'High infrastructures': 60.0, 'Industrial zones': 60.0, 'Commercial zones': 60.0, 'Retail zones': 60.0, 'Residential areas': 60.0, 'Recreational zones': 30.0, 'Agricultural lands': 30.0, 'Forests and woodlands': 30.0, 'Meadows and open grass': 30.0, 'Rivers, canals and streams': 30.0, 'Lakes and ponds': 30.0, 'Water reservoirs': 30.0, 'Wetlands': 30.0, 'Schools and universities': 30.0, 'Hospitals': 60.0, 'Prisons': 60.0, 'Religious sites': 30.0, 'Cultural sites': 30.0, 'Cemeteries': 30.0, 'Parks': 30.0, 'connector': 30.0}\n",
      "Patched edge ((45566.436, 388448.955) → POINT (45614.94534030524 388409.6432075595)) with height=30.0 from etype='Regional roads'\n",
      "Patched edge ((50336.978, 387943.268) → POINT (50325.95018369282 387943.23628675)) with height=30.0 from etype='Regional roads'\n",
      "Patched edge ((42578.391, 386200.344) → POINT (42583.03326397127 386176.3945831579)) with height=30.0 from etype='Regional roads'\n",
      "Patched edge ((46218.542, 388614.195) → POINT (46216.92641714529 388617.5115535327)) with height=30.0 from etype='Pedestrian and cycling paths'\n",
      "Patched edge ((45538.456, 387855.708) → POINT (45537.651943708566 387854.0572070599)) with height=30.0 from etype='Pedestrian and cycling paths'\n",
      "Patched edge ((52459.679, 382822.091) → POINT (52433.792804946235 382822.02173717157)) with height=30.0 from etype='Regional roads'\n",
      "Patched edge ((42583.844, 386172.212) → POINT (42583.03326397127 386176.3945831579)) with height=30.0 from etype='Regional roads'\n",
      "Patched edge ((42900.213, 386179.146) → POINT (42888.03654004991 386178.5271077234)) with height=30.0 from etype='Regional roads'\n",
      "Patched edge ((42880.381, 386178.138) → POINT (42888.03654004991 386178.5271077234)) with height=30.0 from etype='Regional roads'\n",
      "Patched edge ((48229.124, 386224.838) → POINT (48235.9381671519 386220.5834505093)) with height=30.0 from etype='Regional roads'\n",
      "Patched edge ((45526.87, 387831.921) → POINT (45537.651943708566 387854.0572070599)) with height=30.0 from etype='Pedestrian and cycling paths'\n",
      "Patched edge ((np.float64(48245.744), np.float64(386214.461)) → POINT (48235.9381671519 386220.5834505093)) with height=30.0 from etype='Regional roads'\n",
      "Patched edge ((np.float64(48289.687), np.float64(381035.823)) → POINT (48293.48011153597 381037.35113827337)) with height=30.0 from etype='Regional roads'\n",
      "Patched edge ((np.float64(48319.771), np.float64(381047.943)) → POINT (48293.48011153597 381037.35113827337)) with height=30.0 from etype='Regional roads'\n",
      "Patched edge ((np.float64(46095.348), np.float64(383543.333)) → POINT (46092.867829500494 383552.65478494123)) with height=30.0 from etype='Regional roads'\n",
      "Patched edge ((np.float64(46091.712), np.float64(383556.999)) → POINT (46092.867829500494 383552.65478494123)) with height=30.0 from etype='Regional roads'\n",
      "Patched edge ((np.float64(45039.54), np.float64(382496.538)) → POINT (45005.653770497614 382447.7815328291)) with height=30.0 from etype='Regional roads'\n",
      "Patched edge ((np.float64(50325.155), np.float64(387943.234)) → POINT (50325.95018369282 387943.23628675)) with height=30.0 from etype='Regional roads'\n",
      "Patched edge ((45630.308, 378936.329) → POINT (45669.09780062066 378936.3290701152)) with height=60.0 from etype='Residential areas'\n",
      "Patched edge ((50533.229, 380966.273) → POINT (50533.22888220848 380958.5435216513)) with height=60.0 from etype='Residential areas'\n",
      "Patched edge ((40086.803, 382681.904) → POINT (40086.80293968669 382702.74322755175)) with height=60.0 from etype='Residential areas'\n",
      "Patched edge ((51617.191, 386508.132) → POINT (51639.79375365123 386508.1320369003)) with height=60.0 from etype='Residential areas'\n",
      "Patched edge ((51667.191, 386508.132) → POINT (51639.79375365123 386508.1320369003)) with height=60.0 from etype='Residential areas'\n",
      "Patched edge ((52067.191, 386708.132) → POINT (52064.91091666435 386708.132034683)) with height=60.0 from etype='Residential areas'\n",
      "Patched edge ((52417.191, 386608.132) → POINT (52412.321127060626 386608.1320323051)) with height=60.0 from etype='Residential areas'\n",
      "Patched edge ((40601.883, 388125.851) → POINT (40571.64429517571 388125.85106823855)) with height=60.0 from etype='Residential areas'\n",
      "Patched edge ((41412.964, 390628.888) → POINT (41385.733846109506 390628.8879462465)) with height=60.0 from etype='Residential areas'\n",
      "Patched edge ((41412.964, 390678.888) → POINT (41423.048065799194 390678.8878748424)) with height=60.0 from etype='Residential areas'\n",
      "Patched edge ((46052.099, 388124.03) → POINT (46052.4162386423 388133.9429940057)) with height=60.0 from etype='Retail zones'\n",
      "Patched edge ((50027.255, 383812.92) → POINT (50032.038546567754 383815.30975489947)) with height=30.0 from etype='Meadows and open grass'\n",
      "Patched edge ((50032.5, 383815.54) → POINT (50032.038546567754 383815.30975489947)) with height=30.0 from etype='Meadows and open grass'\n",
      "Patched edge ((45676.169, 378936.329) → POINT (45669.09780062066 378936.3290701152)) with height=60.0 from etype='Residential areas'\n",
      "Patched edge ((52426.79, 382822.003) → POINT (52433.792804946235 382822.02173717157)) with height=30.0 from etype='Regional roads'\n",
      "Patched edge ((45624.995, 388401.499) → POINT (45614.94534030524 388409.6432075595)) with height=30.0 from etype='Regional roads'\n",
      "Patched edge ((40086.803, 382712.137) → POINT (40086.80293968669 382702.74322755175)) with height=60.0 from etype='Residential areas'\n",
      "Patched edge ((52378.088, 386608.132) → POINT (52412.321127060626 386608.1320323051)) with height=60.0 from etype='Residential areas'\n",
      "Patched edge ((41448.657, 390678.888) → POINT (41423.048065799194 390678.8878748424)) with height=60.0 from etype='Residential areas'\n",
      "Patched edge ((50533.229, 380952.618) → POINT (50533.22888220848 380958.5435216513)) with height=60.0 from etype='Residential areas'\n",
      "Patched edge ((46215.685, 388620.06) → POINT (46216.92641714529 388617.5115535327)) with height=30.0 from etype='Pedestrian and cycling paths'\n",
      "Patched edge ((46052.682, 388142.246) → POINT (46052.4162386423 388133.9429940057)) with height=60.0 from etype='Retail zones'\n",
      "Patched edge ((52029.252, 386708.132) → POINT (52064.91091666435 386708.132034683)) with height=60.0 from etype='Residential areas'\n",
      "Patched edge ((40564.496, 388125.851) → POINT (40571.64429517571 388125.85106823855)) with height=60.0 from etype='Residential areas'\n",
      "Patched edge ((44993.759, 382430.667) → POINT (45005.653770497614 382447.7815328291)) with height=30.0 from etype='Regional roads'\n",
      "Patched edge ((41373.606, 390628.888) → POINT (41385.733846109506 390628.8879462465)) with height=60.0 from etype='Residential areas'\n",
      "\n",
      "Total edges patched: 44\n",
      "0     30.0\n",
      "1     30.0\n",
      "2     30.0\n",
      "3     30.0\n",
      "4     30.0\n",
      "5     30.0\n",
      "6     60.0\n",
      "7     60.0\n",
      "8     60.0\n",
      "9     60.0\n",
      "10    60.0\n",
      "11    60.0\n",
      "12    60.0\n",
      "13    60.0\n",
      "14    30.0\n",
      "15    30.0\n",
      "16    30.0\n",
      "17    30.0\n",
      "18    30.0\n",
      "19    30.0\n",
      "20    30.0\n",
      "21    30.0\n",
      "22    30.0\n",
      "23    60.0\n",
      "24    60.0\n",
      "25    30.0\n",
      "26    30.0\n",
      "27    30.0\n",
      "28    30.0\n",
      "29     NaN\n",
      "30     NaN\n",
      "31    30.0\n",
      "Name: Height, dtype: float64\n"
     ]
    }
   ],
   "source": [
    "G_final = fill_missing_edge_heights_from_csv(G_final)\n"
   ]
  },
  {
   "cell_type": "code",
   "execution_count": 24,
   "id": "26e0e683",
   "metadata": {},
   "outputs": [
    {
     "name": "stdout",
     "output_type": "stream",
     "text": [
      "GRAPH DIAGNOSTICS\n",
      "\n",
      "Graph is NOT fully connected. Components: 70847\n",
      "Component size distribution: Counter({1: 70606, 4: 62, 6: 25, 8: 18, 2: 17, 9: 16, 5: 15, 10: 13, 7: 11, 3: 10, 11: 6, 14: 5, 12: 5, 18: 4, 16: 3, 13: 3, 19: 3, 15: 3, 23: 2, 39: 2, 197434: 1, 26: 1, 42: 1, 36: 1, 80: 1, 67: 1, 142: 1, 21: 1, 74: 1, 40: 1, 17: 1, 66: 1, 48: 1, 31: 1, 22: 1, 20: 1, 89: 1, 33: 1})\n",
      "\n",
      "Node types (ntype):\n",
      " - postnl: 23\n",
      " - distribution: 1\n",
      " - line_intersection: 5957\n",
      " - waypoint: 22258\n",
      " - grid_point: 110968\n",
      " - polygon_boundary: 72029\n",
      " - poly_intersection: 59271\n",
      "\n",
      "Edge types (etype):\n",
      " - postnl_connector: 22\n",
      " - Tracks and rural access roads: 13858\n",
      " - Regional roads: 7537\n",
      " - connector: 13437\n",
      " - Pedestrian and cycling paths: 7263\n",
      " - Motorways and major roads: 481\n",
      " - Rivers, canals and streams: 141\n",
      " - Meadows and open grass: 99165\n",
      " - Railways: 413\n",
      " - Residential areas: 17463\n",
      " - Industrial zones: 2354\n",
      " - Power lines: 393\n",
      " - Cultural sites: 25\n",
      " - Agricultural lands: 160488\n",
      " - Living and residential streets: 28\n",
      " - Forests and woodlands: 11787\n",
      " - Cemeteries: 572\n",
      " - Retail zones: 272\n",
      " - Parks: 798\n",
      " - Schools and universities: 359\n",
      " - Religious sites: 172\n",
      " - High infrastructures: 46\n",
      " - Lakes and ponds: 276\n",
      " - Wetlands: 1502\n",
      " - Power plants: 2\n",
      "\n",
      " Missing node attributes:\n",
      " - geometry: 0 missing\n",
      " - ntype: 0 missing\n",
      "\n",
      "Missing edge attributes:\n",
      " - geometry: 0 missing\n",
      " - length: 0 missing\n",
      " - risk: 0 missing\n",
      " - height: 0 missing\n",
      " - etype: 0 missing\n",
      "\n",
      "Diagnostics complete.\n"
     ]
    }
   ],
   "source": [
    "diagnose_graph(G_final)"
   ]
  },
  {
   "cell_type": "code",
   "execution_count": 25,
   "id": "bc219736",
   "metadata": {},
   "outputs": [
    {
     "name": "stdout",
     "output_type": "stream",
     "text": [
      "Graph saved to output/borsele.pkl\n"
     ]
    }
   ],
   "source": [
    "with open(f\"output/{city}.pkl\", \"wb\") as f:\n",
    "    pickle.dump(G_final, f)\n",
    "\n",
    "print(f\"Graph saved to output/{city}.pkl\")"
   ]
  },
  {
   "cell_type": "code",
   "execution_count": null,
   "id": "d3a29070",
   "metadata": {},
   "outputs": [],
   "source": []
  }
 ],
 "metadata": {
  "kernelspec": {
   "display_name": "Python 3",
   "language": "python",
   "name": "python3"
  },
  "language_info": {
   "codemirror_mode": {
    "name": "ipython",
    "version": 3
   },
   "file_extension": ".py",
   "mimetype": "text/x-python",
   "name": "python",
   "nbconvert_exporter": "python",
   "pygments_lexer": "ipython3",
   "version": "3.13.2"
  }
 },
 "nbformat": 4,
 "nbformat_minor": 5
}
