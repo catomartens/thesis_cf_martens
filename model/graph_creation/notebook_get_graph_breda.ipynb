{
 "cells": [
  {
   "cell_type": "markdown",
   "id": "fb59674e",
   "metadata": {},
   "source": [
    "# Graph Creation Breda\n",
    "This notebook generates a graph based on pre-collected OSM data. The input must be a GeoJSON file in which each row contains a geometry of type LineString, MultiLineString, Polygon, or MultiPolygon.\n",
    "\n",
    "The required data can be obtained by running the notebooks get_data.ipynb, assign_risk.ipynb, and assign_no_fly_zones.ipynb, in that specific order.\n",
    "The resulting GeoJSON file from those steps serves as input for this notebook; you only need to specify the city name.\n",
    "\n",
    "Make sure you also identify the corresponding distribution center for the selected city, as this must be provided as well.\n",
    "\n",
    "This notebook is an example for Breda."
   ]
  },
  {
   "cell_type": "code",
   "execution_count": null,
   "id": "1c257370",
   "metadata": {},
   "outputs": [],
   "source": [
    "from model_get_data import read_geojson\n",
    "from model_create_graph import create_graph_with_nodes\n",
    "from model_add_linear_infrastructures import add_linesstrings_to_graph\n",
    "from model_add_polygon_infrastructures import add_grid_polygons_to_graph\n",
    "from model_connect_postnl_nodes import connect_to_nearest_edge\n",
    "from model_delete_edges_in_no_fly import remove_no_fly_zones_from_graph\n",
    "from model_check import fill_missing_edge_heights_from_csv, diagnose_graph\n",
    "\n",
    "import pickle"
   ]
  },
  {
   "cell_type": "markdown",
   "id": "4bdd2ecc",
   "metadata": {},
   "source": [
    "### 0. Specifying the Area\n",
    "Set the city variable to indicate which area the data was collected for.\n",
    "Set the distribution variable to specify the corresponding distribution center.\n",
    "If you're unsure which distribution center belongs to the selected city, you can look it up in the file:\n",
    "model/postNL/output/postnl_distribution_cleaned.json."
   ]
  },
  {
   "cell_type": "code",
   "execution_count": null,
   "id": "d511f486",
   "metadata": {},
   "outputs": [],
   "source": [
    "city = 'breda' # use lower case\n",
    "depot = ['Breda'] # use capitalized"
   ]
  },
  {
   "cell_type": "markdown",
   "id": "224f2a54",
   "metadata": {},
   "source": [
    "### 0. Get Data\n",
    "Uses the read_geojson function to load and prepare the data for the selected area, so that a graph can be constructed from the OSM data."
   ]
  },
  {
   "cell_type": "code",
   "execution_count": null,
   "id": "9ddd98e7",
   "metadata": {},
   "outputs": [],
   "source": [
    "gdf, lines_gdf, polygons_gdf, post_nl_gdf, no_fly_zones_gdf = read_geojson(f'/Users/cmartens/Documents/thesis_cf_martens/3.no_fly_zones/output/data_for_graph_{city}.geojson', depot, all=True)"
   ]
  },
  {
   "cell_type": "code",
   "execution_count": null,
   "id": "7f7ad872",
   "metadata": {},
   "outputs": [],
   "source": [
    "no_fly_zones_gdf"
   ]
  },
  {
   "cell_type": "markdown",
   "id": "029cbfbe",
   "metadata": {},
   "source": [
    "## 1. Create Initial Graph with Nodes\n",
    "Creates an unconnected graph by adding all PostNL points and the distribution center as nodes."
   ]
  },
  {
   "cell_type": "code",
   "execution_count": null,
   "id": "c3685074",
   "metadata": {},
   "outputs": [],
   "source": [
    "G = create_graph_with_nodes(post_nl_gdf)"
   ]
  },
  {
   "cell_type": "markdown",
   "id": "a14ededf",
   "metadata": {},
   "source": [
    "## 2. Add LineStrings to Graph\n",
    "Adds all LineString and MultiLineString geometries to the graph as edges. Ensures they are connected to each other and to the existing nodes by snapping nearby points together."
   ]
  },
  {
   "cell_type": "code",
   "execution_count": null,
   "id": "614f7345",
   "metadata": {},
   "outputs": [],
   "source": [
    "G_with_linestrings = add_linesstrings_to_graph(G, lines_gdf)"
   ]
  },
  {
   "cell_type": "markdown",
   "id": "7dd0143e",
   "metadata": {},
   "source": [
    "## 3. Add polygons to \n",
    "\n",
    "Generates a grid for each polygon and connects the grid points to the polygon boundaries. Adds all polygons to the graph and ensures they are properly snapped to the existing graph structure, so that all elements are correctly connected."
   ]
  },
  {
   "cell_type": "code",
   "execution_count": null,
   "id": "bfeed5c0",
   "metadata": {},
   "outputs": [],
   "source": [
    "G_with_grids_and_boundaries = add_grid_polygons_to_graph(G_with_linestrings, polygons_gdf, lines_gdf)"
   ]
  },
  {
   "cell_type": "markdown",
   "id": "e83aa1ae",
   "metadata": {},
   "source": [
    "## 4. Connect postnl and distribution points to graph\n",
    "\n",
    "All points are linked to the nearest location in the graph using a connector, provided the distance does not exceed max_connection_distance."
   ]
  },
  {
   "cell_type": "code",
   "execution_count": null,
   "id": "985ee68a",
   "metadata": {},
   "outputs": [],
   "source": [
    "G_with_grids_and_boundaries_connected = connect_to_nearest_edge(G_with_grids_and_boundaries, max_connection_distance=10)"
   ]
  },
  {
   "cell_type": "markdown",
   "id": "2b8aaea0",
   "metadata": {},
   "source": [
    "## 5. Delete edges inside nofly zones\n",
    "\n",
    "All edges located within no-fly zones are detected and removed from the graph."
   ]
  },
  {
   "cell_type": "code",
   "execution_count": null,
   "id": "ee9e8e0b",
   "metadata": {},
   "outputs": [],
   "source": [
    "G_final = remove_no_fly_zones_from_graph(G_with_grids_and_boundaries_connected, no_fly_zones_gdf)"
   ]
  },
  {
   "cell_type": "markdown",
   "id": "237c5b8d",
   "metadata": {},
   "source": [
    "## 6. Save graph\n",
    "\n",
    "Graph will be saved to output folder."
   ]
  },
  {
   "cell_type": "code",
   "execution_count": null,
   "id": "f544c3b3",
   "metadata": {},
   "outputs": [],
   "source": [
    "with open(f\"output/{city}_raw.pkl\", \"wb\") as f:\n",
    "    pickle.dump(G_final, f)\n",
    "\n",
    "print(f\"Graph saved to output/{city}_raw.pkl\")"
   ]
  },
  {
   "cell_type": "markdown",
   "id": "86efc230",
   "metadata": {},
   "source": [
    "## 7. Check graph\n",
    "\n",
    "Use diagnose_graph to check if all nodes and edges are added correctly. If some height are missed these can still be added by using fill_missing_edge_heights_from_gdf."
   ]
  },
  {
   "cell_type": "code",
   "execution_count": null,
   "id": "59339eb2",
   "metadata": {},
   "outputs": [],
   "source": [
    "diagnose_graph(G_final)"
   ]
  },
  {
   "cell_type": "code",
   "execution_count": null,
   "id": "126909e8",
   "metadata": {},
   "outputs": [],
   "source": [
    "G_final = fill_missing_edge_heights_from_csv(G_final)\n"
   ]
  },
  {
   "cell_type": "code",
   "execution_count": null,
   "id": "26e0e683",
   "metadata": {},
   "outputs": [],
   "source": [
    "diagnose_graph(G_final)"
   ]
  },
  {
   "cell_type": "markdown",
   "id": "429422a4",
   "metadata": {},
   "source": [
    "## 8. Save graph"
   ]
  },
  {
   "cell_type": "code",
   "execution_count": null,
   "id": "bc219736",
   "metadata": {},
   "outputs": [],
   "source": [
    "with open(f\"output/{city}.pkl\", \"wb\") as f:\n",
    "    pickle.dump(G_final, f)\n",
    "\n",
    "print(f\"Graph saved to output/{city}.pkl\")"
   ]
  },
  {
   "cell_type": "code",
   "execution_count": null,
   "id": "d3a29070",
   "metadata": {},
   "outputs": [],
   "source": []
  }
 ],
 "metadata": {
  "kernelspec": {
   "display_name": "Python 3",
   "language": "python",
   "name": "python3"
  },
  "language_info": {
   "codemirror_mode": {
    "name": "ipython",
    "version": 3
   },
   "file_extension": ".py",
   "mimetype": "text/x-python",
   "name": "python",
   "nbconvert_exporter": "python",
   "pygments_lexer": "ipython3",
   "version": "3.13.2"
  }
 },
 "nbformat": 4,
 "nbformat_minor": 5
}
