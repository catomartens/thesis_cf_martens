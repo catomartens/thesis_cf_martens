{
 "cells": [
  {
   "cell_type": "markdown",
   "id": "fb59674e",
   "metadata": {},
   "source": [
    "# Graph Creation\n",
    "\n",
    "This notebook enables the generation of graphs based on pre-collected OSM data. It is important that the data has already been retrieved and stored in a GeoJSON file, with each row containing a geometry of type LineString, MultiLineString, Polygon, or MultiPolygon.\n",
    "\n",
    "The required data can be obtained using the notebooks notebook_get_data.ipynb and notebook_assign_risk.ipynb.\n",
    "The resulting GeoJSON file from those steps serves as input for this notebook; you only need to specify the city name.\n",
    "Make sure you also know which distribution center corresponds to the selected city, as this must be provided as well."
   ]
  },
  {
   "cell_type": "code",
   "execution_count": 17,
   "id": "1c257370",
   "metadata": {},
   "outputs": [],
   "source": [
    "from model_get_data import read_geojson\n",
    "from model_create_graph import create_graph_with_nodes\n",
    "from model_add_linear_infrastructures import add_linesstrings_to_graph\n",
    "from model_add_polygon_infrastructures import add_grid_polygons_to_graph\n",
    "from model_connect_postnl_nodes import connect_to_nearest_edge\n",
    "from model_delete_edges_in_no_fly import remove_no_fly_zones_from_graph\n",
    "from model_check import fill_missing_edge_heights_from_csv, diagnose_graph\n",
    "\n",
    "import pickle"
   ]
  },
  {
   "cell_type": "markdown",
   "id": "4bdd2ecc",
   "metadata": {},
   "source": [
    "### 0. Specifying the Area\n",
    "Set the city variable to indicate which area the data was collected for.\n",
    "Set the distribution variable to specify the corresponding distribution center.\n",
    "If you're unsure which distribution center belongs to the selected city, you can look it up in the file:\n",
    "model/postNL/output/postnl_distribution_cleaned.json."
   ]
  },
  {
   "cell_type": "code",
   "execution_count": 6,
   "id": "d511f486",
   "metadata": {},
   "outputs": [],
   "source": [
    "city = 'breda' # use lower case\n",
    "depot = ['Breda'] # use capitalized"
   ]
  },
  {
   "cell_type": "markdown",
   "id": "224f2a54",
   "metadata": {},
   "source": [
    "### 0. Get Data\n",
    "Uses the read_geojson function to load and prepare the data for the selected area, so that a graph can be constructed from the OSM data."
   ]
  },
  {
   "cell_type": "code",
   "execution_count": 7,
   "id": "9ddd98e7",
   "metadata": {},
   "outputs": [
    {
     "name": "stdout",
     "output_type": "stream",
     "text": [
      "Getting separate dataframes for lines, polygons, postnl points, distribution points and no fly zones\n",
      "Looking for distribution points in ['Breda']\n",
      "Found 1 distribution points in ['Breda']\n",
      "Found 15416 lines, 5838 polygons, 65 postnl points, 1 distribution point and 5 no-fly zones\n"
     ]
    }
   ],
   "source": [
    "gdf, lines_gdf, polygons_gdf, post_nl_gdf, no_fly_zones_gdf = read_geojson(f'/Users/cmartens/Documents/thesis_cf_martens/3.no_fly_zones/output/data_for_graph_{city}.geojson', depot, all=True)"
   ]
  },
  {
   "cell_type": "code",
   "execution_count": 8,
   "id": "7f7ad872",
   "metadata": {},
   "outputs": [
    {
     "data": {
      "text/html": [
       "<div>\n",
       "<style scoped>\n",
       "    .dataframe tbody tr th:only-of-type {\n",
       "        vertical-align: middle;\n",
       "    }\n",
       "\n",
       "    .dataframe tbody tr th {\n",
       "        vertical-align: top;\n",
       "    }\n",
       "\n",
       "    .dataframe thead th {\n",
       "        text-align: right;\n",
       "    }\n",
       "</style>\n",
       "<table border=\"1\" class=\"dataframe\">\n",
       "  <thead>\n",
       "    <tr style=\"text-align: right;\">\n",
       "      <th></th>\n",
       "      <th>name</th>\n",
       "      <th>id</th>\n",
       "      <th>description</th>\n",
       "      <th>area_type</th>\n",
       "      <th>category</th>\n",
       "      <th>risk</th>\n",
       "      <th>Height</th>\n",
       "      <th>air_type</th>\n",
       "      <th>geometry</th>\n",
       "    </tr>\n",
       "  </thead>\n",
       "  <tbody>\n",
       "    <tr>\n",
       "      <th>21457</th>\n",
       "      <td>Industriegebied met risicos op zware ongevallen</td>\n",
       "      <td>NaN</td>\n",
       "      <td>OPEN cat. vluchten zijn hier verboden SPEC cat...</td>\n",
       "      <td>No-fly zone</td>\n",
       "      <td>Industry</td>\n",
       "      <td>no_fly_zone</td>\n",
       "      <td>NaN</td>\n",
       "      <td>High-Risk Areas</td>\n",
       "      <td>POLYGON ((112630.908 402373.839, 112630.871 40...</td>\n",
       "    </tr>\n",
       "    <tr>\n",
       "      <th>21458</th>\n",
       "      <td>Industriegebied met risicos op zware ongevallen</td>\n",
       "      <td>NaN</td>\n",
       "      <td>OPEN cat. vluchten zijn hier verboden SPEC cat...</td>\n",
       "      <td>No-fly zone</td>\n",
       "      <td>Industry</td>\n",
       "      <td>no_fly_zone</td>\n",
       "      <td>NaN</td>\n",
       "      <td>High-Risk Areas</td>\n",
       "      <td>POLYGON ((111140.677 390426.526, 111140.64 390...</td>\n",
       "    </tr>\n",
       "    <tr>\n",
       "      <th>21459</th>\n",
       "      <td>Industriegebied met risicos op zware ongevallen</td>\n",
       "      <td>NaN</td>\n",
       "      <td>OPEN cat. vluchten zijn hier verboden SPEC cat...</td>\n",
       "      <td>No-fly zone</td>\n",
       "      <td>Industry</td>\n",
       "      <td>no_fly_zone</td>\n",
       "      <td>NaN</td>\n",
       "      <td>High-Risk Areas</td>\n",
       "      <td>POLYGON ((112382.091 402530.484, 112382.053 40...</td>\n",
       "    </tr>\n",
       "    <tr>\n",
       "      <th>21460</th>\n",
       "      <td>Gebied met verbod vanuit beveiligingsoverwegingen</td>\n",
       "      <td>NaN</td>\n",
       "      <td>OPEN cat. vluchten zijn hier verboden SPEC cat...</td>\n",
       "      <td>No-fly zone</td>\n",
       "      <td>Security</td>\n",
       "      <td>no_fly_zone</td>\n",
       "      <td>NaN</td>\n",
       "      <td>Restricted Zones</td>\n",
       "      <td>POLYGON ((113524.959 396494.41, 113524.921 396...</td>\n",
       "    </tr>\n",
       "    <tr>\n",
       "      <th>21461</th>\n",
       "      <td>Natura 2000 Area Ulvenhoutse Bos</td>\n",
       "      <td>NaN</td>\n",
       "      <td>Natura 2000-besluit 2010</td>\n",
       "      <td>No-fly zone</td>\n",
       "      <td>Environment</td>\n",
       "      <td>no_fly_zone</td>\n",
       "      <td>NaN</td>\n",
       "      <td>Protected Nature Reserves</td>\n",
       "      <td>MULTIPOLYGON (((115010.48 396804.794, 115003.8...</td>\n",
       "    </tr>\n",
       "  </tbody>\n",
       "</table>\n",
       "</div>"
      ],
      "text/plain": [
       "                                                    name  id  \\\n",
       "21457    Industriegebied met risicos op zware ongevallen NaN   \n",
       "21458    Industriegebied met risicos op zware ongevallen NaN   \n",
       "21459    Industriegebied met risicos op zware ongevallen NaN   \n",
       "21460  Gebied met verbod vanuit beveiligingsoverwegingen NaN   \n",
       "21461                   Natura 2000 Area Ulvenhoutse Bos NaN   \n",
       "\n",
       "                                             description    area_type  \\\n",
       "21457  OPEN cat. vluchten zijn hier verboden SPEC cat...  No-fly zone   \n",
       "21458  OPEN cat. vluchten zijn hier verboden SPEC cat...  No-fly zone   \n",
       "21459  OPEN cat. vluchten zijn hier verboden SPEC cat...  No-fly zone   \n",
       "21460  OPEN cat. vluchten zijn hier verboden SPEC cat...  No-fly zone   \n",
       "21461                           Natura 2000-besluit 2010  No-fly zone   \n",
       "\n",
       "          category         risk  Height                   air_type  \\\n",
       "21457     Industry  no_fly_zone     NaN            High-Risk Areas   \n",
       "21458     Industry  no_fly_zone     NaN            High-Risk Areas   \n",
       "21459     Industry  no_fly_zone     NaN            High-Risk Areas   \n",
       "21460     Security  no_fly_zone     NaN           Restricted Zones   \n",
       "21461  Environment  no_fly_zone     NaN  Protected Nature Reserves   \n",
       "\n",
       "                                                geometry  \n",
       "21457  POLYGON ((112630.908 402373.839, 112630.871 40...  \n",
       "21458  POLYGON ((111140.677 390426.526, 111140.64 390...  \n",
       "21459  POLYGON ((112382.091 402530.484, 112382.053 40...  \n",
       "21460  POLYGON ((113524.959 396494.41, 113524.921 396...  \n",
       "21461  MULTIPOLYGON (((115010.48 396804.794, 115003.8...  "
      ]
     },
     "execution_count": 8,
     "metadata": {},
     "output_type": "execute_result"
    }
   ],
   "source": [
    "no_fly_zones_gdf"
   ]
  },
  {
   "cell_type": "markdown",
   "id": "029cbfbe",
   "metadata": {},
   "source": [
    "## 1. Create Initial Graph with Nodes\n",
    "Creates an unconnected graph by adding all PostNL points and the distribution center as nodes."
   ]
  },
  {
   "cell_type": "code",
   "execution_count": 9,
   "id": "c3685074",
   "metadata": {},
   "outputs": [
    {
     "name": "stdout",
     "output_type": "stream",
     "text": [
      "Graph creation summary:\n",
      " - Total rows: 65\n",
      " - Distributions added: 1\n",
      " - PostNL added: 64\n",
      " - Skipped (non-Point geometry): 0\n"
     ]
    }
   ],
   "source": [
    "G = create_graph_with_nodes(post_nl_gdf)"
   ]
  },
  {
   "cell_type": "markdown",
   "id": "a14ededf",
   "metadata": {},
   "source": [
    "## 2. Add LineStrings to Graph\n",
    "Adds all LineString and MultiLineString geometries to the graph as edges. Ensures they are connected to each other and to the existing nodes by snapping nearby points together."
   ]
  },
  {
   "cell_type": "code",
   "execution_count": 10,
   "id": "614f7345",
   "metadata": {},
   "outputs": [
    {
     "name": "stdout",
     "output_type": "stream",
     "text": [
      "Exploding MultiLineString geometries into separate LineString geometries.\n",
      "Finding intersections between lines.\n",
      "Found 60104 intersection points.\n",
      "Adding snapped points to the graph.\n"
     ]
    },
    {
     "name": "stderr",
     "output_type": "stream",
     "text": [
      "/Users/cmartens/Library/Python/3.13/lib/python/site-packages/shapely/linear.py:88: RuntimeWarning: invalid value encountered in line_locate_point\n",
      "  return lib.line_locate_point(line, other)\n",
      "/Users/cmartens/Library/Python/3.13/lib/python/site-packages/shapely/linear.py:88: RuntimeWarning: invalid value encountered in line_locate_point\n",
      "  return lib.line_locate_point(line, other)\n"
     ]
    },
    {
     "name": "stdout",
     "output_type": "stream",
     "text": [
      "\n",
      " Graph update summary:\n",
      " - Lines found: 15416\n",
      " - Intersections found: 15361\n",
      " - Line intersection nodes added: 18874\n",
      " - Edges added: 71282\n",
      " - New waypoint nodes added: 43908\n",
      " - Skipped short/invalid segments: 1360\n",
      " - Final graph has 63025 nodes and 71405 edges\n"
     ]
    }
   ],
   "source": [
    "G_with_linestrings = add_linesstrings_to_graph(G, lines_gdf)"
   ]
  },
  {
   "cell_type": "markdown",
   "id": "7dd0143e",
   "metadata": {},
   "source": [
    "## 3. Add polygons to \n",
    "\n",
    "Generates a grid for each polygon and connects the grid points to the polygon boundaries. Adds all polygons to the graph and ensures they are properly snapped to the existing graph structure, so that all elements are correctly connected."
   ]
  },
  {
   "cell_type": "code",
   "execution_count": 11,
   "id": "bfeed5c0",
   "metadata": {},
   "outputs": [
    {
     "name": "stdout",
     "output_type": "stream",
     "text": [
      "Excecuting add_grid_polygons_to_graph function\n",
      "G before polygons: 63025 nodes, 71405 edges\n",
      "\n",
      " Step 1\n",
      "Adding grid structure to 5838 polygons, with grid size 50 and max cells 10000.\n",
      "G after grid: 123617 nodes, 151370 edges\n",
      "\n",
      " Step 2\n",
      "Adding local polygon boundaries to the graph with snap tolerance 35 and boundary sample distance 50.\n",
      "\n",
      " Step 3\n",
      "Finding intersections for 256185 edges.\n",
      "Found 646059 intersections between polygon-polygon and polygon-line.\n",
      "\n",
      " Step 4\n",
      "Number of unique snapt points: 222978\n",
      "\n",
      " Step 5\n",
      "Mapping geometries to edges.\n",
      "\n",
      " Step 6\n",
      "Adding intersection nodes.\n",
      "Intersection nodes added: 65744\n",
      "\n",
      " Step 7\n",
      " Splitting edges at intersections.\n",
      " Edges split and added: 0\n",
      "\n",
      " Step 8\n",
      "STRtree indexing over 51415 polygon_boundary points.\n",
      "Connected nodes: 25902\n",
      "Skipped 35769 line intersections/waypoints that could not be connected to polygon boundaries. Consider increasing the max_connection_distance.\n",
      "G after connecting: 240776 nodes, 363611 edges\n"
     ]
    }
   ],
   "source": [
    "G_with_grids_and_boundaries = add_grid_polygons_to_graph(G_with_linestrings, polygons_gdf, lines_gdf)"
   ]
  },
  {
   "cell_type": "markdown",
   "id": "e83aa1ae",
   "metadata": {},
   "source": [
    "## 4. Connect postnl and distribution points to graph\n",
    "\n",
    "All points are linked to the nearest location in the graph using a connector, provided the distance does not exceed max_connection_distance."
   ]
  },
  {
   "cell_type": "code",
   "execution_count": 12,
   "id": "985ee68a",
   "metadata": {},
   "outputs": [
    {
     "name": "stdout",
     "output_type": "stream",
     "text": [
      "Total edges indexed: 363611\n",
      "Start iterating over postnl and distribution nodes.\n",
      "Node 0 connected to edge ((110417.924, 402818.717)-(110433.45, 402852.769)) via new node POINT (110430.90699739025 402847.1916249602) at d = 5.45 m\n",
      "Node 1 connected to edge ((110529.515, 397712.008)-(110521.223, 397722.212)) via new node POINT (110526.3363129125 397715.9201147066) at d = 4.79 m\n",
      "Node 2 connected to edge ((109618.085, 396234.978)-(109618.085, 396244.034)) via new node POINT (109618.08494436 396241.9102484932) at d = 0.82 m\n",
      "Node 3 connected to edge ((112432.771, 398188.99)-(112436.357, 398194.829)) via new node POINT (112435.73005925784 398193.80845655006) at d = 0.83 m\n",
      "Node 4 connected to edge ((109564.018, 399604.742)-(np.float64(109561.845), np.float64(399618.032))) via new node POINT (109563.13040467404 399610.17050523794) at d = 0.16 m\n",
      "Node 5 connected to edge ((112768.725, 399871.756)-(112768.725, 399897.258)) via new node POINT (112768.72489341111 399891.23400346964) at d = 1.48 m\n",
      "Node 6 connected to edge ((111218.725, 398821.756)-(111256.436, 398821.756)) via new node POINT (111245.5473924064 398821.7558650386) at d = 1.88 m\n",
      "Node 7 connected to edge ((110933.115, 404062.807)-(110942.839, 404076.68)) via new node POINT (110937.41262731663 404068.93832288805) at d = 1.72 m\n",
      "Node 8 connected to edge ((112918.725, 400821.756)-(112918.725, 400770.437)) via new node POINT (112918.72466264052 400808.8039857487) at d = 6.13 m\n",
      "Node 9 connected to edge ((112034.347, 402622.118)-(112068.356, 402622.118)) via new node POINT (112060.3812561391 402622.1180820233) at d = 3.73 m\n",
      "Node 10 connected to edge ((np.float64(110341.539), np.float64(403961.459))-(110379.91, 404007.416)) via new node POINT (110359.71201678715 403983.2248474496) at d = 0.90 m\n",
      "Node 11 connected to edge ((114768.725, 398321.756)-(114768.725, 398371.756)) via new node POINT (114768.72454875805 398361.39863793645) at d = 2.45 m\n",
      "Node 12 connected to edge ((np.float64(110817.455), np.float64(399923.251))-(110818.725, 399871.756)) via new node POINT (110817.6146282305 399916.77615585487) at d = 5.94 m\n",
      "Node 13 connected to edge ((112518.725, 397721.756)-(112518.725, 397771.756)) via new node POINT (112518.72454875805 397765.11522921827) at d = 2.07 m\n",
      "Node 14 connected to edge ((116707.874, 400448.402)-(116708.739, 400409.974)) via new node POINT (116708.34148419857 400427.63381181203) at d = 5.76 m\n",
      "Node 15 connected to edge ((114703.369, 397788.106)-(114712.982, 397780.394)) via new node POINT (114703.36905036407 397788.1059782656) at d = 6.30 m\n",
      "Node 16 connected to edge ((113218.725, 398071.756)-(113196.4, 398071.756)) via new node POINT (113202.99971915192 398071.75586181745) at d = 3.48 m\n",
      "Node 17 connected to edge ((113361.84, 402796.989)-(113365.217, 402821.756)) via new node POINT (113363.7626234689 402811.08956720587) at d = 5.36 m\n",
      "Node 18 connected to edge ((np.float64(111905.39), np.float64(399928.467))-(111818.725, 399868.067)) via new node POINT (111859.9635465994 399896.80764748866) at d = 5.46 m\n",
      "Node 19 connected to edge ((112774.882, 400226.556)-(112785.44, 400212.488)) via new node POINT (112775.95287129369 400225.12882157665) at d = 1.18 m\n",
      "Node 20 connected to edge ((113068.725, 398521.756)-(113118.725, 398521.684)) via new node POINT (113116.39936378885 398521.687327145) at d = 2.22 m\n",
      "Node 21 connected to edge ((114305.056, 398174.994)-(114282.306, 398196.357)) via new node POINT (114284.76597225892 398194.0471027656) at d = 0.83 m\n",
      "Node 22 connected to edge ((np.float64(110984.172), np.float64(399119.771))-(np.float64(110993.873), np.float64(399117.75))) via new node POINT (110984.67364067229 399119.6664936812) at d = 7.15 m\n",
      "Node 23 connected to edge ((113818.725, 401271.756)-(113866.127, 401271.756)) via new node POINT (113861.12892811613 401271.7559507153) at d = 3.14 m\n",
      "Node 24 connected to edge ((110047.857, 399020.743)-(110068.725, 399020.413)) via new node POINT (110059.68507507829 399020.55595453444) at d = 1.54 m\n",
      "Node 25 connected to edge ((109768.725, 398221.756)-(109818.725, 398223.557)) via new node POINT (109798.67115910558 398222.8344796989) at d = 3.27 m\n",
      "Node 26 connected to edge ((114768.725, 398371.756)-(114752.078, 398371.756)) via new node POINT (114754.4820008921 398371.7559324973) at d = 3.53 m\n",
      "Node 27 connected to edge ((113968.725, 398621.756)-(113968.725, 398653.686)) via new node POINT (113968.72476325574 398636.9336682313) at d = 3.40 m\n",
      "Node 28 connected to edge ((np.float64(113668.457), np.float64(398072.377))-(113668.725, 398021.756)) via new node POINT (113668.49669066462 398064.8673419449) at d = 4.12 m\n",
      "Node 29 connected to edge ((113518.725, 402171.756)-(113559.717, 402171.756)) via new node POINT (113553.48413844302 402171.75592892873) at d = 1.21 m\n",
      "Node 30 connected to edge ((114118.725, 402321.756)-(114118.725, 402352.645)) via new node POINT (114118.72483545472 402341.3811616654) at d = 0.76 m\n",
      "Node 31 connected to edge ((114590.27, 401876.857)-(114590.27, 401887.688)) via new node POINT (114590.26997073062 401880.58743854024) at d = 2.84 m\n",
      "Node 32 connected to edge ((111078.831, 403244.059)-(111128.915, 403246.715)) via new node POINT (111086.36447712033 403244.45832525037) at d = 2.27 m\n",
      "Node 33 connected to edge ((114209.716, 399355.654)-(114218.166, 399365.101)) via new node POINT (114210.68890040454 399356.74169113865) at d = 2.20 m\n",
      "Node 34 connected to edge ((110938.745, 401250.541)-(110990.059, 401250.541)) via new node POINT (110961.69734140325 401250.54116862564) at d = 8.00 m\n",
      "Node 35 connected to edge ((114087.408, 397720.699)-(114118.725, 397720.82)) via new node POINT (114097.10156835063 397720.736453197) at d = 4.04 m\n",
      "Node 36 connected to edge ((110068.725, 398871.756)-(110077.47, 398871.756)) via new node POINT (110074.29078792538 398871.75583007874) at d = 3.46 m\n",
      "Node 37 connected to edge ((106824.453, 398567.802)-(np.float64(106979.855), np.float64(398552.17))) via new node POINT (106853.89249648902 398564.8406596755) at d = 3.17 m\n",
      "Node 38 connected to edge ((110466.719, 389306.457)-(110411.953, 389326.819)) via new node POINT (110419.28176194319 389324.094166149) at d = 5.46 m\n",
      "Node 39 connected to edge ((114532.536, 399664.733)-(114538.475, 399621.756)) via new node POINT (114534.42974463079 399651.02686207794) at d = 7.72 m\n",
      "Node 40 connected to edge ((115585.755, 399539.971)-(115568.725, 399530.894)) via new node POINT (115578.21507747455 399535.9522168665) at d = 6.92 m\n",
      "Node 41 connected to edge ((115829.464, 400196.937)-(115818.725, 400196.552)) via new node POINT (115820.6988008961 400196.6228513477) at d = 1.38 m\n",
      "Node 42 connected to edge ((114946.362, 400069.045)-(114957.27, 400071.756)) via new node POINT (114954.67243812444 400071.1103243077) at d = 0.20 m\n",
      "Node 43 connected to edge ((110859.334, 398430.283)-(110840.113, 398421.756)) via new node POINT (110843.04155581148 398423.05519335123) at d = 6.19 m\n",
      "Node 44 connected to edge ((112236.309, 398845.877)-(112268.725, 398838.78)) via new node POINT (112248.59281570672 398843.18764165626) at d = 7.51 m\n",
      "Node 45 connected to edge ((111968.725, 400121.756)-(112018.725, 400121.756)) via new node POINT (111973.50198870886 400121.7555325766) at d = 4.71 m\n",
      "Node 46 connected to edge ((np.float64(111124.706), np.float64(400014.44))-(np.float64(111130.228), np.float64(400002.287))) via new node POINT (111125.62603271869 400012.41516160266) at d = 2.74 m\n",
      "Node 47 connected to edge ((113568.725, 399821.756)-(113568.725, 399773.208)) via new node POINT (113568.72483433681 399791.03111898236) at d = 3.49 m\n",
      "Node 48 connected to edge ((114414.421, 400364.732)-(114409.944, 400361.094)) via new node POINT (114411.22198268789 400362.1325556117) at d = 3.41 m\n",
      "Node 49 connected to edge ((113818.725, 400271.756)-(113833.957, 400271.756)) via new node POINT (113829.2630519025 400271.75585596135) at d = 1.42 m\n",
      "Node 50 connected to edge ((116255.164, 400753.852)-(116239.375, 400749.823)) via new node POINT (116239.375 400749.823) at d = 5.08 m\n",
      "Node 51 connected to edge ((113183.038, 400487.35)-(113209.879, 400480.842)) via new node POINT (113198.90565674445 400483.50265041937) at d = 4.38 m\n",
      "Node 52 connected to edge ((113059.766, 399345.693)-(113031.743, 399321.756)) via new node POINT (113039.46380793092 399328.35104619217) at d = 7.32 m\n",
      "Node 53 connected to edge ((111667.862, 400456.86)-(111718.732, 400463.865)) via new node POINT (111684.22751925891 400459.11367032107) at d = 7.12 m\n",
      "Node 54 connected to edge ((114919.499, 400859.827)-(np.float64(114930.934), np.float64(400857.322))) via new node POINT (114929.66634298154 400857.5996983674) at d = 5.72 m\n",
      "Node 55 connected to edge ((109193.771, 402181.791)-(109172.908, 402173.08)) via new node POINT (109187.08291666074 402178.9985016073) at d = 5.55 m\n",
      "Node 56 connected to edge ((np.float64(109797.387), np.float64(401907.536))-(109753.109, 401900.596)) via new node POINT (109790.02963298 401906.38282851264) at d = 8.65 m\n",
      "Node 57 connected to edge ((109786.282, 403357.416)-(109786.282, 403326.408)) via new node POINT (109786.28192480328 403331.58822869114) at d = 5.06 m\n",
      "Node 58 connected to edge ((109713.581, 403931.923)-(np.float64(109720.15), np.float64(403937.716))) via new node POINT (109719.23984808684 403936.91336489073) at d = 6.22 m\n",
      "Node 59 connected to edge ((110608.5, 402198.074)-(110625.172, 402190.629)) via new node POINT (110612.65480404728 402196.21864274645) at d = 3.22 m\n",
      "Node 60 connected to edge ((np.float64(112209.213), np.float64(401090.138))-(112195.89, 401089.087)) via new node POINT (112208.01441488501 401090.04343686224) at d = 4.23 m\n",
      "Node 61 connected to edge ((111438.745, 401300.541)-(111488.745, 401300.541)) via new node POINT (111458.3964455519 401300.54130509164) at d = 8.93 m\n",
      "Node 62 connected to edge ((110046.108, 401300.315)-(110024.105, 401319.19)) via new node POINT (110031.00270589114 401313.2728887563) at d = 4.88 m\n",
      "Node 63 connected to edge ((109897.195, 399278.392)-(109918.725, 399220.243)) via new node POINT (109913.02174562382 399235.6465549801) at d = 6.50 m\n",
      "Node 157648 connected to edge ((111531.782, 401737.999)-(111531.782, 401787.999)) via new node POINT (111531.78246324713 401772.24000411975) at d = 6.80 m\n",
      "\n",
      " Summary of connections:\n",
      " - Connected: 65\n",
      " - Skipped: 0\n"
     ]
    }
   ],
   "source": [
    "G_with_grids_and_boundaries_connected = connect_to_nearest_edge(G_with_grids_and_boundaries, max_connection_distance=10)"
   ]
  },
  {
   "cell_type": "markdown",
   "id": "2b8aaea0",
   "metadata": {},
   "source": [
    "## 5. Delete edges inside nofly zones\n",
    "\n",
    "All edges located within no-fly zones are detected and removed from the graph."
   ]
  },
  {
   "cell_type": "code",
   "execution_count": 13,
   "id": "ee9e8e0b",
   "metadata": {},
   "outputs": [
    {
     "name": "stdout",
     "output_type": "stream",
     "text": [
      "Get all lines from the graph.\n",
      "Get all lines that are inside no-fly zones.\n",
      "Checking against 5 no-fly zones.\n",
      "8975 edges marked for removal (within no-fly zones).\n",
      "Number of edges inside no-fly zones: 8975\n",
      "Removing filtered edges from the graph.\n",
      "8975 edges removed from the graph.\n"
     ]
    }
   ],
   "source": [
    "G_final = remove_no_fly_zones_from_graph(G_with_grids_and_boundaries_connected, no_fly_zones_gdf)"
   ]
  },
  {
   "cell_type": "markdown",
   "id": "237c5b8d",
   "metadata": {},
   "source": [
    "## 6. Save graph\n",
    "\n",
    "Graph will be saved to output folder."
   ]
  },
  {
   "cell_type": "code",
   "execution_count": 15,
   "id": "f544c3b3",
   "metadata": {},
   "outputs": [
    {
     "name": "stdout",
     "output_type": "stream",
     "text": [
      "Graph saved to output/breda_raw.pkl\n"
     ]
    }
   ],
   "source": [
    "with open(f\"output/{city}_raw.pkl\", \"wb\") as f:\n",
    "    pickle.dump(G_final, f)\n",
    "\n",
    "print(f\"Graph saved to output/{city}_raw.pkl\")"
   ]
  },
  {
   "cell_type": "markdown",
   "id": "cb0d3af5",
   "metadata": {},
   "source": [
    "## 7. Plot graph"
   ]
  },
  {
   "cell_type": "markdown",
   "id": "249b6dc4",
   "metadata": {},
   "source": [
    "Plotting the graph on Folium."
   ]
  },
  {
   "cell_type": "code",
   "execution_count": null,
   "id": "4d1d6c67",
   "metadata": {},
   "outputs": [],
   "source": [
    "# plot_graph_on_folium(G_final, gdf_polygons=polygons_gdf, plot_waypoints=True)"
   ]
  },
  {
   "cell_type": "markdown",
   "id": "86efc230",
   "metadata": {},
   "source": [
    "# 8. Check graph\n",
    "\n",
    "Use diagnose_graph to check if all nodes and edges are added correctly. If some height are missed these can still be added by using fill_missing_edge_heights_from_gdf."
   ]
  },
  {
   "cell_type": "code",
   "execution_count": 18,
   "id": "59339eb2",
   "metadata": {},
   "outputs": [
    {
     "name": "stdout",
     "output_type": "stream",
     "text": [
      "GRAPH DIAGNOSTICS\n",
      "\n",
      "Graph is NOT fully connected. Components: 20896\n",
      "Component size distribution: Counter({1: 20495, 4: 97, 6: 66, 3: 28, 8: 28, 7: 22, 5: 21, 9: 13, 10: 12, 2: 11, 14: 11, 18: 11, 12: 10, 13: 7, 11: 7, 15: 4, 19: 4, 17: 4, 22: 3, 29: 3, 20: 2, 71: 2, 16: 2, 35: 2, 26: 2, 21: 2, 25: 2, 28: 2, 31: 2, 215866: 1, 110: 1, 181: 1, 40: 1, 53: 1, 112: 1, 65: 1, 24: 1, 38: 1, 127: 1, 61: 1, 66: 1, 56: 1, 34: 1, 69: 1, 43: 1, 44: 1, 39: 1, 46: 1, 83: 1, 36: 1})\n",
      "\n",
      "Node types (ntype):\n",
      " - postnl: 64\n",
      " - distribution: 1\n",
      " - line_intersection: 18874\n",
      " - waypoint: 44151\n",
      " - grid_point: 60592\n",
      " - polygon_boundary: 51415\n",
      " - poly_intersection: 65744\n",
      "\n",
      "Edge types (etype):\n",
      " - postnl_connector: 64\n",
      " - Regional roads: 25001\n",
      " - Pedestrian and cycling paths: 34763\n",
      " - connector: 25418\n",
      " - Tracks and rural access roads: 24274\n",
      " - Residential areas: 46413\n",
      " - Railways: 1636\n",
      " - Industrial zones: 5865\n",
      " - Meadows and open grass: 94811\n",
      " - Cultural sites: 3662\n",
      " - Motorways and major roads: 1452\n",
      " - Hospitals: 569\n",
      " - Living and residential streets: 1759\n",
      " - Commercial zones: 6799\n",
      " - Rivers, canals and streams: 3231\n",
      " - Forests and woodlands: 45687\n",
      " - Schools and universities: 2102\n",
      " - Retail zones: 1534\n",
      " - Wetlands: 3449\n",
      " - Agricultural lands: 24542\n",
      " - Power lines: 62\n",
      " - Recreational zones: 447\n",
      " - Religious sites: 220\n",
      " - Lakes and ponds: 399\n",
      " - Power plants: 545\n",
      " - High infrastructures: 61\n",
      " - Prisons: 1\n",
      "\n",
      " Missing node attributes:\n",
      " - geometry: 0 missing\n",
      " - ntype: 0 missing\n",
      "\n",
      "Missing edge attributes:\n",
      " - geometry: 0 missing\n",
      " - length: 0 missing\n",
      " - risk: 0 missing\n",
      " - height: 128 missing\n",
      " - etype: 0 missing\n",
      "\n",
      "Diagnostics complete.\n"
     ]
    }
   ],
   "source": [
    "diagnose_graph(G_final)"
   ]
  },
  {
   "cell_type": "code",
   "execution_count": 19,
   "id": "126909e8",
   "metadata": {},
   "outputs": [
    {
     "name": "stdout",
     "output_type": "stream",
     "text": [
      "Height map loaded from CSV: {'Motorways and major roads': 30.0, 'Regional roads': 30.0, 'Tracks and rural access roads': 30.0, 'Living and residential streets': 30.0, 'Pedestrian and cycling paths': 30.0, 'Railways': 30.0, 'Power lines': 60.0, 'Power plants': 60.0, 'Communication towers': 60.0, 'High infrastructures': 60.0, 'Industrial zones': 60.0, 'Commercial zones': 60.0, 'Retail zones': 60.0, 'Residential areas': 60.0, 'Recreational zones': 30.0, 'Agricultural lands': 30.0, 'Forests and woodlands': 30.0, 'Meadows and open grass': 30.0, 'Rivers, canals and streams': 30.0, 'Lakes and ponds': 30.0, 'Water reservoirs': 30.0, 'Wetlands': 30.0, 'Schools and universities': 30.0, 'Hospitals': 60.0, 'Prisons': 60.0, 'Religious sites': 30.0, 'Cultural sites': 30.0, 'Cemeteries': 30.0, 'Parks': 30.0, 'connector': 30.0}\n",
      "Patched edge ((110608.5, 402198.074) → POINT (110612.65480404728 402196.21864274645)) with height=30.0 from etype='Pedestrian and cycling paths'\n",
      "Patched edge ((109193.771, 402181.791) → POINT (109187.08291666074 402178.9985016073)) with height=30.0 from etype='Regional roads'\n",
      "Patched edge ((112236.309, 398845.877) → POINT (112248.59281570672 398843.18764165626)) with height=30.0 from etype='Regional roads'\n",
      "Patched edge ((110046.108, 401300.315) → POINT (110031.00270589114 401313.2728887563)) with height=30.0 from etype='Tracks and rural access roads'\n",
      "Patched edge ((116255.164, 400753.852) → POINT (116239.375 400749.823)) with height=30.0 from etype='Tracks and rural access roads'\n",
      "Patched edge ((110047.857, 399020.743) → POINT (110059.68507507829 399020.55595453444)) with height=30.0 from etype='Pedestrian and cycling paths'\n",
      "Patched edge ((114209.716, 399355.654) → POINT (114210.68890040454 399356.74169113865)) with height=30.0 from etype='Pedestrian and cycling paths'\n",
      "Patched edge ((114919.499, 400859.827) → POINT (114929.66634298154 400857.5996983674)) with height=30.0 from etype='Pedestrian and cycling paths'\n",
      "Patched edge ((110933.115, 404062.807) → POINT (110937.41262731663 404068.93832288805)) with height=30.0 from etype='Pedestrian and cycling paths'\n",
      "Patched edge ((114087.408, 397720.699) → POINT (114097.10156835063 397720.736453197)) with height=30.0 from etype='Pedestrian and cycling paths'\n",
      "Patched edge ((113361.84, 402796.989) → POINT (113363.7626234689 402811.08956720587)) with height=30.0 from etype='Regional roads'\n",
      "Patched edge ((106824.453, 398567.802) → POINT (106853.89249648902 398564.8406596755)) with height=30.0 from etype='Tracks and rural access roads'\n",
      "Patched edge ((113059.766, 399345.693) → POINT (113039.46380793092 399328.35104619217)) with height=30.0 from etype='Regional roads'\n",
      "Patched edge ((115585.755, 399539.971) → POINT (115578.21507747455 399535.9522168665)) with height=30.0 from etype='Tracks and rural access roads'\n",
      "Patched edge ((111667.862, 400456.86) → POINT (111684.22751925891 400459.11367032107)) with height=60.0 from etype='Commercial zones'\n",
      "Patched edge ((110466.719, 389306.457) → POINT (110419.28176194319 389324.094166149)) with height=30.0 from etype='Tracks and rural access roads'\n",
      "Patched edge ((116707.874, 400448.402) → POINT (116708.34148419857 400427.63381181203)) with height=30.0 from etype='Tracks and rural access roads'\n",
      "Patched edge ((109564.018, 399604.742) → POINT (109563.13040467404 399610.17050523794)) with height=30.0 from etype='Rivers, canals and streams'\n",
      "Patched edge ((110417.924, 402818.717) → POINT (110430.90699739025 402847.1916249602)) with height=30.0 from etype='Regional roads'\n",
      "Patched edge ((113183.038, 400487.35) → POINT (113198.90565674445 400483.50265041937)) with height=30.0 from etype='Pedestrian and cycling paths'\n",
      "Patched edge ((114930.934, 400857.322) → POINT (114929.66634298154 400857.5996983674)) with height=30.0 from etype='Pedestrian and cycling paths'\n",
      "Patched edge ((113209.879, 400480.842) → POINT (113198.90565674445 400483.50265041937)) with height=30.0 from etype='Pedestrian and cycling paths'\n",
      "Patched edge ((112432.771, 398188.99) → POINT (112435.73005925784 398193.80845655006)) with height=30.0 from etype='connector'\n",
      "Patched edge ((109713.581, 403931.923) → POINT (109719.23984808684 403936.91336489073)) with height=30.0 from etype='Regional roads'\n",
      "Patched edge ((110859.334, 398430.283) → POINT (110843.04155581148 398423.05519335123)) with height=30.0 from etype='Tracks and rural access roads'\n",
      "Patched edge ((109897.195, 399278.392) → POINT (109913.02174562382 399235.6465549801)) with height=30.0 from etype='Regional roads'\n",
      "Patched edge ((110625.172, 402190.629) → POINT (110612.65480404728 402196.21864274645)) with height=30.0 from etype='Pedestrian and cycling paths'\n",
      "Patched edge ((np.float64(111905.39), np.float64(399928.467)) → POINT (111859.9635465994 399896.80764748866)) with height=30.0 from etype='Regional roads'\n",
      "Patched edge ((np.float64(110984.172), np.float64(399119.771)) → POINT (110984.67364067229 399119.6664936812)) with height=30.0 from etype='Regional roads'\n",
      "Patched edge ((np.float64(110993.873), np.float64(399117.75)) → POINT (110984.67364067229 399119.6664936812)) with height=30.0 from etype='Regional roads'\n",
      "Patched edge ((np.float64(110817.455), np.float64(399923.251)) → POINT (110817.6146282305 399916.77615585487)) with height=60.0 from etype='Residential areas'\n",
      "Patched edge ((np.float64(109172.908), np.float64(402173.08)) → POINT (109187.08291666074 402178.9985016073)) with height=30.0 from etype='Regional roads'\n",
      "Patched edge ((np.float64(109797.387), np.float64(401907.536)) → POINT (109790.02963298 401906.38282851264)) with height=30.0 from etype='Regional roads'\n",
      "Patched edge ((np.float64(106979.855), np.float64(398552.17)) → POINT (106853.89249648902 398564.8406596755)) with height=30.0 from etype='Tracks and rural access roads'\n",
      "Patched edge ((np.float64(110433.45), np.float64(402852.769)) → POINT (110430.90699739025 402847.1916249602)) with height=30.0 from etype='Regional roads'\n",
      "Patched edge ((np.float64(109720.15), np.float64(403937.716)) → POINT (109719.23984808684 403936.91336489073)) with height=30.0 from etype='Regional roads'\n",
      "Patched edge ((np.float64(111124.706), np.float64(400014.44)) → POINT (111125.62603271869 400012.41516160266)) with height=30.0 from etype='Tracks and rural access roads'\n",
      "Patched edge ((np.float64(111130.228), np.float64(400002.287)) → POINT (111125.62603271869 400012.41516160266)) with height=30.0 from etype='Tracks and rural access roads'\n",
      "Patched edge ((np.float64(116239.375), np.float64(400749.823)) → POINT (116239.375 400749.823)) with height=30.0 from etype='Tracks and rural access roads'\n",
      "Patched edge ((np.float64(110341.539), np.float64(403961.459)) → POINT (110359.71201678715 403983.2248474496)) with height=30.0 from etype='Pedestrian and cycling paths'\n",
      "Patched edge ((np.float64(112209.213), np.float64(401090.138)) → POINT (112208.01441488501 401090.04343686224)) with height=30.0 from etype='connector'\n",
      "Patched edge ((np.float64(113668.457), np.float64(398072.377)) → POINT (113668.49669066462 398064.8673419449)) with height=60.0 from etype='Residential areas'\n",
      "Patched edge ((np.float64(109561.845), np.float64(399618.032)) → POINT (109563.13040467404 399610.17050523794)) with height=30.0 from etype='Rivers, canals and streams'\n",
      "Patched edge ((114590.27, 401876.857) → POINT (114590.26997073062 401880.58743854024)) with height=60.0 from etype='Commercial zones'\n",
      "Patched edge ((111531.782, 401737.999) → POINT (111531.78246324713 401772.24000411975)) with height=60.0 from etype='Industrial zones'\n",
      "Patched edge ((111531.782, 401787.999) → POINT (111531.78246324713 401772.24000411975)) with height=60.0 from etype='Industrial zones'\n",
      "Patched edge ((109618.085, 396234.978) → POINT (109618.08494436 396241.9102484932)) with height=60.0 from etype='Residential areas'\n",
      "Patched edge ((110938.745, 401250.541) → POINT (110961.69734140325 401250.54116862564)) with height=60.0 from etype='Industrial zones'\n",
      "Patched edge ((111438.745, 401300.541) → POINT (111458.3964455519 401300.54130509164)) with height=60.0 from etype='Industrial zones'\n",
      "Patched edge ((111488.745, 401300.541) → POINT (111458.3964455519 401300.54130509164)) with height=60.0 from etype='Industrial zones'\n",
      "Patched edge ((109768.725, 398221.756) → POINT (109798.67115910558 398222.8344796989)) with height=60.0 from etype='Residential areas'\n",
      "Patched edge ((110068.725, 398871.756) → POINT (110074.29078792538 398871.75583007874)) with height=60.0 from etype='Residential areas'\n",
      "Patched edge ((110818.725, 399871.756) → POINT (110817.6146282305 399916.77615585487)) with height=60.0 from etype='Residential areas'\n",
      "Patched edge ((111218.725, 398821.756) → POINT (111245.5473924064 398821.7558650386)) with height=60.0 from etype='Residential areas'\n",
      "Patched edge ((111968.725, 400121.756) → POINT (111973.50198870886 400121.7555325766)) with height=60.0 from etype='Residential areas'\n",
      "Patched edge ((112018.725, 400121.756) → POINT (111973.50198870886 400121.7555325766)) with height=60.0 from etype='Residential areas'\n",
      "Patched edge ((112518.725, 397721.756) → POINT (112518.72454875805 397765.11522921827)) with height=60.0 from etype='Residential areas'\n",
      "Patched edge ((112518.725, 397771.756) → POINT (112518.72454875805 397765.11522921827)) with height=60.0 from etype='Residential areas'\n",
      "Patched edge ((112768.725, 399871.756) → POINT (112768.72489341111 399891.23400346964)) with height=60.0 from etype='Residential areas'\n",
      "Patched edge ((112918.725, 400821.756) → POINT (112918.72466264052 400808.8039857487)) with height=60.0 from etype='Residential areas'\n",
      "Patched edge ((113068.725, 398521.756) → POINT (113116.39936378885 398521.687327145)) with height=60.0 from etype='Residential areas'\n",
      "Patched edge ((113218.725, 398071.756) → POINT (113202.99971915192 398071.75586181745)) with height=60.0 from etype='Residential areas'\n",
      "Patched edge ((113518.725, 402171.756) → POINT (113553.48413844302 402171.75592892873)) with height=60.0 from etype='Residential areas'\n",
      "Patched edge ((113568.725, 399821.756) → POINT (113568.72483433681 399791.03111898236)) with height=60.0 from etype='Residential areas'\n",
      "Patched edge ((113668.725, 398021.756) → POINT (113668.49669066462 398064.8673419449)) with height=60.0 from etype='Residential areas'\n",
      "Patched edge ((113818.725, 400271.756) → POINT (113829.2630519025 400271.75585596135)) with height=60.0 from etype='Residential areas'\n",
      "Patched edge ((113818.725, 401271.756) → POINT (113861.12892811613 401271.7559507153)) with height=60.0 from etype='Residential areas'\n",
      "Patched edge ((113968.725, 398621.756) → POINT (113968.72476325574 398636.9336682313)) with height=60.0 from etype='Residential areas'\n",
      "Patched edge ((114118.725, 402321.756) → POINT (114118.72483545472 402341.3811616654)) with height=60.0 from etype='Residential areas'\n",
      "Patched edge ((114768.725, 398321.756) → POINT (114768.72454875805 398361.39863793645)) with height=60.0 from etype='Residential areas'\n",
      "Patched edge ((114768.725, 398371.756) → POINT (114768.72454875805 398361.39863793645)) with height=60.0 from etype='Residential areas'\n",
      "Patched edge ((114768.725, 398371.756) → POINT (114754.4820008921 398371.7559324973)) with height=60.0 from etype='Residential areas'\n",
      "Patched edge ((109786.282, 403357.416) → POINT (109786.28192480328 403331.58822869114)) with height=60.0 from etype='Residential areas'\n",
      "Patched edge ((114703.369, 397788.106) → POINT (114703.36905036407 397788.1059782656)) with height=30.0 from etype='Meadows and open grass'\n",
      "Patched edge ((110529.515, 397712.008) → POINT (110526.3363129125 397715.9201147066)) with height=30.0 from etype='Meadows and open grass'\n",
      "Patched edge ((114414.421, 400364.732) → POINT (114411.22198268789 400362.1325556117)) with height=30.0 from etype='Pedestrian and cycling paths'\n",
      "Patched edge ((115829.464, 400196.937) → POINT (115820.6988008961 400196.6228513477)) with height=30.0 from etype='Pedestrian and cycling paths'\n",
      "Patched edge ((112195.89, 401089.087) → POINT (112208.01441488501 401090.04343686224)) with height=30.0 from etype='connector'\n",
      "Patched edge ((111078.831, 403244.059) → POINT (111086.36447712033 403244.45832525037)) with height=60.0 from etype='Industrial zones'\n",
      "Patched edge ((111128.915, 403246.715) → POINT (111086.36447712033 403244.45832525037)) with height=60.0 from etype='Industrial zones'\n",
      "Patched edge ((111718.732, 400463.865) → POINT (111684.22751925891 400459.11367032107)) with height=60.0 from etype='Commercial zones'\n",
      "Patched edge ((114305.056, 398174.994) → POINT (114284.76597225892 398194.0471027656)) with height=30.0 from etype='Meadows and open grass'\n",
      "Patched edge ((114712.982, 397780.394) → POINT (114703.36905036407 397788.1059782656)) with height=30.0 from etype='Meadows and open grass'\n",
      "Patched edge ((110521.223, 397722.212) → POINT (110526.3363129125 397715.9201147066)) with height=30.0 from etype='Meadows and open grass'\n",
      "Patched edge ((112436.357, 398194.829) → POINT (112435.73005925784 398193.80845655006)) with height=30.0 from etype='connector'\n",
      "Patched edge ((114532.536, 399664.733) → POINT (114534.42974463079 399651.02686207794)) with height=30.0 from etype='Meadows and open grass'\n",
      "Patched edge ((112774.882, 400226.556) → POINT (112775.95287129369 400225.12882157665)) with height=30.0 from etype='Meadows and open grass'\n",
      "Patched edge ((114946.362, 400069.045) → POINT (114954.67243812444 400071.1103243077)) with height=30.0 from etype='Meadows and open grass'\n",
      "Patched edge ((112785.44, 400212.488) → POINT (112775.95287129369 400225.12882157665)) with height=30.0 from etype='Meadows and open grass'\n",
      "Patched edge ((112918.725, 400770.437) → POINT (112918.72466264052 400808.8039857487)) with height=60.0 from etype='Residential areas'\n",
      "Patched edge ((113118.725, 398521.684) → POINT (113116.39936378885 398521.687327145)) with height=60.0 from etype='Residential areas'\n",
      "Patched edge ((114218.166, 399365.101) → POINT (114210.68890040454 399356.74169113865)) with height=30.0 from etype='Pedestrian and cycling paths'\n",
      "Patched edge ((109918.725, 399220.243) → POINT (109913.02174562382 399235.6465549801)) with height=30.0 from etype='Regional roads'\n",
      "Patched edge ((112268.725, 398838.78) → POINT (112248.59281570672 398843.18764165626)) with height=30.0 from etype='Regional roads'\n",
      "Patched edge ((109818.725, 398223.557) → POINT (109798.67115910558 398222.8344796989)) with height=60.0 from etype='Residential areas'\n",
      "Patched edge ((113833.957, 400271.756) → POINT (113829.2630519025 400271.75585596135)) with height=60.0 from etype='Residential areas'\n",
      "Patched edge ((110024.105, 401319.19) → POINT (110031.00270589114 401313.2728887563)) with height=30.0 from etype='Tracks and rural access roads'\n",
      "Patched edge ((113568.725, 399773.208) → POINT (113568.72483433681 399791.03111898236)) with height=60.0 from etype='Residential areas'\n",
      "Patched edge ((111256.436, 398821.756) → POINT (111245.5473924064 398821.7558650386)) with height=60.0 from etype='Residential areas'\n",
      "Patched edge ((114118.725, 402352.645) → POINT (114118.72483545472 402341.3811616654)) with height=60.0 from etype='Residential areas'\n",
      "Patched edge ((112768.725, 399897.258) → POINT (112768.72489341111 399891.23400346964)) with height=60.0 from etype='Residential areas'\n",
      "Patched edge ((109753.109, 401900.596) → POINT (109790.02963298 401906.38282851264)) with height=30.0 from etype='Regional roads'\n",
      "Patched edge ((113559.717, 402171.756) → POINT (113553.48413844302 402171.75592892873)) with height=60.0 from etype='Residential areas'\n",
      "Patched edge ((110411.953, 389326.819) → POINT (110419.28176194319 389324.094166149)) with height=30.0 from etype='Tracks and rural access roads'\n",
      "Patched edge ((110068.725, 399020.413) → POINT (110059.68507507829 399020.55595453444)) with height=30.0 from etype='Pedestrian and cycling paths'\n",
      "Patched edge ((114282.306, 398196.357) → POINT (114284.76597225892 398194.0471027656)) with height=30.0 from etype='Meadows and open grass'\n",
      "Patched edge ((109786.282, 403326.408) → POINT (109786.28192480328 403331.58822869114)) with height=60.0 from etype='Residential areas'\n",
      "Patched edge ((110942.839, 404076.68) → POINT (110937.41262731663 404068.93832288805)) with height=30.0 from etype='Pedestrian and cycling paths'\n",
      "Patched edge ((114118.725, 397720.82) → POINT (114097.10156835063 397720.736453197)) with height=30.0 from etype='Pedestrian and cycling paths'\n",
      "Patched edge ((113365.217, 402821.756) → POINT (113363.7626234689 402811.08956720587)) with height=30.0 from etype='Regional roads'\n",
      "Patched edge ((110077.47, 398871.756) → POINT (110074.29078792538 398871.75583007874)) with height=60.0 from etype='Residential areas'\n",
      "Patched edge ((113031.743, 399321.756) → POINT (113039.46380793092 399328.35104619217)) with height=30.0 from etype='Regional roads'\n",
      "Patched edge ((110990.059, 401250.541) → POINT (110961.69734140325 401250.54116862564)) with height=60.0 from etype='Industrial zones'\n",
      "Patched edge ((115568.725, 399530.894) → POINT (115578.21507747455 399535.9522168665)) with height=30.0 from etype='Tracks and rural access roads'\n",
      "Patched edge ((116708.739, 400409.974) → POINT (116708.34148419857 400427.63381181203)) with height=30.0 from etype='Tracks and rural access roads'\n",
      "Patched edge ((111818.725, 399868.067) → POINT (111859.9635465994 399896.80764748866)) with height=30.0 from etype='Regional roads'\n",
      "Patched edge ((114590.27, 401887.688) → POINT (114590.26997073062 401880.58743854024)) with height=60.0 from etype='Commercial zones'\n",
      "Patched edge ((110840.113, 398421.756) → POINT (110843.04155581148 398423.05519335123)) with height=30.0 from etype='Tracks and rural access roads'\n",
      "Patched edge ((113196.4, 398071.756) → POINT (113202.99971915192 398071.75586181745)) with height=60.0 from etype='Residential areas'\n",
      "Patched edge ((114409.944, 400361.094) → POINT (114411.22198268789 400362.1325556117)) with height=30.0 from etype='Pedestrian and cycling paths'\n",
      "Patched edge ((113968.725, 398653.686) → POINT (113968.72476325574 398636.9336682313)) with height=60.0 from etype='Residential areas'\n",
      "Patched edge ((109618.085, 396244.034) → POINT (109618.08494436 396241.9102484932)) with height=60.0 from etype='Residential areas'\n",
      "Patched edge ((110379.91, 404007.416) → POINT (110359.71201678715 403983.2248474496)) with height=30.0 from etype='Pedestrian and cycling paths'\n",
      "Patched edge ((113866.127, 401271.756) → POINT (113861.12892811613 401271.7559507153)) with height=60.0 from etype='Residential areas'\n",
      "Patched edge ((114752.078, 398371.756) → POINT (114754.4820008921 398371.7559324973)) with height=60.0 from etype='Residential areas'\n",
      "Patched edge ((114538.475, 399621.756) → POINT (114534.42974463079 399651.02686207794)) with height=30.0 from etype='Meadows and open grass'\n",
      "Patched edge ((114957.27, 400071.756) → POINT (114954.67243812444 400071.1103243077)) with height=30.0 from etype='Meadows and open grass'\n",
      "Patched edge ((115818.725, 400196.552) → POINT (115820.6988008961 400196.6228513477)) with height=30.0 from etype='Pedestrian and cycling paths'\n",
      "\n",
      "Total edges patched: 128\n",
      "0     30.0\n",
      "1     30.0\n",
      "2     30.0\n",
      "3     30.0\n",
      "4     30.0\n",
      "5     30.0\n",
      "6     60.0\n",
      "7     60.0\n",
      "8     60.0\n",
      "9     60.0\n",
      "10    60.0\n",
      "11    60.0\n",
      "12    60.0\n",
      "13    60.0\n",
      "14    30.0\n",
      "15    30.0\n",
      "16    30.0\n",
      "17    30.0\n",
      "18    30.0\n",
      "19    30.0\n",
      "20    30.0\n",
      "21    30.0\n",
      "22    30.0\n",
      "23    60.0\n",
      "24    60.0\n",
      "25    30.0\n",
      "26    30.0\n",
      "27    30.0\n",
      "28    30.0\n",
      "29     NaN\n",
      "30     NaN\n",
      "31    30.0\n",
      "Name: Height, dtype: float64\n"
     ]
    }
   ],
   "source": [
    "G_final = fill_missing_edge_heights_from_csv(G_final)\n"
   ]
  },
  {
   "cell_type": "code",
   "execution_count": 20,
   "id": "26e0e683",
   "metadata": {},
   "outputs": [
    {
     "name": "stdout",
     "output_type": "stream",
     "text": [
      "GRAPH DIAGNOSTICS\n",
      "\n",
      "Graph is NOT fully connected. Components: 20896\n",
      "Component size distribution: Counter({1: 20495, 4: 97, 6: 66, 3: 28, 8: 28, 7: 22, 5: 21, 9: 13, 10: 12, 2: 11, 14: 11, 18: 11, 12: 10, 13: 7, 11: 7, 15: 4, 19: 4, 17: 4, 22: 3, 29: 3, 20: 2, 71: 2, 16: 2, 35: 2, 26: 2, 21: 2, 25: 2, 28: 2, 31: 2, 215866: 1, 110: 1, 181: 1, 40: 1, 53: 1, 112: 1, 65: 1, 24: 1, 38: 1, 127: 1, 61: 1, 66: 1, 56: 1, 34: 1, 69: 1, 43: 1, 44: 1, 39: 1, 46: 1, 83: 1, 36: 1})\n",
      "\n",
      "Node types (ntype):\n",
      " - postnl: 64\n",
      " - distribution: 1\n",
      " - line_intersection: 18874\n",
      " - waypoint: 44151\n",
      " - grid_point: 60592\n",
      " - polygon_boundary: 51415\n",
      " - poly_intersection: 65744\n",
      "\n",
      "Edge types (etype):\n",
      " - postnl_connector: 64\n",
      " - Regional roads: 25001\n",
      " - Pedestrian and cycling paths: 34763\n",
      " - connector: 25418\n",
      " - Tracks and rural access roads: 24274\n",
      " - Residential areas: 46413\n",
      " - Railways: 1636\n",
      " - Industrial zones: 5865\n",
      " - Meadows and open grass: 94811\n",
      " - Cultural sites: 3662\n",
      " - Motorways and major roads: 1452\n",
      " - Hospitals: 569\n",
      " - Living and residential streets: 1759\n",
      " - Commercial zones: 6799\n",
      " - Rivers, canals and streams: 3231\n",
      " - Forests and woodlands: 45687\n",
      " - Schools and universities: 2102\n",
      " - Retail zones: 1534\n",
      " - Wetlands: 3449\n",
      " - Agricultural lands: 24542\n",
      " - Power lines: 62\n",
      " - Recreational zones: 447\n",
      " - Religious sites: 220\n",
      " - Lakes and ponds: 399\n",
      " - Power plants: 545\n",
      " - High infrastructures: 61\n",
      " - Prisons: 1\n",
      "\n",
      " Missing node attributes:\n",
      " - geometry: 0 missing\n",
      " - ntype: 0 missing\n",
      "\n",
      "Missing edge attributes:\n",
      " - geometry: 0 missing\n",
      " - length: 0 missing\n",
      " - risk: 0 missing\n",
      " - height: 0 missing\n",
      " - etype: 0 missing\n",
      "\n",
      "Diagnostics complete.\n"
     ]
    }
   ],
   "source": [
    "diagnose_graph(G_final)"
   ]
  },
  {
   "cell_type": "code",
   "execution_count": 21,
   "id": "bc219736",
   "metadata": {},
   "outputs": [
    {
     "name": "stdout",
     "output_type": "stream",
     "text": [
      "Graph saved to output/breda.pkl\n"
     ]
    }
   ],
   "source": [
    "with open(f\"output/{city}.pkl\", \"wb\") as f:\n",
    "    pickle.dump(G_final, f)\n",
    "\n",
    "print(f\"Graph saved to output/{city}.pkl\")"
   ]
  },
  {
   "cell_type": "code",
   "execution_count": null,
   "id": "d3a29070",
   "metadata": {},
   "outputs": [],
   "source": []
  }
 ],
 "metadata": {
  "kernelspec": {
   "display_name": "Python 3",
   "language": "python",
   "name": "python3"
  },
  "language_info": {
   "codemirror_mode": {
    "name": "ipython",
    "version": 3
   },
   "file_extension": ".py",
   "mimetype": "text/x-python",
   "name": "python",
   "nbconvert_exporter": "python",
   "pygments_lexer": "ipython3",
   "version": "3.13.2"
  }
 },
 "nbformat": 4,
 "nbformat_minor": 5
}
