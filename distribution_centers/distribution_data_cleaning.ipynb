{
 "cells": [
  {
   "cell_type": "markdown",
   "metadata": {},
   "source": [
    "# Data Cleaning of Distribution Centres\n",
    "\n",
    "The distribution centre data could not be reliably retrieved from OSM, so a dataset of PostNL depots in the Netherlands was obtained via Schuberg Philis. This dataset has been cleaned for use in the analysis."
   ]
  },
  {
   "cell_type": "code",
   "execution_count": null,
   "metadata": {},
   "outputs": [],
   "source": [
    "# Import necessary libraries\n",
    "import geopandas as gpd\n",
    "import pandas as pd\n",
    "import matplotlib.pyplot as plt\n",
    "from shapely.geometry import Point\n",
    "import contextily as ctx"
   ]
  },
  {
   "cell_type": "code",
   "execution_count": null,
   "metadata": {},
   "outputs": [],
   "source": [
    "postnl_distribution = pd.read_csv('../distribution_centers/data/postnl_depots_adjusted.csv')"
   ]
  },
  {
   "cell_type": "code",
   "execution_count": null,
   "metadata": {},
   "outputs": [],
   "source": [
    "# Only keep the depotLive = True columns\n",
    "postnl_distribution = postnl_distribution[postnl_distribution['depotLive'] == True]"
   ]
  },
  {
   "cell_type": "code",
   "execution_count": null,
   "metadata": {},
   "outputs": [],
   "source": [
    "# Only keep the Type = 'PostNL Sorteercentrum Pakketten'\n",
    "postnl_distribution = postnl_distribution[postnl_distribution['Type'] == 'PostNL Sorteercentrum Pakketten']"
   ]
  },
  {
   "cell_type": "code",
   "execution_count": null,
   "metadata": {},
   "outputs": [],
   "source": [
    "# Only keep the columns that are needed\n",
    "postnl_distribution = postnl_distribution[['depotAbbreviation', 'depotGpsLatitude', 'depotGpsLongitude', 'depotCity', 'depotId']]"
   ]
  },
  {
   "cell_type": "code",
   "execution_count": null,
   "metadata": {},
   "outputs": [],
   "source": [
    "# Create a GeoDataFrame\n",
    "geometry = [Point(xy) for xy in zip(postnl_distribution['depotGpsLongitude'], postnl_distribution['depotGpsLatitude'])]\n",
    "postnl_distribution = postnl_distribution.drop(['depotGpsLongitude', 'depotGpsLatitude'], axis=1)\n",
    "gdf_distribution = gpd.GeoDataFrame(postnl_distribution, crs=4326, geometry=geometry)"
   ]
  },
  {
   "cell_type": "code",
   "execution_count": null,
   "metadata": {},
   "outputs": [],
   "source": [
    "gdf_distribution['type'] = 'distribution'\n",
    "gdf_distribution.rename(columns={\"depotId\": \"id\"}, inplace=True)"
   ]
  },
  {
   "cell_type": "code",
   "execution_count": null,
   "metadata": {},
   "outputs": [],
   "source": [
    "gdf_distribution"
   ]
  },
  {
   "cell_type": "code",
   "execution_count": null,
   "metadata": {},
   "outputs": [],
   "source": [
    "gdf_distribution.to_file(\"../distribution_centers/output/postnl_distribution_cleaned.json\")"
   ]
  },
  {
   "cell_type": "code",
   "execution_count": null,
   "metadata": {},
   "outputs": [],
   "source": [
    "# Plotting the distribution depots on a map\n",
    "gdf = gdf_distribution.to_crs(epsg=3857)\n",
    "\n",
    "fig, ax = plt.subplots(figsize=(10, 10))\n",
    "gdf.plot(ax=ax, color=\"red\", markersize=40, edgecolor=\"black\")\n",
    "\n",
    "ctx.add_basemap(ax, source=ctx.providers.OpenStreetMap.Mapnik)\n",
    "\n",
    "for x, y, label in zip(gdf.geometry.x, gdf.geometry.y, gdf[\"depotAbbreviation\"]):\n",
    "    ax.text(x + 2000, y + 2000, label, fontsize=8)\n",
    "\n",
    "ax.set_axis_off()\n",
    "plt.title(\"Distribution Depots in the Netherlands\", fontsize=14)\n",
    "plt.tight_layout()\n",
    "plt.show()"
   ]
  },
  {
   "cell_type": "code",
   "execution_count": null,
   "metadata": {},
   "outputs": [],
   "source": []
  }
 ],
 "metadata": {
  "kernelspec": {
   "display_name": "Python 3",
   "language": "python",
   "name": "python3"
  },
  "language_info": {
   "codemirror_mode": {
    "name": "ipython",
    "version": 3
   },
   "file_extension": ".py",
   "mimetype": "text/x-python",
   "name": "python",
   "nbconvert_exporter": "python",
   "pygments_lexer": "ipython3",
   "version": "3.13.2"
  }
 },
 "nbformat": 4,
 "nbformat_minor": 2
}
