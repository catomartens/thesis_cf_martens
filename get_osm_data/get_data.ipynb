{
 "cells": [
  {
   "cell_type": "code",
   "execution_count": 76,
   "metadata": {},
   "outputs": [],
   "source": [
    "import osmnx as ox\n",
    "import pandas as pd\n",
    "import geopandas as gpd\n"
   ]
  },
  {
   "cell_type": "code",
   "execution_count": 77,
   "metadata": {},
   "outputs": [],
   "source": [
    "columns_to_keep = ['geometry', 'name', 'id', 'description', 'area_type', 'category']"
   ]
  },
  {
   "cell_type": "markdown",
   "metadata": {},
   "source": [
    "## Adapt the boundaries and file name to the desired environment to retrieve data from\n",
    "\n",
    "Make sure you created a folder"
   ]
  },
  {
   "cell_type": "code",
   "execution_count": 78,
   "metadata": {},
   "outputs": [],
   "source": [
    "# boundaries = [\n",
    "#     'Alphen aan den Rijn, Zuid-Holland, Netherlands',\n",
    "#     'Waddinxveen, Zuid-Holland, Netherlands',\n",
    "#     'Boskoop, Zuid-Holland, Netherlands'\n",
    "# ]\n",
    "\n",
    "# boundaries = ['Breda, Noord-Brabant, Netherlands']\n",
    "\n",
    "boundaries = ['Borsele, Zeeland, Netherlands']"
   ]
  },
  {
   "cell_type": "code",
   "execution_count": 79,
   "metadata": {},
   "outputs": [],
   "source": [
    "# file_name = 'alphen-waddinxveen.geojson'\n",
    "# file_name = 'breda.geojson'\n",
    "file_name = 'borsele.geojson'"
   ]
  },
  {
   "cell_type": "code",
   "execution_count": 80,
   "metadata": {},
   "outputs": [],
   "source": [
    "# folder_name = 'alphen-waddinxveen'\n",
    "# folder_name = 'breda'\n",
    "folder_name = 'borsele'"
   ]
  },
  {
   "cell_type": "markdown",
   "metadata": {},
   "source": [
    "# Mapping"
   ]
  },
  {
   "cell_type": "code",
   "execution_count": null,
   "metadata": {},
   "outputs": [],
   "source": [
    "def determine_area_type_from_row(row):\n",
    "    # Transportation\n",
    "    if \"highway\" in row:\n",
    "        if row[\"highway\"] in [\"motorway\", \"trunk\", \"primary\"]:\n",
    "            return \"Motorways and major roads\"\n",
    "        elif row[\"highway\"] in [\"secondary\", \"tertiary\", \"residential\"]:\n",
    "            return \"Regional roads\"\n",
    "        elif row[\"highway\"] in [\"track\", \"unclassified\", \"service\"]:\n",
    "            return \"Tracks and rural access roads\"\n",
    "        elif row[\"highway\"] in [\"footway\", \"cycleway\", \"path\", \"bridleway\" ,\"pedestrian\"]:\n",
    "            return \"Pedestrian and cycling paths\"\n",
    "        elif row[\"highway\"] in [\"living_street\"]:\n",
    "            return \"Living and residential streets\"\n",
    "\n",
    "    if \"railway\" in row and row[\"railway\"] in [\"rail\", \"light_rail\"]:\n",
    "        return \"Railways\"\n",
    "\n",
    "    if \"bridge\" in row and str(row[\"bridge\"]).lower() == \"yes\":\n",
    "        return \"Bridges\"\n",
    "\n",
    "    # Power-related\n",
    "    if \"power\" in row and row[\"power\"] in [\"line\", \"tower\"]:\n",
    "        return \"Power lines\"\n",
    "    if \"power\" in row and row[\"power\"] == \"plant\":\n",
    "        return \"Power plants\"\n",
    "\n",
    "    # Man-made infrastructure\n",
    "    if \"man_made\" in row:\n",
    "        val = row[\"man_made\"]\n",
    "        if val == \"waste_water_plant\":\n",
    "            return \"Power plants\"\n",
    "        elif val in [\"communications_tower\", \"mast\"]:\n",
    "            return \"Communication towers\"\n",
    "        elif val in [\"windmill\", \"wind_turbine\"]:\n",
    "            return \"Wind turbines\"\n",
    "        elif val in [\"water_tower\", \"silo\", \"chimney\", \"tank\"]:\n",
    "            return \"High infrastructures\"\n",
    "\n",
    "    # Land use types\n",
    "    if \"landuse\" in row:\n",
    "        val = row[\"landuse\"]\n",
    "        if val == \"industrial\":\n",
    "            return \"Industrial zones\"\n",
    "        elif val == \"commercial\":\n",
    "            return \"Commercial zones\"\n",
    "        elif val == \"retail\":\n",
    "            return \"Retail zones\"\n",
    "        elif val == \"residential\":\n",
    "            return \"Residential areas\"\n",
    "        elif val == \"recreation_ground\":\n",
    "            return \"Recreational zones\"\n",
    "        elif val in [\"farmland\", \"orchard\"]:\n",
    "            return \"Agricultural lands\"\n",
    "\n",
    "    # Nature areas\n",
    "    if \"landuse\" in row:\n",
    "        val = row[\"landuse\"]\n",
    "        if val in [\"forest\", \"wood\"]:\n",
    "            return \"Forests and woodlands\"\n",
    "        elif val in [\"meadow\", \"scrub\", \"grassland\", \"grass\"]:\n",
    "            return \"Meadows and open grass\"\n",
    "\n",
    "    if \"natural\" in row and row[\"natural\"] == \"wetland\":\n",
    "        return \"Wetlands\"\n",
    "\n",
    "    if \"wetland\" in row and row[\"wetland\"] in [\"marsh\", \"bog\", \"fen\"]:\n",
    "        return \"Wetlands\"\n",
    "\n",
    "    # Water areas\n",
    "    if \"waterway\" in row and row[\"waterway\"] in [\"river\", \"stream\", \"canal\"]:\n",
    "        return \"Rivers, canals and streams\"\n",
    "\n",
    "    if \"water\" in row and row[\"water\"] in [\"lake\", \"reservoir\", \"pond\"]:\n",
    "        return \"Lakes and ponds\"\n",
    "\n",
    "    if \"water\" in row and row[\"water\"] in [\"reservoir\"]:\n",
    "        return \"Reservoirs\"\n",
    "\n",
    "    # Public facilities\n",
    "    if \"amenity\" in row:\n",
    "        if row[\"amenity\"] in [\"school\", \"kindergarten\", \"university\"]:\n",
    "            return \"Schools and universities\"\n",
    "        if row[\"amenity\"] == \"hospital\":\n",
    "            return \"Hospitals\"\n",
    "        if row[\"amenity\"] == \"nursing_home\":\n",
    "            return \"Care homes\"\n",
    "        if row[\"amenity\"] == \"prison\":\n",
    "            return \"Prisons\"\n",
    "        if row[\"amenity\"] == \"place_of_worship\":\n",
    "            return \"Religious sites\"\n",
    "        if \"historic\" in row:\n",
    "            return \"Cultural sites\"\n",
    "        if \"tourism\" in row and row[\"tourism\"] == \"attraction\":\n",
    "            return \"Cultural sites\"\n",
    "        if \"landuse\" in row and row[\"landuse\"] == \"cemetery\":\n",
    "            return \"Cemeteries\"\n",
    "        if \"leisure\" in row and row[\"leisure\"] == \"park\":\n",
    "            return \"Parks\"\n",
    "\n",
    "    # Airports and aviation\n",
    "    if \"aeroway\" in row:\n",
    "        val = row[\"aeroway\"]\n",
    "        if val in [\"aerodrome\", \"airstrip\", \"heliport\", 'apron']:\n",
    "            return \"Airports and airfields\"\n",
    "        elif val == \"helipad\":\n",
    "            return \"Helipads\"\n",
    "        elif val in [\"runway\", \"aprons\"]:\n",
    "            return \"Runways and aprons\"\n",
    "        elif val in [\"terminal\", \"gate\"]:\n",
    "            return \"Passenger terminals\"\n",
    "        elif val in [\"hangar\"]:\n",
    "            return \"Hangars and support buildings\"\n",
    "\n",
    "    if \"man_made\" in row and row[\"man_made\"] == \"control_tower\":\n",
    "        return \"Hangars and support buildings\"\n",
    "\n",
    "\n",
    "    return \"Unknown\"\n",
    "\n"
   ]
  },
  {
   "cell_type": "markdown",
   "metadata": {},
   "source": [
    "## Transportation infrastructure"
   ]
  },
  {
   "cell_type": "code",
   "execution_count": 7,
   "metadata": {},
   "outputs": [],
   "source": [
    "transportation_tags = {\n",
    "    \"highway\": [\n",
    "        \"motorway\", \"trunk\", \"primary\",         # Motorways and major roads\n",
    "        \"secondary\", \"tertiary\", \"residential\", # Regional/local roads\n",
    "        \"living_street\",                        # Living streets    \n",
    "        \"track\", \"unclassified\", \"service\",     # Tracks and rural access roads\n",
    "        \"footway\", \"cycleway\", \"path\", \"bridleway\", \"pedestrian\"  # Pedestrian/cycling paths\n",
    "    ],\n",
    "    \"railway\": [\n",
    "        \"rail\", \"light_rail\"                    # Railways\n",
    "    ],\n",
    "    \"bridge\": [\n",
    "        \"yes\"                                   # Bridges and elevated corridors\n",
    "    ]\n",
    "}"
   ]
  },
  {
   "cell_type": "code",
   "execution_count": 8,
   "metadata": {},
   "outputs": [],
   "source": [
    "# Get data from OSM\n",
    "transportation_data = ox.features_from_place(boundaries, tags=transportation_tags)"
   ]
  },
  {
   "cell_type": "code",
   "execution_count": 9,
   "metadata": {},
   "outputs": [],
   "source": [
    "transportation_data.reset_index(inplace=True)"
   ]
  },
  {
   "cell_type": "code",
   "execution_count": 10,
   "metadata": {},
   "outputs": [],
   "source": [
    "transportation_data[\"area_type\"] = transportation_data.apply(determine_area_type_from_row, axis=1)\n"
   ]
  },
  {
   "cell_type": "code",
   "execution_count": 11,
   "metadata": {},
   "outputs": [],
   "source": [
    "transportation_data['category'] = \"Transportation\""
   ]
  },
  {
   "cell_type": "code",
   "execution_count": 12,
   "metadata": {},
   "outputs": [],
   "source": [
    "for column in columns_to_keep:\n",
    "    if column not in transportation_data.columns:\n",
    "        transportation_data[column] = None\n",
    "\n",
    "transportation_data = transportation_data[columns_to_keep]"
   ]
  },
  {
   "cell_type": "code",
   "execution_count": 13,
   "metadata": {},
   "outputs": [
    {
     "data": {
      "text/plain": [
       "array(['Pedestrian and cycling paths', 'Tracks and rural access roads',\n",
       "       'Regional roads', 'Living and residential streets',\n",
       "       'Motorways and major roads', 'Bridges', 'Railways'], dtype=object)"
      ]
     },
     "execution_count": 13,
     "metadata": {},
     "output_type": "execute_result"
    }
   ],
   "source": [
    "transportation_data['area_type'].unique()"
   ]
  },
  {
   "cell_type": "code",
   "execution_count": 14,
   "metadata": {},
   "outputs": [],
   "source": [
    "transportation_data.to_file(f'/Users/cmartens/Documents/Thesis/model/OSM_data/output/{folder_name}/transportation_{file_name}')"
   ]
  },
  {
   "cell_type": "markdown",
   "metadata": {},
   "source": [
    "## Energy/Industrial"
   ]
  },
  {
   "cell_type": "code",
   "execution_count": 15,
   "metadata": {},
   "outputs": [],
   "source": [
    "energy_industrial_tags = {\n",
    "    \"power\": [\"line\", \"plant\", \"tower\"],\n",
    "    \"man_made\": [\n",
    "        \"waste_water_plant\", \n",
    "        \"communications_tower\", \n",
    "        \"mast\", \n",
    "        \"windmill\", \n",
    "        \"wind_turbine\", \n",
    "        \"water_tower\", \n",
    "        \"silo\", \n",
    "        \"chimney\", \n",
    "        \"tank\"\n",
    "    ]\n",
    "}"
   ]
  },
  {
   "cell_type": "code",
   "execution_count": 16,
   "metadata": {},
   "outputs": [],
   "source": [
    "industrial_data = ox.features_from_place(boundaries, tags=energy_industrial_tags)"
   ]
  },
  {
   "cell_type": "code",
   "execution_count": 17,
   "metadata": {},
   "outputs": [],
   "source": [
    "industrial_data.reset_index(inplace=True)"
   ]
  },
  {
   "cell_type": "code",
   "execution_count": 18,
   "metadata": {},
   "outputs": [],
   "source": [
    "industrial_data['category'] = \"Energy/Industrial\""
   ]
  },
  {
   "cell_type": "code",
   "execution_count": 19,
   "metadata": {},
   "outputs": [],
   "source": [
    "industrial_data[\"area_type\"] = industrial_data.apply(determine_area_type_from_row, axis=1)\n"
   ]
  },
  {
   "cell_type": "code",
   "execution_count": 20,
   "metadata": {},
   "outputs": [],
   "source": [
    "industrial_data = industrial_data[columns_to_keep]"
   ]
  },
  {
   "cell_type": "code",
   "execution_count": 21,
   "metadata": {},
   "outputs": [
    {
     "data": {
      "text/html": [
       "<div>\n",
       "<style scoped>\n",
       "    .dataframe tbody tr th:only-of-type {\n",
       "        vertical-align: middle;\n",
       "    }\n",
       "\n",
       "    .dataframe tbody tr th {\n",
       "        vertical-align: top;\n",
       "    }\n",
       "\n",
       "    .dataframe thead th {\n",
       "        text-align: right;\n",
       "    }\n",
       "</style>\n",
       "<table border=\"1\" class=\"dataframe\">\n",
       "  <thead>\n",
       "    <tr style=\"text-align: right;\">\n",
       "      <th></th>\n",
       "      <th>geometry</th>\n",
       "      <th>name</th>\n",
       "      <th>id</th>\n",
       "      <th>description</th>\n",
       "      <th>area_type</th>\n",
       "      <th>category</th>\n",
       "    </tr>\n",
       "  </thead>\n",
       "  <tbody>\n",
       "    <tr>\n",
       "      <th>0</th>\n",
       "      <td>POINT (4.72504 52.1378)</td>\n",
       "      <td>NaN</td>\n",
       "      <td>32240050</td>\n",
       "      <td>NaN</td>\n",
       "      <td>Wind turbines</td>\n",
       "      <td>Energy/Industrial</td>\n",
       "    </tr>\n",
       "    <tr>\n",
       "      <th>1</th>\n",
       "      <td>POINT (4.63785 52.07556)</td>\n",
       "      <td>NaN</td>\n",
       "      <td>304794992</td>\n",
       "      <td>NaN</td>\n",
       "      <td>High infrastructures</td>\n",
       "      <td>Energy/Industrial</td>\n",
       "    </tr>\n",
       "    <tr>\n",
       "      <th>2</th>\n",
       "      <td>POINT (4.69774 52.11005)</td>\n",
       "      <td>Steektermolen</td>\n",
       "      <td>308551423</td>\n",
       "      <td>Poldermolen</td>\n",
       "      <td>Wind turbines</td>\n",
       "      <td>Energy/Industrial</td>\n",
       "    </tr>\n",
       "    <tr>\n",
       "      <th>3</th>\n",
       "      <td>POINT (4.67026 52.11973)</td>\n",
       "      <td>De Eendracht</td>\n",
       "      <td>356719351</td>\n",
       "      <td>Korenmolen</td>\n",
       "      <td>Wind turbines</td>\n",
       "      <td>Energy/Industrial</td>\n",
       "    </tr>\n",
       "    <tr>\n",
       "      <th>4</th>\n",
       "      <td>POINT (4.59431 52.12524)</td>\n",
       "      <td>De Rijnenburger</td>\n",
       "      <td>357384437</td>\n",
       "      <td>Poldermolen</td>\n",
       "      <td>Wind turbines</td>\n",
       "      <td>Energy/Industrial</td>\n",
       "    </tr>\n",
       "    <tr>\n",
       "      <th>...</th>\n",
       "      <td>...</td>\n",
       "      <td>...</td>\n",
       "      <td>...</td>\n",
       "      <td>...</td>\n",
       "      <td>...</td>\n",
       "      <td>...</td>\n",
       "    </tr>\n",
       "    <tr>\n",
       "      <th>279</th>\n",
       "      <td>LINESTRING (4.63629 52.12767, 4.63621 52.12778)</td>\n",
       "      <td>NaN</td>\n",
       "      <td>1342601330</td>\n",
       "      <td>NaN</td>\n",
       "      <td>Power lines</td>\n",
       "      <td>Energy/Industrial</td>\n",
       "    </tr>\n",
       "    <tr>\n",
       "      <th>280</th>\n",
       "      <td>LINESTRING (4.6361 52.12762, 4.63602 52.12773)</td>\n",
       "      <td>NaN</td>\n",
       "      <td>1342601331</td>\n",
       "      <td>NaN</td>\n",
       "      <td>Power lines</td>\n",
       "      <td>Energy/Industrial</td>\n",
       "    </tr>\n",
       "    <tr>\n",
       "      <th>281</th>\n",
       "      <td>LINESTRING (4.63573 52.1278, 4.63571 52.12783)</td>\n",
       "      <td>NaN</td>\n",
       "      <td>1342601337</td>\n",
       "      <td>NaN</td>\n",
       "      <td>Power lines</td>\n",
       "      <td>Energy/Industrial</td>\n",
       "    </tr>\n",
       "    <tr>\n",
       "      <th>282</th>\n",
       "      <td>LINESTRING (4.63571 52.1277, 4.63569 52.12774)</td>\n",
       "      <td>NaN</td>\n",
       "      <td>1342601338</td>\n",
       "      <td>NaN</td>\n",
       "      <td>Power lines</td>\n",
       "      <td>Energy/Industrial</td>\n",
       "    </tr>\n",
       "    <tr>\n",
       "      <th>283</th>\n",
       "      <td>LINESTRING (4.63637 52.12731, 4.6364 52.12728)</td>\n",
       "      <td>NaN</td>\n",
       "      <td>1342601340</td>\n",
       "      <td>NaN</td>\n",
       "      <td>Power lines</td>\n",
       "      <td>Energy/Industrial</td>\n",
       "    </tr>\n",
       "  </tbody>\n",
       "</table>\n",
       "<p>284 rows × 6 columns</p>\n",
       "</div>"
      ],
      "text/plain": [
       "                                            geometry             name  \\\n",
       "0                            POINT (4.72504 52.1378)              NaN   \n",
       "1                           POINT (4.63785 52.07556)              NaN   \n",
       "2                           POINT (4.69774 52.11005)    Steektermolen   \n",
       "3                           POINT (4.67026 52.11973)     De Eendracht   \n",
       "4                           POINT (4.59431 52.12524)  De Rijnenburger   \n",
       "..                                               ...              ...   \n",
       "279  LINESTRING (4.63629 52.12767, 4.63621 52.12778)              NaN   \n",
       "280   LINESTRING (4.6361 52.12762, 4.63602 52.12773)              NaN   \n",
       "281   LINESTRING (4.63573 52.1278, 4.63571 52.12783)              NaN   \n",
       "282   LINESTRING (4.63571 52.1277, 4.63569 52.12774)              NaN   \n",
       "283   LINESTRING (4.63637 52.12731, 4.6364 52.12728)              NaN   \n",
       "\n",
       "             id  description             area_type           category  \n",
       "0      32240050          NaN         Wind turbines  Energy/Industrial  \n",
       "1     304794992          NaN  High infrastructures  Energy/Industrial  \n",
       "2     308551423  Poldermolen         Wind turbines  Energy/Industrial  \n",
       "3     356719351   Korenmolen         Wind turbines  Energy/Industrial  \n",
       "4     357384437  Poldermolen         Wind turbines  Energy/Industrial  \n",
       "..          ...          ...                   ...                ...  \n",
       "279  1342601330          NaN           Power lines  Energy/Industrial  \n",
       "280  1342601331          NaN           Power lines  Energy/Industrial  \n",
       "281  1342601337          NaN           Power lines  Energy/Industrial  \n",
       "282  1342601338          NaN           Power lines  Energy/Industrial  \n",
       "283  1342601340          NaN           Power lines  Energy/Industrial  \n",
       "\n",
       "[284 rows x 6 columns]"
      ]
     },
     "execution_count": 21,
     "metadata": {},
     "output_type": "execute_result"
    }
   ],
   "source": [
    "industrial_data"
   ]
  },
  {
   "cell_type": "code",
   "execution_count": 22,
   "metadata": {},
   "outputs": [],
   "source": [
    "industrial_data.to_file(f'/Users/cmartens/Documents/Thesis/model/OSM_data/output/{folder_name}/energy_industrial_{file_name}')"
   ]
  },
  {
   "cell_type": "markdown",
   "metadata": {},
   "source": [
    "## Land use"
   ]
  },
  {
   "cell_type": "code",
   "execution_count": 23,
   "metadata": {},
   "outputs": [],
   "source": [
    "land_use_tags = {\n",
    "    \"landuse\": [\n",
    "        \"industrial\",\n",
    "        \"commercial\",\n",
    "        \"retail\",\n",
    "        \"residential\",\n",
    "        \"recreation_ground\",\n",
    "        \"farmland\",\n",
    "        \"orchard\"\n",
    "    ]\n",
    "}"
   ]
  },
  {
   "cell_type": "code",
   "execution_count": 24,
   "metadata": {},
   "outputs": [],
   "source": [
    "land_use_data = ox.features_from_place(boundaries, tags=land_use_tags)"
   ]
  },
  {
   "cell_type": "code",
   "execution_count": 25,
   "metadata": {},
   "outputs": [],
   "source": [
    "land_use_data.reset_index(inplace=True)"
   ]
  },
  {
   "cell_type": "code",
   "execution_count": 26,
   "metadata": {},
   "outputs": [],
   "source": [
    "land_use_data['category'] = \"Land use\""
   ]
  },
  {
   "cell_type": "code",
   "execution_count": 27,
   "metadata": {},
   "outputs": [],
   "source": [
    "land_use_data[\"area_type\"] = land_use_data.apply(determine_area_type_from_row, axis=1)"
   ]
  },
  {
   "cell_type": "code",
   "execution_count": 28,
   "metadata": {},
   "outputs": [],
   "source": [
    "for column in columns_to_keep:\n",
    "    if column not in land_use_data.columns:\n",
    "        land_use_data[column] = None\n",
    "\n",
    "land_use_data = land_use_data[columns_to_keep]"
   ]
  },
  {
   "cell_type": "code",
   "execution_count": 29,
   "metadata": {},
   "outputs": [
    {
     "data": {
      "text/html": [
       "<div>\n",
       "<style scoped>\n",
       "    .dataframe tbody tr th:only-of-type {\n",
       "        vertical-align: middle;\n",
       "    }\n",
       "\n",
       "    .dataframe tbody tr th {\n",
       "        vertical-align: top;\n",
       "    }\n",
       "\n",
       "    .dataframe thead th {\n",
       "        text-align: right;\n",
       "    }\n",
       "</style>\n",
       "<table border=\"1\" class=\"dataframe\">\n",
       "  <thead>\n",
       "    <tr style=\"text-align: right;\">\n",
       "      <th></th>\n",
       "      <th>geometry</th>\n",
       "      <th>name</th>\n",
       "      <th>id</th>\n",
       "      <th>description</th>\n",
       "      <th>area_type</th>\n",
       "      <th>category</th>\n",
       "    </tr>\n",
       "  </thead>\n",
       "  <tbody>\n",
       "    <tr>\n",
       "      <th>0</th>\n",
       "      <td>POLYGON ((4.6013 52.04019, 4.60232 52.03956, 4...</td>\n",
       "      <td>NaN</td>\n",
       "      <td>1364714</td>\n",
       "      <td>None</td>\n",
       "      <td>Agricultural lands</td>\n",
       "      <td>Land use</td>\n",
       "    </tr>\n",
       "    <tr>\n",
       "      <th>1</th>\n",
       "      <td>POLYGON ((4.63494 52.07313, 4.63499 52.07314, ...</td>\n",
       "      <td>NaN</td>\n",
       "      <td>8918862</td>\n",
       "      <td>None</td>\n",
       "      <td>Residential areas</td>\n",
       "      <td>Land use</td>\n",
       "    </tr>\n",
       "    <tr>\n",
       "      <th>2</th>\n",
       "      <td>MULTIPOLYGON (((4.65211 52.03166, 4.65177 52.0...</td>\n",
       "      <td>Coenecoop</td>\n",
       "      <td>12819471</td>\n",
       "      <td>None</td>\n",
       "      <td>Industrial zones</td>\n",
       "      <td>Land use</td>\n",
       "    </tr>\n",
       "    <tr>\n",
       "      <th>3</th>\n",
       "      <td>POLYGON ((4.57475 52.09095, 4.574 52.09099, 4....</td>\n",
       "      <td>NaN</td>\n",
       "      <td>15420092</td>\n",
       "      <td>None</td>\n",
       "      <td>Agricultural lands</td>\n",
       "      <td>Land use</td>\n",
       "    </tr>\n",
       "    <tr>\n",
       "      <th>4</th>\n",
       "      <td>MULTIPOLYGON (((4.61761 52.127, 4.62166 52.126...</td>\n",
       "      <td>Zonnepark Alphen aan den Rijn - N11</td>\n",
       "      <td>17884208</td>\n",
       "      <td>None</td>\n",
       "      <td>Power plants</td>\n",
       "      <td>Land use</td>\n",
       "    </tr>\n",
       "    <tr>\n",
       "      <th>...</th>\n",
       "      <td>...</td>\n",
       "      <td>...</td>\n",
       "      <td>...</td>\n",
       "      <td>...</td>\n",
       "      <td>...</td>\n",
       "      <td>...</td>\n",
       "    </tr>\n",
       "    <tr>\n",
       "      <th>627</th>\n",
       "      <td>POLYGON ((4.70239 52.09252, 4.70231 52.09246, ...</td>\n",
       "      <td>NaN</td>\n",
       "      <td>1387998613</td>\n",
       "      <td>None</td>\n",
       "      <td>Industrial zones</td>\n",
       "      <td>Land use</td>\n",
       "    </tr>\n",
       "    <tr>\n",
       "      <th>628</th>\n",
       "      <td>POLYGON ((4.62439 52.10661, 4.62438 52.10664, ...</td>\n",
       "      <td>NaN</td>\n",
       "      <td>1388510476</td>\n",
       "      <td>None</td>\n",
       "      <td>Agricultural lands</td>\n",
       "      <td>Land use</td>\n",
       "    </tr>\n",
       "    <tr>\n",
       "      <th>629</th>\n",
       "      <td>POLYGON ((4.54968 52.10665, 4.54969 52.10663, ...</td>\n",
       "      <td>NaN</td>\n",
       "      <td>1388752147</td>\n",
       "      <td>None</td>\n",
       "      <td>Industrial zones</td>\n",
       "      <td>Land use</td>\n",
       "    </tr>\n",
       "    <tr>\n",
       "      <th>630</th>\n",
       "      <td>POLYGON ((4.54794 52.10648, 4.54857 52.10664, ...</td>\n",
       "      <td>NaN</td>\n",
       "      <td>1388752153</td>\n",
       "      <td>None</td>\n",
       "      <td>Residential areas</td>\n",
       "      <td>Land use</td>\n",
       "    </tr>\n",
       "    <tr>\n",
       "      <th>631</th>\n",
       "      <td>POLYGON ((4.67794 52.09374, 4.67776 52.09375, ...</td>\n",
       "      <td>NaN</td>\n",
       "      <td>1388834907</td>\n",
       "      <td>None</td>\n",
       "      <td>Agricultural lands</td>\n",
       "      <td>Land use</td>\n",
       "    </tr>\n",
       "  </tbody>\n",
       "</table>\n",
       "<p>632 rows × 6 columns</p>\n",
       "</div>"
      ],
      "text/plain": [
       "                                              geometry  \\\n",
       "0    POLYGON ((4.6013 52.04019, 4.60232 52.03956, 4...   \n",
       "1    POLYGON ((4.63494 52.07313, 4.63499 52.07314, ...   \n",
       "2    MULTIPOLYGON (((4.65211 52.03166, 4.65177 52.0...   \n",
       "3    POLYGON ((4.57475 52.09095, 4.574 52.09099, 4....   \n",
       "4    MULTIPOLYGON (((4.61761 52.127, 4.62166 52.126...   \n",
       "..                                                 ...   \n",
       "627  POLYGON ((4.70239 52.09252, 4.70231 52.09246, ...   \n",
       "628  POLYGON ((4.62439 52.10661, 4.62438 52.10664, ...   \n",
       "629  POLYGON ((4.54968 52.10665, 4.54969 52.10663, ...   \n",
       "630  POLYGON ((4.54794 52.10648, 4.54857 52.10664, ...   \n",
       "631  POLYGON ((4.67794 52.09374, 4.67776 52.09375, ...   \n",
       "\n",
       "                                    name          id description  \\\n",
       "0                                    NaN     1364714        None   \n",
       "1                                    NaN     8918862        None   \n",
       "2                              Coenecoop    12819471        None   \n",
       "3                                    NaN    15420092        None   \n",
       "4    Zonnepark Alphen aan den Rijn - N11    17884208        None   \n",
       "..                                   ...         ...         ...   \n",
       "627                                  NaN  1387998613        None   \n",
       "628                                  NaN  1388510476        None   \n",
       "629                                  NaN  1388752147        None   \n",
       "630                                  NaN  1388752153        None   \n",
       "631                                  NaN  1388834907        None   \n",
       "\n",
       "              area_type  category  \n",
       "0    Agricultural lands  Land use  \n",
       "1     Residential areas  Land use  \n",
       "2      Industrial zones  Land use  \n",
       "3    Agricultural lands  Land use  \n",
       "4          Power plants  Land use  \n",
       "..                  ...       ...  \n",
       "627    Industrial zones  Land use  \n",
       "628  Agricultural lands  Land use  \n",
       "629    Industrial zones  Land use  \n",
       "630   Residential areas  Land use  \n",
       "631  Agricultural lands  Land use  \n",
       "\n",
       "[632 rows x 6 columns]"
      ]
     },
     "execution_count": 29,
     "metadata": {},
     "output_type": "execute_result"
    }
   ],
   "source": [
    "land_use_data"
   ]
  },
  {
   "cell_type": "code",
   "execution_count": 30,
   "metadata": {},
   "outputs": [],
   "source": [
    "land_use_data.to_file(f'/Users/cmartens/Documents/Thesis/model/OSM_data/output/{folder_name}/land_use_{file_name}')"
   ]
  },
  {
   "cell_type": "markdown",
   "metadata": {},
   "source": [
    "## Nature"
   ]
  },
  {
   "cell_type": "code",
   "execution_count": 31,
   "metadata": {},
   "outputs": [],
   "source": [
    "nature_tags = {\n",
    "    \"landuse\": [\"forest\", \"wood\", \"scrub\", \"meadow\", \"grass\", \"grassland\"],\n",
    "    \"natural\": [\"wetland\"],\n",
    "    \"wetland\": [\"marsh\", \"bog\", \"fen\"]\n",
    "}"
   ]
  },
  {
   "cell_type": "code",
   "execution_count": 32,
   "metadata": {},
   "outputs": [],
   "source": [
    "nature_data = ox.features_from_place(boundaries, tags=nature_tags)\n"
   ]
  },
  {
   "cell_type": "code",
   "execution_count": 33,
   "metadata": {},
   "outputs": [],
   "source": [
    "nature_data.reset_index(inplace=True)"
   ]
  },
  {
   "cell_type": "code",
   "execution_count": 34,
   "metadata": {},
   "outputs": [],
   "source": [
    "nature_data[\"area_type\"] = nature_data.apply(determine_area_type_from_row, axis=1)"
   ]
  },
  {
   "cell_type": "code",
   "execution_count": 35,
   "metadata": {},
   "outputs": [],
   "source": [
    "nature_data['category'] = \"Nature\""
   ]
  },
  {
   "cell_type": "code",
   "execution_count": 36,
   "metadata": {},
   "outputs": [],
   "source": [
    "for column in columns_to_keep:\n",
    "    if column not in nature_data.columns:\n",
    "        nature_data[column] = None\n",
    "\n",
    "nature_data = nature_data[columns_to_keep]"
   ]
  },
  {
   "cell_type": "code",
   "execution_count": 37,
   "metadata": {},
   "outputs": [
    {
     "data": {
      "text/html": [
       "<div>\n",
       "<style scoped>\n",
       "    .dataframe tbody tr th:only-of-type {\n",
       "        vertical-align: middle;\n",
       "    }\n",
       "\n",
       "    .dataframe tbody tr th {\n",
       "        vertical-align: top;\n",
       "    }\n",
       "\n",
       "    .dataframe thead th {\n",
       "        text-align: right;\n",
       "    }\n",
       "</style>\n",
       "<table border=\"1\" class=\"dataframe\">\n",
       "  <thead>\n",
       "    <tr style=\"text-align: right;\">\n",
       "      <th></th>\n",
       "      <th>geometry</th>\n",
       "      <th>name</th>\n",
       "      <th>id</th>\n",
       "      <th>description</th>\n",
       "      <th>area_type</th>\n",
       "      <th>category</th>\n",
       "    </tr>\n",
       "  </thead>\n",
       "  <tbody>\n",
       "    <tr>\n",
       "      <th>0</th>\n",
       "      <td>POLYGON ((4.69251 52.07553, 4.69254 52.07557, ...</td>\n",
       "      <td>NaN</td>\n",
       "      <td>1363235</td>\n",
       "      <td>NaN</td>\n",
       "      <td>Meadows and open grass</td>\n",
       "      <td>Nature</td>\n",
       "    </tr>\n",
       "    <tr>\n",
       "      <th>1</th>\n",
       "      <td>POLYGON ((4.6739 52.04866, 4.67385 52.04865, 4...</td>\n",
       "      <td>NaN</td>\n",
       "      <td>1363257</td>\n",
       "      <td>NaN</td>\n",
       "      <td>Meadows and open grass</td>\n",
       "      <td>Nature</td>\n",
       "    </tr>\n",
       "    <tr>\n",
       "      <th>2</th>\n",
       "      <td>POLYGON ((4.68556 52.07376, 4.68561 52.07386, ...</td>\n",
       "      <td>NaN</td>\n",
       "      <td>1363274</td>\n",
       "      <td>NaN</td>\n",
       "      <td>Meadows and open grass</td>\n",
       "      <td>Nature</td>\n",
       "    </tr>\n",
       "    <tr>\n",
       "      <th>3</th>\n",
       "      <td>POLYGON ((4.67879 52.06182, 4.67876 52.06175, ...</td>\n",
       "      <td>NaN</td>\n",
       "      <td>1363276</td>\n",
       "      <td>NaN</td>\n",
       "      <td>Meadows and open grass</td>\n",
       "      <td>Nature</td>\n",
       "    </tr>\n",
       "    <tr>\n",
       "      <th>4</th>\n",
       "      <td>POLYGON ((4.73308 52.13087, 4.73301 52.13091, ...</td>\n",
       "      <td>NaN</td>\n",
       "      <td>1364044</td>\n",
       "      <td>NaN</td>\n",
       "      <td>Meadows and open grass</td>\n",
       "      <td>Nature</td>\n",
       "    </tr>\n",
       "    <tr>\n",
       "      <th>...</th>\n",
       "      <td>...</td>\n",
       "      <td>...</td>\n",
       "      <td>...</td>\n",
       "      <td>...</td>\n",
       "      <td>...</td>\n",
       "      <td>...</td>\n",
       "    </tr>\n",
       "    <tr>\n",
       "      <th>8283</th>\n",
       "      <td>POLYGON ((4.62834 52.15712, 4.62858 52.15787, ...</td>\n",
       "      <td>NaN</td>\n",
       "      <td>1390446859</td>\n",
       "      <td>NaN</td>\n",
       "      <td>Meadows and open grass</td>\n",
       "      <td>Nature</td>\n",
       "    </tr>\n",
       "    <tr>\n",
       "      <th>8284</th>\n",
       "      <td>POLYGON ((4.62832 52.15712, 4.62831 52.1571, 4...</td>\n",
       "      <td>NaN</td>\n",
       "      <td>1390446860</td>\n",
       "      <td>NaN</td>\n",
       "      <td>Meadows and open grass</td>\n",
       "      <td>Nature</td>\n",
       "    </tr>\n",
       "    <tr>\n",
       "      <th>8285</th>\n",
       "      <td>POLYGON ((4.69037 52.08018, 4.6903 52.08018, 4...</td>\n",
       "      <td>NaN</td>\n",
       "      <td>1390471105</td>\n",
       "      <td>NaN</td>\n",
       "      <td>Meadows and open grass</td>\n",
       "      <td>Nature</td>\n",
       "    </tr>\n",
       "    <tr>\n",
       "      <th>8286</th>\n",
       "      <td>POLYGON ((4.69697 52.08049, 4.69472 52.08096, ...</td>\n",
       "      <td>NaN</td>\n",
       "      <td>1390471106</td>\n",
       "      <td>NaN</td>\n",
       "      <td>Meadows and open grass</td>\n",
       "      <td>Nature</td>\n",
       "    </tr>\n",
       "    <tr>\n",
       "      <th>8287</th>\n",
       "      <td>POLYGON ((4.63154 52.12098, 4.63131 52.12086, ...</td>\n",
       "      <td>NaN</td>\n",
       "      <td>1390782497</td>\n",
       "      <td>NaN</td>\n",
       "      <td>Meadows and open grass</td>\n",
       "      <td>Nature</td>\n",
       "    </tr>\n",
       "  </tbody>\n",
       "</table>\n",
       "<p>8288 rows × 6 columns</p>\n",
       "</div>"
      ],
      "text/plain": [
       "                                               geometry name          id  \\\n",
       "0     POLYGON ((4.69251 52.07553, 4.69254 52.07557, ...  NaN     1363235   \n",
       "1     POLYGON ((4.6739 52.04866, 4.67385 52.04865, 4...  NaN     1363257   \n",
       "2     POLYGON ((4.68556 52.07376, 4.68561 52.07386, ...  NaN     1363274   \n",
       "3     POLYGON ((4.67879 52.06182, 4.67876 52.06175, ...  NaN     1363276   \n",
       "4     POLYGON ((4.73308 52.13087, 4.73301 52.13091, ...  NaN     1364044   \n",
       "...                                                 ...  ...         ...   \n",
       "8283  POLYGON ((4.62834 52.15712, 4.62858 52.15787, ...  NaN  1390446859   \n",
       "8284  POLYGON ((4.62832 52.15712, 4.62831 52.1571, 4...  NaN  1390446860   \n",
       "8285  POLYGON ((4.69037 52.08018, 4.6903 52.08018, 4...  NaN  1390471105   \n",
       "8286  POLYGON ((4.69697 52.08049, 4.69472 52.08096, ...  NaN  1390471106   \n",
       "8287  POLYGON ((4.63154 52.12098, 4.63131 52.12086, ...  NaN  1390782497   \n",
       "\n",
       "     description               area_type category  \n",
       "0            NaN  Meadows and open grass   Nature  \n",
       "1            NaN  Meadows and open grass   Nature  \n",
       "2            NaN  Meadows and open grass   Nature  \n",
       "3            NaN  Meadows and open grass   Nature  \n",
       "4            NaN  Meadows and open grass   Nature  \n",
       "...          ...                     ...      ...  \n",
       "8283         NaN  Meadows and open grass   Nature  \n",
       "8284         NaN  Meadows and open grass   Nature  \n",
       "8285         NaN  Meadows and open grass   Nature  \n",
       "8286         NaN  Meadows and open grass   Nature  \n",
       "8287         NaN  Meadows and open grass   Nature  \n",
       "\n",
       "[8288 rows x 6 columns]"
      ]
     },
     "execution_count": 37,
     "metadata": {},
     "output_type": "execute_result"
    }
   ],
   "source": [
    "nature_data"
   ]
  },
  {
   "cell_type": "code",
   "execution_count": 38,
   "metadata": {},
   "outputs": [],
   "source": [
    "nature_data.to_file(f'/Users/cmartens/Documents/Thesis/model/OSM_data/output/{folder_name}/nature_{file_name}')"
   ]
  },
  {
   "cell_type": "markdown",
   "metadata": {},
   "source": [
    "## Water"
   ]
  },
  {
   "cell_type": "code",
   "execution_count": 39,
   "metadata": {},
   "outputs": [],
   "source": [
    "water_tags = {\n",
    "    \"waterway\": [\"river\", \"stream\", \"canal\"],\n",
    "    \"water\": [\"lake\", \"reservoir\", \"pond\", \"bog\", \"fen\"] \n",
    "}"
   ]
  },
  {
   "cell_type": "code",
   "execution_count": 40,
   "metadata": {},
   "outputs": [],
   "source": [
    "water_data = ox.features_from_place(boundaries, tags=water_tags)"
   ]
  },
  {
   "cell_type": "code",
   "execution_count": 41,
   "metadata": {},
   "outputs": [],
   "source": [
    "water_data.reset_index(inplace=True)"
   ]
  },
  {
   "cell_type": "code",
   "execution_count": 42,
   "metadata": {},
   "outputs": [],
   "source": [
    "water_data[\"area_type\"] = water_data.apply(determine_area_type_from_row, axis=1)\n"
   ]
  },
  {
   "cell_type": "code",
   "execution_count": 43,
   "metadata": {},
   "outputs": [],
   "source": [
    "water_data['category'] = \"Water\""
   ]
  },
  {
   "cell_type": "code",
   "execution_count": 44,
   "metadata": {},
   "outputs": [],
   "source": [
    "for column in columns_to_keep:\n",
    "    if column not in water_data.columns:\n",
    "        water_data[column] = None\n",
    "\n",
    "water_data = water_data[columns_to_keep]"
   ]
  },
  {
   "cell_type": "code",
   "execution_count": 45,
   "metadata": {},
   "outputs": [
    {
     "data": {
      "text/html": [
       "<div>\n",
       "<style scoped>\n",
       "    .dataframe tbody tr th:only-of-type {\n",
       "        vertical-align: middle;\n",
       "    }\n",
       "\n",
       "    .dataframe tbody tr th {\n",
       "        vertical-align: top;\n",
       "    }\n",
       "\n",
       "    .dataframe thead th {\n",
       "        text-align: right;\n",
       "    }\n",
       "</style>\n",
       "<table border=\"1\" class=\"dataframe\">\n",
       "  <thead>\n",
       "    <tr style=\"text-align: right;\">\n",
       "      <th></th>\n",
       "      <th>geometry</th>\n",
       "      <th>name</th>\n",
       "      <th>id</th>\n",
       "      <th>description</th>\n",
       "      <th>area_type</th>\n",
       "      <th>category</th>\n",
       "    </tr>\n",
       "  </thead>\n",
       "  <tbody>\n",
       "    <tr>\n",
       "      <th>0</th>\n",
       "      <td>LINESTRING (4.73915 52.12086, 4.73907 52.12087...</td>\n",
       "      <td>NaN</td>\n",
       "      <td>32761837</td>\n",
       "      <td>None</td>\n",
       "      <td>Rivers, canals and streams</td>\n",
       "      <td>Water</td>\n",
       "    </tr>\n",
       "    <tr>\n",
       "      <th>1</th>\n",
       "      <td>LINESTRING (4.73959 52.12132, 4.74007 52.12124)</td>\n",
       "      <td>NaN</td>\n",
       "      <td>33269068</td>\n",
       "      <td>None</td>\n",
       "      <td>Rivers, canals and streams</td>\n",
       "      <td>Water</td>\n",
       "    </tr>\n",
       "    <tr>\n",
       "      <th>2</th>\n",
       "      <td>LINESTRING (4.6322 52.08696, 4.63227 52.08697,...</td>\n",
       "      <td>NaN</td>\n",
       "      <td>54513879</td>\n",
       "      <td>None</td>\n",
       "      <td>Rivers, canals and streams</td>\n",
       "      <td>Water</td>\n",
       "    </tr>\n",
       "    <tr>\n",
       "      <th>3</th>\n",
       "      <td>LINESTRING (4.63535 52.08671, 4.63548 52.0867,...</td>\n",
       "      <td>NaN</td>\n",
       "      <td>54515031</td>\n",
       "      <td>None</td>\n",
       "      <td>Rivers, canals and streams</td>\n",
       "      <td>Water</td>\n",
       "    </tr>\n",
       "    <tr>\n",
       "      <th>4</th>\n",
       "      <td>LINESTRING (4.64627 52.08619, 4.64627 52.08635)</td>\n",
       "      <td>NaN</td>\n",
       "      <td>54516132</td>\n",
       "      <td>None</td>\n",
       "      <td>Rivers, canals and streams</td>\n",
       "      <td>Water</td>\n",
       "    </tr>\n",
       "    <tr>\n",
       "      <th>...</th>\n",
       "      <td>...</td>\n",
       "      <td>...</td>\n",
       "      <td>...</td>\n",
       "      <td>...</td>\n",
       "      <td>...</td>\n",
       "      <td>...</td>\n",
       "    </tr>\n",
       "    <tr>\n",
       "      <th>298</th>\n",
       "      <td>LINESTRING (4.53899 52.10469, 4.53909 52.10469)</td>\n",
       "      <td>Nieuwe Wetering</td>\n",
       "      <td>1388616653</td>\n",
       "      <td>None</td>\n",
       "      <td>Rivers, canals and streams</td>\n",
       "      <td>Water</td>\n",
       "    </tr>\n",
       "    <tr>\n",
       "      <th>299</th>\n",
       "      <td>LINESTRING (4.53796 52.1048, 4.53805 52.1048)</td>\n",
       "      <td>Nieuwe Wetering</td>\n",
       "      <td>1388616654</td>\n",
       "      <td>None</td>\n",
       "      <td>Rivers, canals and streams</td>\n",
       "      <td>Water</td>\n",
       "    </tr>\n",
       "    <tr>\n",
       "      <th>300</th>\n",
       "      <td>LINESTRING (4.5372 52.10485, 4.53796 52.1048)</td>\n",
       "      <td>Nieuwe Wetering</td>\n",
       "      <td>1388616655</td>\n",
       "      <td>None</td>\n",
       "      <td>Rivers, canals and streams</td>\n",
       "      <td>Water</td>\n",
       "    </tr>\n",
       "    <tr>\n",
       "      <th>301</th>\n",
       "      <td>LINESTRING (4.53709 52.10485, 4.5372 52.10485)</td>\n",
       "      <td>Nieuwe Wetering</td>\n",
       "      <td>1388616656</td>\n",
       "      <td>None</td>\n",
       "      <td>Rivers, canals and streams</td>\n",
       "      <td>Water</td>\n",
       "    </tr>\n",
       "    <tr>\n",
       "      <th>302</th>\n",
       "      <td>LINESTRING (4.53636 52.10491, 4.53686 52.10486...</td>\n",
       "      <td>Nieuwe Wetering</td>\n",
       "      <td>1388616657</td>\n",
       "      <td>None</td>\n",
       "      <td>Rivers, canals and streams</td>\n",
       "      <td>Water</td>\n",
       "    </tr>\n",
       "  </tbody>\n",
       "</table>\n",
       "<p>303 rows × 6 columns</p>\n",
       "</div>"
      ],
      "text/plain": [
       "                                              geometry             name  \\\n",
       "0    LINESTRING (4.73915 52.12086, 4.73907 52.12087...              NaN   \n",
       "1      LINESTRING (4.73959 52.12132, 4.74007 52.12124)              NaN   \n",
       "2    LINESTRING (4.6322 52.08696, 4.63227 52.08697,...              NaN   \n",
       "3    LINESTRING (4.63535 52.08671, 4.63548 52.0867,...              NaN   \n",
       "4      LINESTRING (4.64627 52.08619, 4.64627 52.08635)              NaN   \n",
       "..                                                 ...              ...   \n",
       "298    LINESTRING (4.53899 52.10469, 4.53909 52.10469)  Nieuwe Wetering   \n",
       "299      LINESTRING (4.53796 52.1048, 4.53805 52.1048)  Nieuwe Wetering   \n",
       "300      LINESTRING (4.5372 52.10485, 4.53796 52.1048)  Nieuwe Wetering   \n",
       "301     LINESTRING (4.53709 52.10485, 4.5372 52.10485)  Nieuwe Wetering   \n",
       "302  LINESTRING (4.53636 52.10491, 4.53686 52.10486...  Nieuwe Wetering   \n",
       "\n",
       "             id description                   area_type category  \n",
       "0      32761837        None  Rivers, canals and streams    Water  \n",
       "1      33269068        None  Rivers, canals and streams    Water  \n",
       "2      54513879        None  Rivers, canals and streams    Water  \n",
       "3      54515031        None  Rivers, canals and streams    Water  \n",
       "4      54516132        None  Rivers, canals and streams    Water  \n",
       "..          ...         ...                         ...      ...  \n",
       "298  1388616653        None  Rivers, canals and streams    Water  \n",
       "299  1388616654        None  Rivers, canals and streams    Water  \n",
       "300  1388616655        None  Rivers, canals and streams    Water  \n",
       "301  1388616656        None  Rivers, canals and streams    Water  \n",
       "302  1388616657        None  Rivers, canals and streams    Water  \n",
       "\n",
       "[303 rows x 6 columns]"
      ]
     },
     "execution_count": 45,
     "metadata": {},
     "output_type": "execute_result"
    }
   ],
   "source": [
    "water_data"
   ]
  },
  {
   "cell_type": "code",
   "execution_count": 46,
   "metadata": {},
   "outputs": [],
   "source": [
    "water_data.to_file(f'/Users/cmartens/Documents/Thesis/model/OSM_data/output/{folder_name}/water_{file_name}')"
   ]
  },
  {
   "cell_type": "markdown",
   "metadata": {},
   "source": [
    "## Public facility"
   ]
  },
  {
   "cell_type": "code",
   "execution_count": 47,
   "metadata": {},
   "outputs": [],
   "source": [
    "public_facility_tags = {\n",
    "    \"amenity\": [\n",
    "        \"school\",\n",
    "        \"kindergarten\",\n",
    "        \"university\",\n",
    "        \"hospital\",\n",
    "        \"nursing_home\",\n",
    "        \"prison\",\n",
    "        \"place_of_worship\"],\n",
    "    \"historic\": [\"*\"], \n",
    "    \"tourism\": [\"attraction\"],\n",
    "    \"landuse\": [\"cemetery\"],\n",
    "    \"leisure\": [\"park\"]\n",
    "}"
   ]
  },
  {
   "cell_type": "code",
   "execution_count": 48,
   "metadata": {},
   "outputs": [],
   "source": [
    "public_data = ox.features_from_place(boundaries, tags=public_facility_tags)"
   ]
  },
  {
   "cell_type": "code",
   "execution_count": 49,
   "metadata": {},
   "outputs": [],
   "source": [
    "public_data.reset_index(inplace=True)"
   ]
  },
  {
   "cell_type": "code",
   "execution_count": 50,
   "metadata": {},
   "outputs": [],
   "source": [
    "public_data['category'] = 'Public facility'"
   ]
  },
  {
   "cell_type": "code",
   "execution_count": 51,
   "metadata": {},
   "outputs": [],
   "source": [
    "public_data[\"area_type\"] = public_data.apply(determine_area_type_from_row, axis=1)"
   ]
  },
  {
   "cell_type": "code",
   "execution_count": 52,
   "metadata": {},
   "outputs": [],
   "source": [
    "for column in columns_to_keep:\n",
    "    if column not in public_data.columns:\n",
    "        public_data[column] = None\n",
    "\n",
    "public_data = public_data[columns_to_keep]"
   ]
  },
  {
   "cell_type": "code",
   "execution_count": 53,
   "metadata": {},
   "outputs": [
    {
     "data": {
      "text/html": [
       "<div>\n",
       "<style scoped>\n",
       "    .dataframe tbody tr th:only-of-type {\n",
       "        vertical-align: middle;\n",
       "    }\n",
       "\n",
       "    .dataframe tbody tr th {\n",
       "        vertical-align: top;\n",
       "    }\n",
       "\n",
       "    .dataframe thead th {\n",
       "        text-align: right;\n",
       "    }\n",
       "</style>\n",
       "<table border=\"1\" class=\"dataframe\">\n",
       "  <thead>\n",
       "    <tr style=\"text-align: right;\">\n",
       "      <th></th>\n",
       "      <th>geometry</th>\n",
       "      <th>name</th>\n",
       "      <th>id</th>\n",
       "      <th>description</th>\n",
       "      <th>area_type</th>\n",
       "      <th>category</th>\n",
       "    </tr>\n",
       "  </thead>\n",
       "  <tbody>\n",
       "    <tr>\n",
       "      <th>0</th>\n",
       "      <td>POINT (4.67317 52.1453)</td>\n",
       "      <td>Kerkelijk Centrum De Bron</td>\n",
       "      <td>588393739</td>\n",
       "      <td>NaN</td>\n",
       "      <td>Religious sites</td>\n",
       "      <td>Public facility</td>\n",
       "    </tr>\n",
       "    <tr>\n",
       "      <th>1</th>\n",
       "      <td>POINT (4.55353 52.07647)</td>\n",
       "      <td>School met de Bijbel</td>\n",
       "      <td>595699060</td>\n",
       "      <td>NaN</td>\n",
       "      <td>Schools and universities</td>\n",
       "      <td>Public facility</td>\n",
       "    </tr>\n",
       "    <tr>\n",
       "      <th>2</th>\n",
       "      <td>POINT (4.54713 52.07625)</td>\n",
       "      <td>Arnoldus van Os</td>\n",
       "      <td>595699063</td>\n",
       "      <td>NaN</td>\n",
       "      <td>Schools and universities</td>\n",
       "      <td>Public facility</td>\n",
       "    </tr>\n",
       "    <tr>\n",
       "      <th>3</th>\n",
       "      <td>POINT (4.65736 52.03629)</td>\n",
       "      <td>Koninkrijkszaal van Jehova's Getuigen</td>\n",
       "      <td>602522720</td>\n",
       "      <td>NaN</td>\n",
       "      <td>Religious sites</td>\n",
       "      <td>Public facility</td>\n",
       "    </tr>\n",
       "    <tr>\n",
       "      <th>4</th>\n",
       "      <td>POINT (4.66191 52.07526)</td>\n",
       "      <td>Vergadering van Gelovigen</td>\n",
       "      <td>602522728</td>\n",
       "      <td>NaN</td>\n",
       "      <td>Religious sites</td>\n",
       "      <td>Public facility</td>\n",
       "    </tr>\n",
       "    <tr>\n",
       "      <th>...</th>\n",
       "      <td>...</td>\n",
       "      <td>...</td>\n",
       "      <td>...</td>\n",
       "      <td>...</td>\n",
       "      <td>...</td>\n",
       "      <td>...</td>\n",
       "    </tr>\n",
       "    <tr>\n",
       "      <th>234</th>\n",
       "      <td>POLYGON ((4.67567 52.11966, 4.67586 52.11992, ...</td>\n",
       "      <td>Voormalige Begraafplaats Lage Zijde (Geruimd)</td>\n",
       "      <td>1339327572</td>\n",
       "      <td>NaN</td>\n",
       "      <td>Cultural sites</td>\n",
       "      <td>Public facility</td>\n",
       "    </tr>\n",
       "    <tr>\n",
       "      <th>235</th>\n",
       "      <td>POLYGON ((4.65086 52.11279, 4.65086 52.11291, ...</td>\n",
       "      <td>NaN</td>\n",
       "      <td>1355101282</td>\n",
       "      <td>NaN</td>\n",
       "      <td>Cultural sites</td>\n",
       "      <td>Public facility</td>\n",
       "    </tr>\n",
       "    <tr>\n",
       "      <th>236</th>\n",
       "      <td>POLYGON ((4.64993 52.11265, 4.64994 52.11277, ...</td>\n",
       "      <td>NaN</td>\n",
       "      <td>1355101283</td>\n",
       "      <td>NaN</td>\n",
       "      <td>Cultural sites</td>\n",
       "      <td>Public facility</td>\n",
       "    </tr>\n",
       "    <tr>\n",
       "      <th>237</th>\n",
       "      <td>POLYGON ((4.64157 52.11691, 4.64156 52.11691, ...</td>\n",
       "      <td>NaN</td>\n",
       "      <td>1355110261</td>\n",
       "      <td>NaN</td>\n",
       "      <td>Cultural sites</td>\n",
       "      <td>Public facility</td>\n",
       "    </tr>\n",
       "    <tr>\n",
       "      <th>238</th>\n",
       "      <td>POLYGON ((4.62906 52.13945, 4.6291 52.13945, 4...</td>\n",
       "      <td>NaN</td>\n",
       "      <td>1389474175</td>\n",
       "      <td>NaN</td>\n",
       "      <td>Cultural sites</td>\n",
       "      <td>Public facility</td>\n",
       "    </tr>\n",
       "  </tbody>\n",
       "</table>\n",
       "<p>239 rows × 6 columns</p>\n",
       "</div>"
      ],
      "text/plain": [
       "                                              geometry  \\\n",
       "0                              POINT (4.67317 52.1453)   \n",
       "1                             POINT (4.55353 52.07647)   \n",
       "2                             POINT (4.54713 52.07625)   \n",
       "3                             POINT (4.65736 52.03629)   \n",
       "4                             POINT (4.66191 52.07526)   \n",
       "..                                                 ...   \n",
       "234  POLYGON ((4.67567 52.11966, 4.67586 52.11992, ...   \n",
       "235  POLYGON ((4.65086 52.11279, 4.65086 52.11291, ...   \n",
       "236  POLYGON ((4.64993 52.11265, 4.64994 52.11277, ...   \n",
       "237  POLYGON ((4.64157 52.11691, 4.64156 52.11691, ...   \n",
       "238  POLYGON ((4.62906 52.13945, 4.6291 52.13945, 4...   \n",
       "\n",
       "                                              name          id description  \\\n",
       "0                        Kerkelijk Centrum De Bron   588393739         NaN   \n",
       "1                             School met de Bijbel   595699060         NaN   \n",
       "2                                  Arnoldus van Os   595699063         NaN   \n",
       "3            Koninkrijkszaal van Jehova's Getuigen   602522720         NaN   \n",
       "4                        Vergadering van Gelovigen   602522728         NaN   \n",
       "..                                             ...         ...         ...   \n",
       "234  Voormalige Begraafplaats Lage Zijde (Geruimd)  1339327572         NaN   \n",
       "235                                            NaN  1355101282         NaN   \n",
       "236                                            NaN  1355101283         NaN   \n",
       "237                                            NaN  1355110261         NaN   \n",
       "238                                            NaN  1389474175         NaN   \n",
       "\n",
       "                    area_type         category  \n",
       "0             Religious sites  Public facility  \n",
       "1    Schools and universities  Public facility  \n",
       "2    Schools and universities  Public facility  \n",
       "3             Religious sites  Public facility  \n",
       "4             Religious sites  Public facility  \n",
       "..                        ...              ...  \n",
       "234            Cultural sites  Public facility  \n",
       "235            Cultural sites  Public facility  \n",
       "236            Cultural sites  Public facility  \n",
       "237            Cultural sites  Public facility  \n",
       "238            Cultural sites  Public facility  \n",
       "\n",
       "[239 rows x 6 columns]"
      ]
     },
     "execution_count": 53,
     "metadata": {},
     "output_type": "execute_result"
    }
   ],
   "source": [
    "public_data"
   ]
  },
  {
   "cell_type": "code",
   "execution_count": 54,
   "metadata": {},
   "outputs": [],
   "source": [
    "public_data.to_file(f'/Users/cmartens/Documents/Thesis/model/OSM_data/output/{folder_name}/public_facilities_{file_name}')"
   ]
  },
  {
   "cell_type": "markdown",
   "metadata": {},
   "source": [
    "## Airspace/Aviation"
   ]
  },
  {
   "cell_type": "code",
   "execution_count": 55,
   "metadata": {},
   "outputs": [],
   "source": [
    "aviation_tags = {\n",
    "    \"aeroway\": [\n",
    "        \"aerodrome\",       # Airports and airfields\n",
    "        \"airstrip\",        # Basic landing strips\n",
    "        \"heliport\",        # Dedicated helicopter facilities\n",
    "        \"helipad\",         # Individual helicopter landing pads\n",
    "        \"runway\",          # Aircraft runways\n",
    "        \"taxiway\",         # Taxi paths for aircraft\n",
    "        \"apron\",           # Aircraft parking areas\n",
    "        \"terminal\",        # Passenger terminals\n",
    "        \"gate\",            # Boarding gates\n",
    "        \"hangar\",          # Aircraft storage buildings\n",
    "        \"control_tower\",   # Air traffic control towers\n",
    "        \"navigationaid\",   # Navigation aids like beacons\n",
    "        \"launchpad\",       # Rocket launch facilities\n",
    "        \"spaceport\",       # Spaceflight launch sites\n",
    "        \"highway_strip\"    # Roadways used as emergency runways\n",
    "    ],\n",
    "    \"man_made\": [\n",
    "        \"control_tower\"    # Air traffic control towers\n",
    "    ]\n",
    "}\n"
   ]
  },
  {
   "cell_type": "code",
   "execution_count": 56,
   "metadata": {},
   "outputs": [
    {
     "ename": "InsufficientResponseError",
     "evalue": "No matching features. Check query location, tags, and log.",
     "output_type": "error",
     "traceback": [
      "\u001b[0;31m---------------------------------------------------------------------------\u001b[0m",
      "\u001b[0;31mInsufficientResponseError\u001b[0m                 Traceback (most recent call last)",
      "Cell \u001b[0;32mIn[56], line 1\u001b[0m\n\u001b[0;32m----> 1\u001b[0m aviation_data \u001b[38;5;241m=\u001b[39m \u001b[43mox\u001b[49m\u001b[38;5;241;43m.\u001b[39;49m\u001b[43mfeatures_from_place\u001b[49m\u001b[43m(\u001b[49m\u001b[43mboundaries\u001b[49m\u001b[43m,\u001b[49m\u001b[43m \u001b[49m\u001b[43mtags\u001b[49m\u001b[38;5;241;43m=\u001b[39;49m\u001b[43maviation_tags\u001b[49m\u001b[43m)\u001b[49m\n",
      "File \u001b[0;32m~/Library/Python/3.13/lib/python/site-packages/osmnx/features.py:279\u001b[0m, in \u001b[0;36mfeatures_from_place\u001b[0;34m(query, tags, which_result)\u001b[0m\n\u001b[1;32m    276\u001b[0m utils\u001b[38;5;241m.\u001b[39mlog(msg, level\u001b[38;5;241m=\u001b[39mlg\u001b[38;5;241m.\u001b[39mINFO)\n\u001b[1;32m    278\u001b[0m \u001b[38;5;66;03m# create GeoDataFrame using this polygon(s) geometry\u001b[39;00m\n\u001b[0;32m--> 279\u001b[0m \u001b[38;5;28;01mreturn\u001b[39;00m \u001b[43mfeatures_from_polygon\u001b[49m\u001b[43m(\u001b[49m\u001b[43mpolygon\u001b[49m\u001b[43m,\u001b[49m\u001b[43m \u001b[49m\u001b[43mtags\u001b[49m\u001b[43m)\u001b[49m\n",
      "File \u001b[0;32m~/Library/Python/3.13/lib/python/site-packages/osmnx/features.py:332\u001b[0m, in \u001b[0;36mfeatures_from_polygon\u001b[0;34m(polygon, tags)\u001b[0m\n\u001b[1;32m    330\u001b[0m \u001b[38;5;66;03m# retrieve the data from Overpass then turn it into a GeoDataFrame\u001b[39;00m\n\u001b[1;32m    331\u001b[0m response_jsons \u001b[38;5;241m=\u001b[39m _overpass\u001b[38;5;241m.\u001b[39m_download_overpass_features(polygon, tags)\n\u001b[0;32m--> 332\u001b[0m \u001b[38;5;28;01mreturn\u001b[39;00m \u001b[43m_create_gdf\u001b[49m\u001b[43m(\u001b[49m\u001b[43mresponse_jsons\u001b[49m\u001b[43m,\u001b[49m\u001b[43m \u001b[49m\u001b[43mpolygon\u001b[49m\u001b[43m,\u001b[49m\u001b[43m \u001b[49m\u001b[43mtags\u001b[49m\u001b[43m)\u001b[49m\n",
      "File \u001b[0;32m~/Library/Python/3.13/lib/python/site-packages/osmnx/features.py:420\u001b[0m, in \u001b[0;36m_create_gdf\u001b[0;34m(response_jsons, polygon, tags)\u001b[0m\n\u001b[1;32m    415\u001b[0m     \u001b[38;5;28;01mraise\u001b[39;00m CacheOnlyInterruptError(msg)\n\u001b[1;32m    417\u001b[0m \u001b[38;5;66;03m# convert the elements into a GeoDataFrame of features\u001b[39;00m\n\u001b[1;32m    418\u001b[0m gdf \u001b[38;5;241m=\u001b[39m (\n\u001b[1;32m    419\u001b[0m     gpd\u001b[38;5;241m.\u001b[39mGeoDataFrame(\n\u001b[0;32m--> 420\u001b[0m         data\u001b[38;5;241m=\u001b[39m\u001b[43m_process_features\u001b[49m\u001b[43m(\u001b[49m\u001b[43melements\u001b[49m\u001b[43m,\u001b[49m\u001b[43m \u001b[49m\u001b[38;5;28;43mset\u001b[39;49m\u001b[43m(\u001b[49m\u001b[43mtags\u001b[49m\u001b[38;5;241;43m.\u001b[39;49m\u001b[43mkeys\u001b[49m\u001b[43m(\u001b[49m\u001b[43m)\u001b[49m\u001b[43m)\u001b[49m\u001b[43m)\u001b[49m,\n\u001b[1;32m    421\u001b[0m         geometry\u001b[38;5;241m=\u001b[39m\u001b[38;5;124m\"\u001b[39m\u001b[38;5;124mgeometry\u001b[39m\u001b[38;5;124m\"\u001b[39m,\n\u001b[1;32m    422\u001b[0m         crs\u001b[38;5;241m=\u001b[39msettings\u001b[38;5;241m.\u001b[39mdefault_crs,\n\u001b[1;32m    423\u001b[0m     )\n\u001b[1;32m    424\u001b[0m     \u001b[38;5;241m.\u001b[39mset_index([\u001b[38;5;124m\"\u001b[39m\u001b[38;5;124melement\u001b[39m\u001b[38;5;124m\"\u001b[39m, \u001b[38;5;124m\"\u001b[39m\u001b[38;5;124mid\u001b[39m\u001b[38;5;124m\"\u001b[39m])\n\u001b[1;32m    425\u001b[0m     \u001b[38;5;241m.\u001b[39msort_index()\n\u001b[1;32m    426\u001b[0m )\n\u001b[1;32m    427\u001b[0m \u001b[38;5;28;01mreturn\u001b[39;00m _filter_features(gdf, polygon, tags)\n",
      "File \u001b[0;32m~/Library/Python/3.13/lib/python/site-packages/osmnx/features.py:505\u001b[0m, in \u001b[0;36m_process_features\u001b[0;34m(elements, query_tag_keys)\u001b[0m\n\u001b[1;32m    503\u001b[0m \u001b[38;5;28;01mif\u001b[39;00m \u001b[38;5;28mlen\u001b[39m(features) \u001b[38;5;241m==\u001b[39m \u001b[38;5;241m0\u001b[39m:\n\u001b[1;32m    504\u001b[0m     msg \u001b[38;5;241m=\u001b[39m \u001b[38;5;124m\"\u001b[39m\u001b[38;5;124mNo matching features. Check query location, tags, and log.\u001b[39m\u001b[38;5;124m\"\u001b[39m\n\u001b[0;32m--> 505\u001b[0m     \u001b[38;5;28;01mraise\u001b[39;00m InsufficientResponseError(msg)\n\u001b[1;32m    507\u001b[0m \u001b[38;5;28;01mreturn\u001b[39;00m features\n",
      "\u001b[0;31mInsufficientResponseError\u001b[0m: No matching features. Check query location, tags, and log."
     ]
    }
   ],
   "source": [
    "aviation_data = ox.features_from_place(boundaries, tags=aviation_tags)"
   ]
  },
  {
   "cell_type": "code",
   "execution_count": 57,
   "metadata": {},
   "outputs": [
    {
     "ename": "NameError",
     "evalue": "name 'aviation_data' is not defined",
     "output_type": "error",
     "traceback": [
      "\u001b[0;31m---------------------------------------------------------------------------\u001b[0m",
      "\u001b[0;31mNameError\u001b[0m                                 Traceback (most recent call last)",
      "Cell \u001b[0;32mIn[57], line 1\u001b[0m\n\u001b[0;32m----> 1\u001b[0m \u001b[43maviation_data\u001b[49m\u001b[38;5;241m.\u001b[39mreset_index(inplace\u001b[38;5;241m=\u001b[39m\u001b[38;5;28;01mTrue\u001b[39;00m)\n",
      "\u001b[0;31mNameError\u001b[0m: name 'aviation_data' is not defined"
     ]
    }
   ],
   "source": [
    "aviation_data.reset_index(inplace=True)"
   ]
  },
  {
   "cell_type": "code",
   "execution_count": 58,
   "metadata": {},
   "outputs": [
    {
     "ename": "NameError",
     "evalue": "name 'aviation_data' is not defined",
     "output_type": "error",
     "traceback": [
      "\u001b[0;31m---------------------------------------------------------------------------\u001b[0m",
      "\u001b[0;31mNameError\u001b[0m                                 Traceback (most recent call last)",
      "Cell \u001b[0;32mIn[58], line 1\u001b[0m\n\u001b[0;32m----> 1\u001b[0m \u001b[43maviation_data\u001b[49m\n",
      "\u001b[0;31mNameError\u001b[0m: name 'aviation_data' is not defined"
     ]
    }
   ],
   "source": [
    "aviation_data"
   ]
  },
  {
   "cell_type": "code",
   "execution_count": 59,
   "metadata": {},
   "outputs": [
    {
     "ename": "NameError",
     "evalue": "name 'aviation_data' is not defined",
     "output_type": "error",
     "traceback": [
      "\u001b[0;31m---------------------------------------------------------------------------\u001b[0m",
      "\u001b[0;31mNameError\u001b[0m                                 Traceback (most recent call last)",
      "Cell \u001b[0;32mIn[59], line 1\u001b[0m\n\u001b[0;32m----> 1\u001b[0m aviation_data[\u001b[38;5;124m\"\u001b[39m\u001b[38;5;124marea_type\u001b[39m\u001b[38;5;124m\"\u001b[39m] \u001b[38;5;241m=\u001b[39m \u001b[43maviation_data\u001b[49m\u001b[38;5;241m.\u001b[39mapply(determine_area_type_from_row, axis\u001b[38;5;241m=\u001b[39m\u001b[38;5;241m1\u001b[39m)\n",
      "\u001b[0;31mNameError\u001b[0m: name 'aviation_data' is not defined"
     ]
    }
   ],
   "source": [
    "aviation_data[\"area_type\"] = aviation_data.apply(determine_area_type_from_row, axis=1)"
   ]
  },
  {
   "cell_type": "code",
   "execution_count": 60,
   "metadata": {},
   "outputs": [
    {
     "ename": "NameError",
     "evalue": "name 'aviation_data' is not defined",
     "output_type": "error",
     "traceback": [
      "\u001b[0;31m---------------------------------------------------------------------------\u001b[0m",
      "\u001b[0;31mNameError\u001b[0m                                 Traceback (most recent call last)",
      "Cell \u001b[0;32mIn[60], line 1\u001b[0m\n\u001b[0;32m----> 1\u001b[0m \u001b[43maviation_data\u001b[49m\n",
      "\u001b[0;31mNameError\u001b[0m: name 'aviation_data' is not defined"
     ]
    }
   ],
   "source": [
    "aviation_data"
   ]
  },
  {
   "cell_type": "code",
   "execution_count": 61,
   "metadata": {},
   "outputs": [
    {
     "ename": "NameError",
     "evalue": "name 'aviation_data' is not defined",
     "output_type": "error",
     "traceback": [
      "\u001b[0;31m---------------------------------------------------------------------------\u001b[0m",
      "\u001b[0;31mNameError\u001b[0m                                 Traceback (most recent call last)",
      "Cell \u001b[0;32mIn[61], line 1\u001b[0m\n\u001b[0;32m----> 1\u001b[0m \u001b[43maviation_data\u001b[49m[\u001b[38;5;124m'\u001b[39m\u001b[38;5;124mcategory\u001b[39m\u001b[38;5;124m'\u001b[39m] \u001b[38;5;241m=\u001b[39m \u001b[38;5;124m\"\u001b[39m\u001b[38;5;124mAirports/Aviation\u001b[39m\u001b[38;5;124m\"\u001b[39m\n",
      "\u001b[0;31mNameError\u001b[0m: name 'aviation_data' is not defined"
     ]
    }
   ],
   "source": [
    "aviation_data['category'] = \"Airports/Aviation\""
   ]
  },
  {
   "cell_type": "code",
   "execution_count": 62,
   "metadata": {},
   "outputs": [
    {
     "ename": "NameError",
     "evalue": "name 'aviation_data' is not defined",
     "output_type": "error",
     "traceback": [
      "\u001b[0;31m---------------------------------------------------------------------------\u001b[0m",
      "\u001b[0;31mNameError\u001b[0m                                 Traceback (most recent call last)",
      "Cell \u001b[0;32mIn[62], line 2\u001b[0m\n\u001b[1;32m      1\u001b[0m \u001b[38;5;28;01mfor\u001b[39;00m column \u001b[38;5;129;01min\u001b[39;00m columns_to_keep:\n\u001b[0;32m----> 2\u001b[0m     \u001b[38;5;28;01mif\u001b[39;00m column \u001b[38;5;129;01mnot\u001b[39;00m \u001b[38;5;129;01min\u001b[39;00m \u001b[43maviation_data\u001b[49m\u001b[38;5;241m.\u001b[39mcolumns:\n\u001b[1;32m      3\u001b[0m         aviation_data[column] \u001b[38;5;241m=\u001b[39m \u001b[38;5;28;01mNone\u001b[39;00m\n\u001b[1;32m      5\u001b[0m aviation_data \u001b[38;5;241m=\u001b[39m aviation_data[columns_to_keep]\n",
      "\u001b[0;31mNameError\u001b[0m: name 'aviation_data' is not defined"
     ]
    }
   ],
   "source": [
    "for column in columns_to_keep:\n",
    "    if column not in aviation_data.columns:\n",
    "        aviation_data[column] = None\n",
    "\n",
    "aviation_data = aviation_data[columns_to_keep]\n"
   ]
  },
  {
   "cell_type": "code",
   "execution_count": 63,
   "metadata": {},
   "outputs": [
    {
     "ename": "NameError",
     "evalue": "name 'aviation_data' is not defined",
     "output_type": "error",
     "traceback": [
      "\u001b[0;31m---------------------------------------------------------------------------\u001b[0m",
      "\u001b[0;31mNameError\u001b[0m                                 Traceback (most recent call last)",
      "Cell \u001b[0;32mIn[63], line 1\u001b[0m\n\u001b[0;32m----> 1\u001b[0m \u001b[43maviation_data\u001b[49m\n",
      "\u001b[0;31mNameError\u001b[0m: name 'aviation_data' is not defined"
     ]
    }
   ],
   "source": [
    "aviation_data"
   ]
  },
  {
   "cell_type": "code",
   "execution_count": 64,
   "metadata": {},
   "outputs": [
    {
     "ename": "NameError",
     "evalue": "name 'aviation_data' is not defined",
     "output_type": "error",
     "traceback": [
      "\u001b[0;31m---------------------------------------------------------------------------\u001b[0m",
      "\u001b[0;31mNameError\u001b[0m                                 Traceback (most recent call last)",
      "Cell \u001b[0;32mIn[64], line 1\u001b[0m\n\u001b[0;32m----> 1\u001b[0m \u001b[43maviation_data\u001b[49m\u001b[38;5;241m.\u001b[39mto_file(\u001b[38;5;124mf\u001b[39m\u001b[38;5;124m'\u001b[39m\u001b[38;5;124m/Users/cmartens/Documents/Thesis/model/OSM_data/output/\u001b[39m\u001b[38;5;132;01m{\u001b[39;00mfolder_name\u001b[38;5;132;01m}\u001b[39;00m\u001b[38;5;124m/aviation_\u001b[39m\u001b[38;5;132;01m{\u001b[39;00mfile_name\u001b[38;5;132;01m}\u001b[39;00m\u001b[38;5;124m'\u001b[39m)\n",
      "\u001b[0;31mNameError\u001b[0m: name 'aviation_data' is not defined"
     ]
    }
   ],
   "source": [
    "aviation_data.to_file(f'/Users/cmartens/Documents/Thesis/model/OSM_data/output/{folder_name}/aviation_{file_name}')"
   ]
  },
  {
   "cell_type": "markdown",
   "metadata": {},
   "source": [
    "# Postnl"
   ]
  },
  {
   "cell_type": "code",
   "execution_count": 65,
   "metadata": {},
   "outputs": [],
   "source": [
    "post_tags = {\"amenity\": [\"post_office\", \"post_box\", \"post_depot\"]}"
   ]
  },
  {
   "cell_type": "code",
   "execution_count": 66,
   "metadata": {},
   "outputs": [],
   "source": [
    "post_data = ox.features_from_place(boundaries, tags=post_tags)"
   ]
  },
  {
   "cell_type": "code",
   "execution_count": 67,
   "metadata": {},
   "outputs": [],
   "source": [
    "post_data.reset_index(inplace=True)"
   ]
  },
  {
   "cell_type": "code",
   "execution_count": 68,
   "metadata": {},
   "outputs": [],
   "source": [
    "for column in columns_to_keep:\n",
    "    if column not in post_data.columns:\n",
    "        post_data[column] = None\n",
    "\n",
    "post_data = post_data[columns_to_keep]"
   ]
  },
  {
   "cell_type": "code",
   "execution_count": 69,
   "metadata": {},
   "outputs": [],
   "source": [
    "post_data['area_type'] = 'postnl point'\n",
    "post_data['category'] = 'PostNL'"
   ]
  },
  {
   "cell_type": "code",
   "execution_count": 70,
   "metadata": {},
   "outputs": [
    {
     "data": {
      "text/html": [
       "<div>\n",
       "<style scoped>\n",
       "    .dataframe tbody tr th:only-of-type {\n",
       "        vertical-align: middle;\n",
       "    }\n",
       "\n",
       "    .dataframe tbody tr th {\n",
       "        vertical-align: top;\n",
       "    }\n",
       "\n",
       "    .dataframe thead th {\n",
       "        text-align: right;\n",
       "    }\n",
       "</style>\n",
       "<table border=\"1\" class=\"dataframe\">\n",
       "  <thead>\n",
       "    <tr style=\"text-align: right;\">\n",
       "      <th></th>\n",
       "      <th>geometry</th>\n",
       "      <th>name</th>\n",
       "      <th>id</th>\n",
       "      <th>description</th>\n",
       "      <th>area_type</th>\n",
       "      <th>category</th>\n",
       "    </tr>\n",
       "  </thead>\n",
       "  <tbody>\n",
       "    <tr>\n",
       "      <th>0</th>\n",
       "      <td>POINT (4.64633 52.04288)</td>\n",
       "      <td>NaN</td>\n",
       "      <td>302330426</td>\n",
       "      <td>None</td>\n",
       "      <td>postnl point</td>\n",
       "      <td>PostNL</td>\n",
       "    </tr>\n",
       "    <tr>\n",
       "      <th>1</th>\n",
       "      <td>POINT (4.63595 52.03715)</td>\n",
       "      <td>PostNL</td>\n",
       "      <td>302330621</td>\n",
       "      <td>None</td>\n",
       "      <td>postnl point</td>\n",
       "      <td>PostNL</td>\n",
       "    </tr>\n",
       "    <tr>\n",
       "      <th>2</th>\n",
       "      <td>POINT (4.66225 52.04385)</td>\n",
       "      <td>NaN</td>\n",
       "      <td>303648200</td>\n",
       "      <td>None</td>\n",
       "      <td>postnl point</td>\n",
       "      <td>PostNL</td>\n",
       "    </tr>\n",
       "    <tr>\n",
       "      <th>3</th>\n",
       "      <td>POINT (4.65306 52.03063)</td>\n",
       "      <td>NaN</td>\n",
       "      <td>311524912</td>\n",
       "      <td>None</td>\n",
       "      <td>postnl point</td>\n",
       "      <td>PostNL</td>\n",
       "    </tr>\n",
       "    <tr>\n",
       "      <th>4</th>\n",
       "      <td>POINT (4.6482 52.06488)</td>\n",
       "      <td>PostNL Pakketpunt</td>\n",
       "      <td>348127872</td>\n",
       "      <td>None</td>\n",
       "      <td>postnl point</td>\n",
       "      <td>PostNL</td>\n",
       "    </tr>\n",
       "    <tr>\n",
       "      <th>...</th>\n",
       "      <td>...</td>\n",
       "      <td>...</td>\n",
       "      <td>...</td>\n",
       "      <td>...</td>\n",
       "      <td>...</td>\n",
       "      <td>...</td>\n",
       "    </tr>\n",
       "    <tr>\n",
       "      <th>76</th>\n",
       "      <td>POINT (4.65087 52.12642)</td>\n",
       "      <td>NaN</td>\n",
       "      <td>7105101668</td>\n",
       "      <td>None</td>\n",
       "      <td>postnl point</td>\n",
       "      <td>PostNL</td>\n",
       "    </tr>\n",
       "    <tr>\n",
       "      <th>77</th>\n",
       "      <td>POINT (4.64873 52.13501)</td>\n",
       "      <td>NaN</td>\n",
       "      <td>7220656837</td>\n",
       "      <td>None</td>\n",
       "      <td>postnl point</td>\n",
       "      <td>PostNL</td>\n",
       "    </tr>\n",
       "    <tr>\n",
       "      <th>78</th>\n",
       "      <td>POINT (4.65486 52.0234)</td>\n",
       "      <td>NaN</td>\n",
       "      <td>8901678928</td>\n",
       "      <td>None</td>\n",
       "      <td>postnl point</td>\n",
       "      <td>PostNL</td>\n",
       "    </tr>\n",
       "    <tr>\n",
       "      <th>79</th>\n",
       "      <td>POINT (4.5786 52.09552)</td>\n",
       "      <td>NaN</td>\n",
       "      <td>11333642753</td>\n",
       "      <td>None</td>\n",
       "      <td>postnl point</td>\n",
       "      <td>PostNL</td>\n",
       "    </tr>\n",
       "    <tr>\n",
       "      <th>80</th>\n",
       "      <td>POINT (4.56989 52.12938)</td>\n",
       "      <td>NaN</td>\n",
       "      <td>11660022577</td>\n",
       "      <td>None</td>\n",
       "      <td>postnl point</td>\n",
       "      <td>PostNL</td>\n",
       "    </tr>\n",
       "  </tbody>\n",
       "</table>\n",
       "<p>81 rows × 6 columns</p>\n",
       "</div>"
      ],
      "text/plain": [
       "                    geometry               name           id description  \\\n",
       "0   POINT (4.64633 52.04288)                NaN    302330426        None   \n",
       "1   POINT (4.63595 52.03715)             PostNL    302330621        None   \n",
       "2   POINT (4.66225 52.04385)                NaN    303648200        None   \n",
       "3   POINT (4.65306 52.03063)                NaN    311524912        None   \n",
       "4    POINT (4.6482 52.06488)  PostNL Pakketpunt    348127872        None   \n",
       "..                       ...                ...          ...         ...   \n",
       "76  POINT (4.65087 52.12642)                NaN   7105101668        None   \n",
       "77  POINT (4.64873 52.13501)                NaN   7220656837        None   \n",
       "78   POINT (4.65486 52.0234)                NaN   8901678928        None   \n",
       "79   POINT (4.5786 52.09552)                NaN  11333642753        None   \n",
       "80  POINT (4.56989 52.12938)                NaN  11660022577        None   \n",
       "\n",
       "       area_type category  \n",
       "0   postnl point   PostNL  \n",
       "1   postnl point   PostNL  \n",
       "2   postnl point   PostNL  \n",
       "3   postnl point   PostNL  \n",
       "4   postnl point   PostNL  \n",
       "..           ...      ...  \n",
       "76  postnl point   PostNL  \n",
       "77  postnl point   PostNL  \n",
       "78  postnl point   PostNL  \n",
       "79  postnl point   PostNL  \n",
       "80  postnl point   PostNL  \n",
       "\n",
       "[81 rows x 6 columns]"
      ]
     },
     "execution_count": 70,
     "metadata": {},
     "output_type": "execute_result"
    }
   ],
   "source": [
    "post_data"
   ]
  },
  {
   "cell_type": "code",
   "execution_count": 71,
   "metadata": {},
   "outputs": [],
   "source": [
    "post_data.to_file(f'/Users/cmartens/Documents/Thesis/model/OSM_data/output/{folder_name}/post_{file_name}')"
   ]
  },
  {
   "cell_type": "markdown",
   "metadata": {},
   "source": [
    "# Concat"
   ]
  },
  {
   "cell_type": "code",
   "execution_count": 72,
   "metadata": {},
   "outputs": [],
   "source": [
    "categories = [\n",
    "    transportation_data,\n",
    "    industrial_data,\n",
    "    land_use_data,\n",
    "    nature_data,\n",
    "    water_data,\n",
    "    public_data,\n",
    "    #aviation_data,\n",
    "    post_data\n",
    "]\n",
    "\n",
    "# Filter out None\n",
    "categories = [cat for cat in categories if cat is not None]\n",
    "\n",
    "# Concat if there's anything to concat\n",
    "if categories:\n",
    "    df = pd.concat(categories, ignore_index=True)\n",
    "else:\n",
    "    print(\"No data to combine.\")\n"
   ]
  },
  {
   "cell_type": "code",
   "execution_count": 73,
   "metadata": {},
   "outputs": [
    {
     "name": "stdout",
     "output_type": "stream",
     "text": [
      "area_type\n",
      "Pedestrian and cycling paths      10106\n",
      "Tracks and rural access roads      6576\n",
      "Meadows and open grass             6384\n",
      "Regional roads                     4069\n",
      "Forests and woodlands              1853\n",
      "Living and residential streets      930\n",
      "Motorways and major roads           728\n",
      "Agricultural lands                  456\n",
      "Rivers, canals and streams          291\n",
      "Communication towers                208\n",
      "Railways                            152\n",
      "Residential areas                    98\n",
      "Schools and universities             97\n",
      "postnl point                         81\n",
      "Cultural sites                       73\n",
      "Religious sites                      63\n",
      "Industrial zones                     54\n",
      "Wetlands                             51\n",
      "Power lines                          40\n",
      "Wind turbines                        20\n",
      "Bridges                              17\n",
      "High infrastructures                 13\n",
      "Retail zones                         13\n",
      "Lakes and ponds                      12\n",
      "Recreational zones                    6\n",
      "Power plants                          5\n",
      "Commercial zones                      3\n",
      "Care homes                            2\n",
      "Prisons                               2\n",
      "Hospitals                             2\n",
      "Name: count, dtype: int64\n"
     ]
    }
   ],
   "source": [
    "with pd.option_context('display.max_rows', None, 'display.max_columns', None):\n",
    "    print(df['area_type'].value_counts())"
   ]
  },
  {
   "cell_type": "code",
   "execution_count": 74,
   "metadata": {},
   "outputs": [],
   "source": [
    "gdf = gpd.GeoDataFrame(df, crs=\"EPSG:4326\")"
   ]
  },
  {
   "cell_type": "code",
   "execution_count": 75,
   "metadata": {},
   "outputs": [],
   "source": [
    "gdf.to_file(f'/Users/cmartens/Documents/Thesis/model/OSM_data/output/{folder_name}/all_{file_name}', driver='GeoJSON')"
   ]
  },
  {
   "cell_type": "code",
   "execution_count": null,
   "metadata": {},
   "outputs": [],
   "source": []
  }
 ],
 "metadata": {
  "kernelspec": {
   "display_name": "Python 3",
   "language": "python",
   "name": "python3"
  },
  "language_info": {
   "codemirror_mode": {
    "name": "ipython",
    "version": 3
   },
   "file_extension": ".py",
   "mimetype": "text/x-python",
   "name": "python",
   "nbconvert_exporter": "python",
   "pygments_lexer": "ipython3",
   "version": "3.13.2"
  }
 },
 "nbformat": 4,
 "nbformat_minor": 2
}
